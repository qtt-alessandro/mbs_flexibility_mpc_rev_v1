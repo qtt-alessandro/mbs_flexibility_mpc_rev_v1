{
 "cells": [
  {
   "cell_type": "code",
   "execution_count": 1,
   "metadata": {},
   "outputs": [],
   "source": [
    "import polars as pl \n",
    "import numpy as np \n",
    "from tqdm import tqdm \n",
    "from datetime import datetime\n",
    "import matplotlib.pyplot as plt \n",
    "import pandas as pd \n",
    "import numpy as np\n",
    "from filterpy.kalman import KalmanFilter\n",
    "from tqdm import tqdm\n",
    "from filterpy.kalman import KalmanFilter\n",
    "import numpy as np"
   ]
  },
  {
   "cell_type": "code",
   "execution_count": 2,
   "metadata": {},
   "outputs": [],
   "source": [
    "df = pl.read_parquet(\"../data/static_models/pressure_miso.par\")"
   ]
  },
  {
   "cell_type": "code",
   "execution_count": 3,
   "metadata": {},
   "outputs": [
    {
     "data": {
      "text/html": [
       "<div><style>\n",
       ".dataframe > thead > tr,\n",
       ".dataframe > tbody > tr {\n",
       "  text-align: right;\n",
       "  white-space: pre-wrap;\n",
       "}\n",
       "</style>\n",
       "<small>shape: (15_109_618, 7)</small><table border=\"1\" class=\"dataframe\"><thead><tr><th>time</th><th>pump1_speed</th><th>pump4_speed</th><th>pump3_speed</th><th>outflow</th><th>pressure</th><th>level</th></tr><tr><td>datetime[ns, UTC]</td><td>f64</td><td>f64</td><td>f64</td><td>f64</td><td>f64</td><td>f64</td></tr></thead><tbody><tr><td>2023-05-01 00:00:00 UTC</td><td>0.0</td><td>780.0</td><td>0.0</td><td>187.0</td><td>0.541</td><td>152.0</td></tr><tr><td>2023-05-01 00:00:01 UTC</td><td>0.0</td><td>780.0</td><td>0.0</td><td>180.0</td><td>0.564</td><td>152.0</td></tr><tr><td>2023-05-01 00:00:02 UTC</td><td>0.0</td><td>780.0</td><td>0.0</td><td>174.0</td><td>0.553</td><td>152.0</td></tr><tr><td>2023-05-01 00:00:03 UTC</td><td>0.0</td><td>780.0</td><td>0.0</td><td>168.0</td><td>0.561</td><td>152.0</td></tr><tr><td>2023-05-01 00:00:04 UTC</td><td>0.0</td><td>780.0</td><td>0.0</td><td>167.0</td><td>0.561</td><td>152.0</td></tr><tr><td>&hellip;</td><td>&hellip;</td><td>&hellip;</td><td>&hellip;</td><td>&hellip;</td><td>&hellip;</td><td>&hellip;</td></tr><tr><td>2024-02-16 11:27:02 UTC</td><td>1020.0</td><td>0.0</td><td>1020.0</td><td>751.0</td><td>0.648148</td><td>176.0</td></tr><tr><td>2024-02-16 11:27:03 UTC</td><td>1020.0</td><td>0.0</td><td>1020.0</td><td>730.0</td><td>0.648148</td><td>176.0</td></tr><tr><td>2024-02-16 11:27:04 UTC</td><td>1020.0</td><td>0.0</td><td>1020.0</td><td>720.0</td><td>0.651042</td><td>176.0</td></tr><tr><td>2024-02-16 11:27:05 UTC</td><td>1020.0</td><td>0.0</td><td>1020.0</td><td>717.0</td><td>0.653935</td><td>176.0</td></tr><tr><td>2024-02-16 11:27:06 UTC</td><td>1020.0</td><td>0.0</td><td>1020.0</td><td>721.0</td><td>0.651042</td><td>176.0</td></tr></tbody></table></div>"
      ],
      "text/plain": [
       "shape: (15_109_618, 7)\n",
       "┌─────────────────────────┬─────────────┬─────────────┬─────────────┬─────────┬──────────┬───────┐\n",
       "│ time                    ┆ pump1_speed ┆ pump4_speed ┆ pump3_speed ┆ outflow ┆ pressure ┆ level │\n",
       "│ ---                     ┆ ---         ┆ ---         ┆ ---         ┆ ---     ┆ ---      ┆ ---   │\n",
       "│ datetime[ns, UTC]       ┆ f64         ┆ f64         ┆ f64         ┆ f64     ┆ f64      ┆ f64   │\n",
       "╞═════════════════════════╪═════════════╪═════════════╪═════════════╪═════════╪══════════╪═══════╡\n",
       "│ 2023-05-01 00:00:00 UTC ┆ 0.0         ┆ 780.0       ┆ 0.0         ┆ 187.0   ┆ 0.541    ┆ 152.0 │\n",
       "│ 2023-05-01 00:00:01 UTC ┆ 0.0         ┆ 780.0       ┆ 0.0         ┆ 180.0   ┆ 0.564    ┆ 152.0 │\n",
       "│ 2023-05-01 00:00:02 UTC ┆ 0.0         ┆ 780.0       ┆ 0.0         ┆ 174.0   ┆ 0.553    ┆ 152.0 │\n",
       "│ 2023-05-01 00:00:03 UTC ┆ 0.0         ┆ 780.0       ┆ 0.0         ┆ 168.0   ┆ 0.561    ┆ 152.0 │\n",
       "│ 2023-05-01 00:00:04 UTC ┆ 0.0         ┆ 780.0       ┆ 0.0         ┆ 167.0   ┆ 0.561    ┆ 152.0 │\n",
       "│ …                       ┆ …           ┆ …           ┆ …           ┆ …       ┆ …        ┆ …     │\n",
       "│ 2024-02-16 11:27:02 UTC ┆ 1020.0      ┆ 0.0         ┆ 1020.0      ┆ 751.0   ┆ 0.648148 ┆ 176.0 │\n",
       "│ 2024-02-16 11:27:03 UTC ┆ 1020.0      ┆ 0.0         ┆ 1020.0      ┆ 730.0   ┆ 0.648148 ┆ 176.0 │\n",
       "│ 2024-02-16 11:27:04 UTC ┆ 1020.0      ┆ 0.0         ┆ 1020.0      ┆ 720.0   ┆ 0.651042 ┆ 176.0 │\n",
       "│ 2024-02-16 11:27:05 UTC ┆ 1020.0      ┆ 0.0         ┆ 1020.0      ┆ 717.0   ┆ 0.653935 ┆ 176.0 │\n",
       "│ 2024-02-16 11:27:06 UTC ┆ 1020.0      ┆ 0.0         ┆ 1020.0      ┆ 721.0   ┆ 0.651042 ┆ 176.0 │\n",
       "└─────────────────────────┴─────────────┴─────────────┴─────────────┴─────────┴──────────┴───────┘"
      ]
     },
     "execution_count": 3,
     "metadata": {},
     "output_type": "execute_result"
    }
   ],
   "source": [
    "df"
   ]
  },
  {
   "cell_type": "code",
   "execution_count": 5,
   "metadata": {},
   "outputs": [],
   "source": [
    "pump1_df = pl.read_parquet(\"../data/static_models/pump1_power_siso.par\")\n",
    "pump2_df = pl.read_parquet(\"../data/static_models/pump4_power_siso.par\")\n",
    "pump3_df = pl.read_parquet(\"../data/static_models/pump3_power_siso.par\")"
   ]
  },
  {
   "cell_type": "code",
   "execution_count": 22,
   "metadata": {},
   "outputs": [],
   "source": [
    "df = df.join(pump1_df.drop([\"pump1_speed\"]), on=\"time\").join(pump2_df.drop([\"pump4_speed\"]), on=\"time\").join(pump3_df.drop([\"pump3_speed\"]), on=\"time\")"
   ]
  },
  {
   "cell_type": "code",
   "execution_count": 26,
   "metadata": {},
   "outputs": [
    {
     "name": "stderr",
     "output_type": "stream",
     "text": [
      "Processing: 100%|█████████▉| 15109617/15109618 [09:04<00:00, 27742.48it/s]\n"
     ]
    }
   ],
   "source": [
    "t = 1\n",
    "area = 18\n",
    "initial_Qin = df[0, 4]\n",
    "initial_Qout = df[0, 4]\n",
    "initial_h = df[0, 6]\n",
    "# Given error estimates\n",
    "error_est_Qin = 1e-7\n",
    "error_est_h = 0.1\n",
    "error_est_Qout = 0.1\n",
    "\n",
    "error_obs_h = 0.001\n",
    "error_obs_Qout = 0.1\n",
    "\n",
    "A = np.array([[1, 0, 0], [t/area, 1, -t/area], [0, 0, 1]])\n",
    "\n",
    "# Define the initial state (replace initial_Qin, initial_h, initial_Qout with actual initial values)\n",
    "initial_Qin = 0.0\n",
    "initial_h = 0.0\n",
    "initial_Qout = 0.0\n",
    "\n",
    "# Initialize the Kalman Filter\n",
    "kf = KalmanFilter(dim_x=3, dim_z=2)\n",
    "kf.x = np.array([initial_Qin, initial_h, initial_Qout])  # Initial state\n",
    "kf.F = A\n",
    "kf.H = np.array([[0, 1, 0], [0, 0, 1]])  # Observation matrix\n",
    "\n",
    "# Define the process noise covariance matrix (V)\n",
    "kf.Q = np.diag([error_est_Qin, error_est_h, error_est_Qout])\n",
    "\n",
    "# Define the observation noise covariance matrix (W)\n",
    "kf.R = np.diag([error_obs_h, error_obs_Qout])\n",
    "\n",
    "# Simulate the process\n",
    "progress_bar = tqdm(total=len(df), desc=\"Processing\")\n",
    "height_kf = []\n",
    "inflow_kf = []\n",
    "outflow_kf = []\n",
    "\n",
    "for index in range(1, df.shape[0]):\n",
    "    kf.predict()\n",
    "    measurement = np.array([df[index, 6], df[index, 4]])\n",
    "    kf.update(measurement)\n",
    "    estimates = kf.x.copy()\n",
    "    inflow_kf.append(estimates[0])\n",
    "    height_kf.append(estimates[1])\n",
    "    outflow_kf.append(estimates[2])\n",
    "    progress_bar.update(1)  # Update the progress bar\n",
    "\n",
    "progress_bar.close()  # Close the progress bar when done\n"
   ]
  },
  {
   "cell_type": "code",
   "execution_count": 27,
   "metadata": {},
   "outputs": [],
   "source": [
    "data = {\"inflow_kf\": inflow_kf, \"height_kf\": height_kf, \"outflow_kf\": outflow_kf}"
   ]
  },
  {
   "cell_type": "code",
   "execution_count": 29,
   "metadata": {},
   "outputs": [],
   "source": [
    "df = df[1:]\n",
    "df = df.with_columns([\n",
    "    pl.Series('inflow_kf', inflow_kf),\n",
    "])"
   ]
  },
  {
   "cell_type": "code",
   "execution_count": 31,
   "metadata": {},
   "outputs": [],
   "source": [
    "xdf = df.to_pandas()"
   ]
  },
  {
   "cell_type": "code",
   "execution_count": 32,
   "metadata": {},
   "outputs": [
    {
     "data": {
      "application/vnd.jupyter.widget-view+json": {
       "model_id": "a21aa2e1e24f4a038eb8c4fb64614af4",
       "version_major": 2,
       "version_minor": 0
      },
      "text/plain": [
       "FigureWidgetResampler({\n",
       "    'data': [{'name': '<b style=\"color:sandybrown\">[R]</b> Inflow <i style=\"color:#fc9944\">~15k</i>',\n",
       "              'showlegend': True,\n",
       "              'type': 'scattergl',\n",
       "              'uid': '7d8496bc-803f-488f-b7b5-1e23fd463995',\n",
       "              'x': array([       0,      495,    15850, ..., 15086558, 15094506, 15109616],\n",
       "                         dtype=uint64),\n",
       "              'y': array([  8.06391524, 180.01416656, 168.50228265, ..., 649.6339909 ,\n",
       "                          664.34070312, 703.53827577])},\n",
       "             {'name': '<b style=\"color:sandybrown\">[R]</b> Level <i style=\"color:#fc9944\">~15k</i>',\n",
       "              'showlegend': True,\n",
       "              'type': 'scattergl',\n",
       "              'uid': 'c38a5cd1-ae37-4a8d-ac08-23e9ac30967e',\n",
       "              'x': array([       0,    11510,    15111, ..., 15080324, 15093661, 15109616],\n",
       "                         dtype=uint64),\n",
       "              'y': array([152., 160., 151., ..., 163., 182., 176.])}],\n",
       "    'layout': {'height': 400, 'margin': {'b': 10, 'l': 10, 'r': 10, 't': 10}, 'template': '...'}\n",
       "})"
      ]
     },
     "metadata": {},
     "output_type": "display_data"
    }
   ],
   "source": [
    "import plotly.graph_objects as go\n",
    "from plotly_resampler import FigureResampler, FigureWidgetResampler\n",
    " \n",
    "fig = FigureWidgetResampler(go.Figure())\n",
    "fig.update_layout(margin=dict(l=10, r=10, t=10, b=10))\n",
    "fig.add_trace(go.Scattergl(name=r'Inflow', showlegend=True), hf_x=xdf.index, hf_y=xdf['inflow_kf'])\n",
    "fig.add_trace(go.Scattergl(name=r'Level', showlegend=True), hf_x=xdf.index, hf_y=xdf['level'])\n",
    "fig.update_layout(height=400, template=\"plotly_dark\")\n",
    "display(fig)"
   ]
  },
  {
   "cell_type": "code",
   "execution_count": 34,
   "metadata": {},
   "outputs": [],
   "source": [
    "df.write_parquet(\"../data/sym_data/sim_data_1s.parquet\")"
   ]
  }
 ],
 "metadata": {
  "kernelspec": {
   "display_name": "mpc_env",
   "language": "python",
   "name": "python3"
  },
  "language_info": {
   "codemirror_mode": {
    "name": "ipython",
    "version": 3
   },
   "file_extension": ".py",
   "mimetype": "text/x-python",
   "name": "python",
   "nbconvert_exporter": "python",
   "pygments_lexer": "ipython3",
   "version": "3.11.9"
  }
 },
 "nbformat": 4,
 "nbformat_minor": 2
}
