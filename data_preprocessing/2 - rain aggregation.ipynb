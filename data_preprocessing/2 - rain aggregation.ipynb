{
 "cells": [
  {
   "cell_type": "code",
   "execution_count": 9,
   "metadata": {},
   "outputs": [],
   "source": [
    "import polars as pl \n",
    "import pandas as pd \n",
    "import warnings\n",
    "\n",
    "warnings.simplefilter(action='ignore', category=FutureWarning)"
   ]
  },
  {
   "cell_type": "code",
   "execution_count": 10,
   "metadata": {},
   "outputs": [],
   "source": [
    "xdf = pl.read_parquet(\"../data/sym_data/sim_data_1s.parquet\")"
   ]
  },
  {
   "cell_type": "code",
   "execution_count": 3,
   "metadata": {},
   "outputs": [],
   "source": [
    "precip_df = pl.read_csv(\"../data/weather_data/precipitation_forecast_bornholm_2022_2024.csv\")"
   ]
  },
  {
   "cell_type": "code",
   "execution_count": 4,
   "metadata": {},
   "outputs": [],
   "source": [
    "precip_df = precip_df.rename({'ts':'time',\n",
    "                  'Weather forecast for the precipitation amount for the coming 1 hour at Bornholm | 9F7P/00/00/MET-Norway/forecast/precipitation_amount_acc | 128238':\"precip\" })"
   ]
  },
  {
   "cell_type": "code",
   "execution_count": 5,
   "metadata": {},
   "outputs": [],
   "source": [
    "precip_df = precip_df.with_columns(precip_df[\"time\"].str.to_datetime(format=\"%Y-%m-%d %H:%M:%S\").cast(pl.Datetime(\"ns\", \"UTC\")))"
   ]
  },
  {
   "cell_type": "code",
   "execution_count": 6,
   "metadata": {},
   "outputs": [],
   "source": [
    "xdf = xdf.group_by_dynamic(index_column=\"time\",\n",
    "                    every=\"1h\",\n",
    "                    check_sorted=False).agg(pl.col(xdf.columns[1:]).mean())"
   ]
  },
  {
   "cell_type": "code",
   "execution_count": 7,
   "metadata": {},
   "outputs": [],
   "source": [
    "xdf = xdf.join(precip_df, on=\"time\")"
   ]
  },
  {
   "cell_type": "code",
   "execution_count": 8,
   "metadata": {},
   "outputs": [],
   "source": [
    "#xdf.write_parquet(\"../data/sym_data/sim_data_1h.parquet\")"
   ]
  },
  {
   "cell_type": "code",
   "execution_count": 9,
   "metadata": {},
   "outputs": [
    {
     "data": {
      "text/html": [
       "<div><style>\n",
       ".dataframe > thead > tr,\n",
       ".dataframe > tbody > tr {\n",
       "  text-align: right;\n",
       "  white-space: pre-wrap;\n",
       "}\n",
       "</style>\n",
       "<small>shape: (4_228, 12)</small><table border=\"1\" class=\"dataframe\"><thead><tr><th>time</th><th>pump1_speed</th><th>pump4_speed</th><th>pump3_speed</th><th>outflow</th><th>pressure</th><th>level</th><th>pump1_power</th><th>pump4_power</th><th>pump3_power</th><th>inflow_kf</th><th>precip</th></tr><tr><td>datetime[ns, UTC]</td><td>f64</td><td>f64</td><td>f64</td><td>f64</td><td>f64</td><td>f64</td><td>f64</td><td>f64</td><td>f64</td><td>f64</td><td>f64</td></tr></thead><tbody><tr><td>2023-05-01 00:00:00 UTC</td><td>274.764379</td><td>545.455404</td><td>0.0</td><td>161.084468</td><td>0.557859</td><td>152.815504</td><td>10.662851</td><td>21.7187</td><td>0.0</td><td>165.362791</td><td>0.0</td></tr><tr><td>2023-05-01 01:00:00 UTC</td><td>930.705278</td><td>0.0</td><td>0.0</td><td>178.959167</td><td>0.562941</td><td>156.228889</td><td>35.034139</td><td>0.0</td><td>0.0</td><td>168.416933</td><td>0.0</td></tr><tr><td>2023-05-01 02:00:00 UTC</td><td>914.139444</td><td>0.0</td><td>0.0</td><td>159.600278</td><td>0.559432</td><td>155.653056</td><td>33.641861</td><td>0.0</td><td>0.0</td><td>167.941451</td><td>0.0</td></tr><tr><td>2023-05-01 03:00:00 UTC</td><td>174.787778</td><td>638.165833</td><td>0.0</td><td>178.844444</td><td>0.555527</td><td>152.839722</td><td>6.566917</td><td>25.967333</td><td>0.0</td><td>167.388947</td><td>0.0</td></tr><tr><td>2023-05-01 04:00:00 UTC</td><td>0.0</td><td>790.649167</td><td>0.0</td><td>176.164167</td><td>0.554581</td><td>151.751944</td><td>0.0</td><td>31.721944</td><td>0.0</td><td>169.527346</td><td>0.0</td></tr><tr><td>&hellip;</td><td>&hellip;</td><td>&hellip;</td><td>&hellip;</td><td>&hellip;</td><td>&hellip;</td><td>&hellip;</td><td>&hellip;</td><td>&hellip;</td><td>&hellip;</td><td>&hellip;</td><td>&hellip;</td></tr><tr><td>2024-02-16 07:00:00 UTC</td><td>983.73</td><td>928.981111</td><td>22.051111</td><td>717.423333</td><td>0.630887</td><td>174.491944</td><td>43.681958</td><td>38.786405</td><td>0.898161</td><td>670.486299</td><td>0.002808</td></tr><tr><td>2024-02-16 08:00:00 UTC</td><td>1016.810112</td><td>935.537079</td><td>0.0</td><td>736.983146</td><td>0.635098</td><td>175.892135</td><td>45.802641</td><td>39.23716</td><td>0.0</td><td>678.92245</td><td>0.004272</td></tr><tr><td>2024-02-16 09:00:00 UTC</td><td>1014.686944</td><td>482.594722</td><td>482.3025</td><td>726.591944</td><td>0.633365</td><td>174.637778</td><td>46.26095</td><td>20.099075</td><td>18.948867</td><td>684.601389</td><td>0.0</td></tr><tr><td>2024-02-16 10:00:00 UTC</td><td>1024.479167</td><td>0.0</td><td>1024.611667</td><td>746.965833</td><td>0.63725</td><td>176.336389</td><td>47.241397</td><td>0.0</td><td>39.264317</td><td>695.805104</td><td>0.0</td></tr><tr><td>2024-02-16 11:00:00 UTC</td><td>1021.060234</td><td>0.0</td><td>1021.129072</td><td>743.832821</td><td>0.636642</td><td>176.154886</td><td>47.781358</td><td>0.0</td><td>38.974794</td><td>701.518172</td><td>0.0</td></tr></tbody></table></div>"
      ],
      "text/plain": [
       "shape: (4_228, 12)\n",
       "┌───────────┬───────────┬───────────┬───────────┬───┬───────────┬───────────┬───────────┬──────────┐\n",
       "│ time      ┆ pump1_spe ┆ pump4_spe ┆ pump3_spe ┆ … ┆ pump4_pow ┆ pump3_pow ┆ inflow_kf ┆ precip   │\n",
       "│ ---       ┆ ed        ┆ ed        ┆ ed        ┆   ┆ er        ┆ er        ┆ ---       ┆ ---      │\n",
       "│ datetime[ ┆ ---       ┆ ---       ┆ ---       ┆   ┆ ---       ┆ ---       ┆ f64       ┆ f64      │\n",
       "│ ns, UTC]  ┆ f64       ┆ f64       ┆ f64       ┆   ┆ f64       ┆ f64       ┆           ┆          │\n",
       "╞═══════════╪═══════════╪═══════════╪═══════════╪═══╪═══════════╪═══════════╪═══════════╪══════════╡\n",
       "│ 2023-05-0 ┆ 274.76437 ┆ 545.45540 ┆ 0.0       ┆ … ┆ 21.7187   ┆ 0.0       ┆ 165.36279 ┆ 0.0      │\n",
       "│ 1         ┆ 9         ┆ 4         ┆           ┆   ┆           ┆           ┆ 1         ┆          │\n",
       "│ 00:00:00  ┆           ┆           ┆           ┆   ┆           ┆           ┆           ┆          │\n",
       "│ UTC       ┆           ┆           ┆           ┆   ┆           ┆           ┆           ┆          │\n",
       "│ 2023-05-0 ┆ 930.70527 ┆ 0.0       ┆ 0.0       ┆ … ┆ 0.0       ┆ 0.0       ┆ 168.41693 ┆ 0.0      │\n",
       "│ 1         ┆ 8         ┆           ┆           ┆   ┆           ┆           ┆ 3         ┆          │\n",
       "│ 01:00:00  ┆           ┆           ┆           ┆   ┆           ┆           ┆           ┆          │\n",
       "│ UTC       ┆           ┆           ┆           ┆   ┆           ┆           ┆           ┆          │\n",
       "│ 2023-05-0 ┆ 914.13944 ┆ 0.0       ┆ 0.0       ┆ … ┆ 0.0       ┆ 0.0       ┆ 167.94145 ┆ 0.0      │\n",
       "│ 1         ┆ 4         ┆           ┆           ┆   ┆           ┆           ┆ 1         ┆          │\n",
       "│ 02:00:00  ┆           ┆           ┆           ┆   ┆           ┆           ┆           ┆          │\n",
       "│ UTC       ┆           ┆           ┆           ┆   ┆           ┆           ┆           ┆          │\n",
       "│ 2023-05-0 ┆ 174.78777 ┆ 638.16583 ┆ 0.0       ┆ … ┆ 25.967333 ┆ 0.0       ┆ 167.38894 ┆ 0.0      │\n",
       "│ 1         ┆ 8         ┆ 3         ┆           ┆   ┆           ┆           ┆ 7         ┆          │\n",
       "│ 03:00:00  ┆           ┆           ┆           ┆   ┆           ┆           ┆           ┆          │\n",
       "│ UTC       ┆           ┆           ┆           ┆   ┆           ┆           ┆           ┆          │\n",
       "│ 2023-05-0 ┆ 0.0       ┆ 790.64916 ┆ 0.0       ┆ … ┆ 31.721944 ┆ 0.0       ┆ 169.52734 ┆ 0.0      │\n",
       "│ 1         ┆           ┆ 7         ┆           ┆   ┆           ┆           ┆ 6         ┆          │\n",
       "│ 04:00:00  ┆           ┆           ┆           ┆   ┆           ┆           ┆           ┆          │\n",
       "│ UTC       ┆           ┆           ┆           ┆   ┆           ┆           ┆           ┆          │\n",
       "│ …         ┆ …         ┆ …         ┆ …         ┆ … ┆ …         ┆ …         ┆ …         ┆ …        │\n",
       "│ 2024-02-1 ┆ 983.73    ┆ 928.98111 ┆ 22.051111 ┆ … ┆ 38.786405 ┆ 0.898161  ┆ 670.48629 ┆ 0.002808 │\n",
       "│ 6         ┆           ┆ 1         ┆           ┆   ┆           ┆           ┆ 9         ┆          │\n",
       "│ 07:00:00  ┆           ┆           ┆           ┆   ┆           ┆           ┆           ┆          │\n",
       "│ UTC       ┆           ┆           ┆           ┆   ┆           ┆           ┆           ┆          │\n",
       "│ 2024-02-1 ┆ 1016.8101 ┆ 935.53707 ┆ 0.0       ┆ … ┆ 39.23716  ┆ 0.0       ┆ 678.92245 ┆ 0.004272 │\n",
       "│ 6         ┆ 12        ┆ 9         ┆           ┆   ┆           ┆           ┆           ┆          │\n",
       "│ 08:00:00  ┆           ┆           ┆           ┆   ┆           ┆           ┆           ┆          │\n",
       "│ UTC       ┆           ┆           ┆           ┆   ┆           ┆           ┆           ┆          │\n",
       "│ 2024-02-1 ┆ 1014.6869 ┆ 482.59472 ┆ 482.3025  ┆ … ┆ 20.099075 ┆ 18.948867 ┆ 684.60138 ┆ 0.0      │\n",
       "│ 6         ┆ 44        ┆ 2         ┆           ┆   ┆           ┆           ┆ 9         ┆          │\n",
       "│ 09:00:00  ┆           ┆           ┆           ┆   ┆           ┆           ┆           ┆          │\n",
       "│ UTC       ┆           ┆           ┆           ┆   ┆           ┆           ┆           ┆          │\n",
       "│ 2024-02-1 ┆ 1024.4791 ┆ 0.0       ┆ 1024.6116 ┆ … ┆ 0.0       ┆ 39.264317 ┆ 695.80510 ┆ 0.0      │\n",
       "│ 6         ┆ 67        ┆           ┆ 67        ┆   ┆           ┆           ┆ 4         ┆          │\n",
       "│ 10:00:00  ┆           ┆           ┆           ┆   ┆           ┆           ┆           ┆          │\n",
       "│ UTC       ┆           ┆           ┆           ┆   ┆           ┆           ┆           ┆          │\n",
       "│ 2024-02-1 ┆ 1021.0602 ┆ 0.0       ┆ 1021.1290 ┆ … ┆ 0.0       ┆ 38.974794 ┆ 701.51817 ┆ 0.0      │\n",
       "│ 6         ┆ 34        ┆           ┆ 72        ┆   ┆           ┆           ┆ 2         ┆          │\n",
       "│ 11:00:00  ┆           ┆           ┆           ┆   ┆           ┆           ┆           ┆          │\n",
       "│ UTC       ┆           ┆           ┆           ┆   ┆           ┆           ┆           ┆          │\n",
       "└───────────┴───────────┴───────────┴───────────┴───┴───────────┴───────────┴───────────┴──────────┘"
      ]
     },
     "execution_count": 9,
     "metadata": {},
     "output_type": "execute_result"
    }
   ],
   "source": [
    "xdf"
   ]
  },
  {
   "cell_type": "code",
   "execution_count": null,
   "metadata": {},
   "outputs": [],
   "source": []
  }
 ],
 "metadata": {
  "kernelspec": {
   "display_name": "mpc_env",
   "language": "python",
   "name": "python3"
  },
  "language_info": {
   "codemirror_mode": {
    "name": "ipython",
    "version": 3
   },
   "file_extension": ".py",
   "mimetype": "text/x-python",
   "name": "python",
   "nbconvert_exporter": "python",
   "pygments_lexer": "ipython3",
   "version": "3.11.9"
  }
 },
 "nbformat": 4,
 "nbformat_minor": 2
}
