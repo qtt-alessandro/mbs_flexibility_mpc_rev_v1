{
 "cells": [
  {
   "cell_type": "code",
   "execution_count": 1,
   "metadata": {},
   "outputs": [],
   "source": [
    "import pandas as pd \n",
    "from data_aggregation_engine import fetch_CO2_data, fetch_day_ahead_prices\n",
    "import datetime as dt\n",
    "from entsoe import EntsoePandasClient\n",
    "import requests\n",
    "import pandas as pd\n",
    "\n",
    "\n",
    "start_date = \"2023-04-30\"\n",
    "end_date = \"2024-03-01\"\n",
    "price_area = \"DK2\"\n",
    "country_code = 'DK_2'\n",
    "\n",
    "%load_ext autoreload\n",
    "%autoreload 2"
   ]
  },
  {
   "cell_type": "code",
   "execution_count": 2,
   "metadata": {},
   "outputs": [],
   "source": [
    "df = pd.read_parquet(\"../data/sym_data/sim_data_1h.parquet\")\n",
    "df = df.set_index(\"time\")"
   ]
  },
  {
   "cell_type": "code",
   "execution_count": 3,
   "metadata": {},
   "outputs": [],
   "source": [
    "co2_data = fetch_CO2_data(start_date, end_date, price_area, resample=True)\n",
    "day_ahead_prices = fetch_day_ahead_prices(start_date, end_date, country_code)"
   ]
  },
  {
   "cell_type": "code",
   "execution_count": 4,
   "metadata": {},
   "outputs": [],
   "source": [
    "df = df.join(co2_data, on=\"time\")\n",
    "df = df.join(day_ahead_prices, on=\"time\")\n"
   ]
  },
  {
   "cell_type": "code",
   "execution_count": 7,
   "metadata": {},
   "outputs": [],
   "source": [
    "df.to_parquet(\"../data/sym_data/sim_data_1h_full.par\")"
   ]
  }
 ],
 "metadata": {
  "kernelspec": {
   "display_name": "mpc_env",
   "language": "python",
   "name": "python3"
  },
  "language_info": {
   "codemirror_mode": {
    "name": "ipython",
    "version": 3
   },
   "file_extension": ".py",
   "mimetype": "text/x-python",
   "name": "python",
   "nbconvert_exporter": "python",
   "pygments_lexer": "ipython3",
   "version": "3.11.9"
  }
 },
 "nbformat": 4,
 "nbformat_minor": 2
}
