{
 "cells": [
  {
   "cell_type": "code",
   "execution_count": 1,
   "id": "a9b01cac",
   "metadata": {},
   "outputs": [],
   "source": [
    "import numpy as np\n",
    "import cvxpy as cp\n",
    "import json \n",
    "import json \n",
    "import pandas as pd \n",
    "import polars as pl \n",
    "import os \n",
    "from lower_mpc_old import step_lower_mpc, LMPCDataBuffer\n",
    "from upper_mpc import step_upper_level, UMPCDataBuffer\n",
    "from tqdm import tqdm \n",
    "import time \n",
    "from datetime import timedelta\n",
    "import matplotlib.pyplot as plt \n",
    "\n",
    "\n",
    "%load_ext autoreload\n",
    "%autoreload 2"
   ]
  },
  {
   "cell_type": "code",
   "execution_count": 2,
   "id": "90215771",
   "metadata": {},
   "outputs": [],
   "source": [
    "root_folder = \"/home/alqua/papers/mbs_aggregation_paper_code/mpc/\"\n",
    "params_path = \"sys_id/results/\""
   ]
  },
  {
   "cell_type": "code",
   "execution_count": 3,
   "id": "b1a774ec",
   "metadata": {},
   "outputs": [],
   "source": [
    "data_path_wsl = \"/home/alqua/data/pump_station_data/\"\n",
    "upper_mpc_data = pl.read_parquet(os.path.join(data_path_wsl, \"sim_data/sim_data_1h_full.par\"))\n",
    "upper_mpc_data_pan = pl.read_parquet(os.path.join(data_path_wsl, \"sim_data/sim_data_1h_full.par\"))"
   ]
  },
  {
   "cell_type": "code",
   "execution_count": 4,
   "id": "629662bb",
   "metadata": {},
   "outputs": [],
   "source": [
    "start_date = pd.to_datetime(\"2024-02-15 00:00:00+00:00\")\n",
    "end_date = pd.to_datetime(\"2024-02-25 08:00:00+00:00\")\n",
    "\n",
    "upper_mpc_data = upper_mpc_data.filter((pl.col(\"time\") >= start_date) & \n",
    "                                       (pl.col(\"time\") <= end_date)\n",
    "                                       ).with_columns(pl.col(\"CO2Emission\")/1000, pl.col(\"price\")/1000)\n",
    "\n",
    "upper_mpc_data = upper_mpc_data.with_columns(pl.col(\"time\").dt.day().alias(\"day_index\"))\n",
    "day_sliced_df = upper_mpc_data.filter(pl.col(\"day_index\") == 15)"
   ]
  },
  {
   "cell_type": "code",
   "execution_count": 5,
   "id": "698e8b10",
   "metadata": {},
   "outputs": [],
   "source": [
    "with open('lower_mpc_coefficients.json', 'r') as json_file:\n",
    "    models_coefficients = json.load(json_file)"
   ]
  },
  {
   "cell_type": "code",
   "execution_count": 22,
   "id": "6c4ee560",
   "metadata": {},
   "outputs": [
    {
     "name": "stderr",
     "output_type": "stream",
     "text": [
      "Hour Steps:   8%|▊         | 1/13 [00:35<07:08, 35.73s/it]\n"
     ]
    }
   ],
   "source": [
    "lmpc_data = LMPCDataBuffer()\n",
    "umpc_data = UMPCDataBuffer()\n",
    "lmpc_data.initialize()\n",
    "\n",
    "slice_df = upper_mpc_data.select(pl.col([\"time\", \"inflow_kf\", \"CO2Emission\",\"price\"]))\n",
    "inflow_kf = slice_df[\"time\", \"inflow_kf\"].upsample(every=\"1m\", time_column= \"time\").fill_null(strategy=\"forward\")[\"inflow_kf\"]\n",
    "\n",
    "k = 0 \n",
    "zs = 3 \n",
    "N = 60\n",
    "horizon = 24\n",
    "step_size = 1\n",
    "max_start = len(slice_df) - horizon + 1\n",
    "start_index = 0 \n",
    "\n",
    "with tqdm(total=max_start, desc=\"Hour Steps\") as pbar:\n",
    "    start_index = 0\n",
    "    while start_index < max_start:\n",
    "        prices_values = slice_df[\"price\"][start_index : start_index + horizon]\n",
    "        co2_values = slice_df[\"CO2Emission\"][start_index : start_index + horizon]\n",
    "        inflow_values = slice_df[\"inflow_kf\"][start_index : start_index + horizon]\n",
    "        \n",
    "        start_time_umpc =  time.time()\n",
    "        ############################################### Upper Level Optimization\n",
    "        \n",
    "        umpc_opt_results = step_upper_level(\n",
    "            horizon=horizon,\n",
    "            prices_values=prices_values,\n",
    "            co2_progn_values=co2_values,\n",
    "            inflow_values=inflow_values,\n",
    "            h_init=lmpc_data.data[\"height_sys\"][-1],\n",
    "            energy_init=lmpc_data.data[\"p1_power\"][-1] + lmpc_data.data[\"p3_power\"][-1] + lmpc_data.data[\"p4_power\"][-1],\n",
    "            Qout_init=lmpc_data.data[\"qout\"][-1])\n",
    "\n",
    "        end_time_umpc = time.time() - start_time_umpc\n",
    "        umpc_opt_results[\"opt_time_umpc\"] = end_time_umpc\n",
    "        umpc_data.update(umpc_opt_results)\n",
    "\n",
    "        ############################################### Lower Level Optimization\n",
    "\n",
    "        for k in range(0, 60):\n",
    "            u_stack = np.vstack([lmpc_data.data[\"u1\"][-zs:],\n",
    "                                lmpc_data.data[\"u2\"][-zs:], \n",
    "                                lmpc_data.data[\"u3\"][-zs:]])\n",
    "\n",
    "            power_stack = np.vstack([lmpc_data.data[\"p1_power\"][-zs:],\n",
    "                                    lmpc_data.data[\"p3_power\"][-zs:], \n",
    "                                    lmpc_data.data[\"p4_power\"][-zs:]])\n",
    "            \n",
    "            start_time_lmpc = time.time()\n",
    "\n",
    "            start_time_lmpc =  time.time()\n",
    "            res_dict  = step_lower_mpc(Qin_est = inflow_kf[start_index + k : start_index + k + 63], # da cambiare\n",
    "                                    Qout_meas = lmpc_data.data[\"qout\"][-zs:],\n",
    "                                    h_meas = lmpc_data.data[\"height_sys\"][-zs:],\n",
    "                                    w_meas = u_stack,\n",
    "                                    E_meas = power_stack,\n",
    "                                    P_meas = lmpc_data.data[\"pressure_sys\"][-zs:],\n",
    "                                    h_ref = umpc_opt_results[\"height\"],\n",
    "                                    trigger = [1,0,0],\n",
    "                                    N = 60,\n",
    "                                    zs = zs,\n",
    "                                    models_coefficients = models_coefficients)\n",
    "            end_time_lmpc = time.time() - start_time_lmpc\n",
    "            res_dict[\"opt_time_lmpc\"] = end_time_lmpc\n",
    "\n",
    "            res_dict['time_utc'] = slice_df[\"time\"][start_index] + timedelta(minutes=k)\n",
    "            res_dict['height_ref'] = umpc_opt_results[\"height\"]\n",
    "            res_dict['qin'] = inflow_kf[start_index + k : start_index + k + 1][0] # access value form the list           \n",
    "            lmpc_data.update(res_dict)\n",
    "\n",
    "        start_index += step_size\n",
    "        pbar.update(step_size)\n",
    "        if start_index == 1:\n",
    "            break\n",
    "    opt_lmpc = lmpc_data.to_dataframe(save=True, file_path='save_test_lower.par')\n",
    "    opt_umpc = umpc_data.to_dataframe(save=True, file_path='save_test_upper.par')\n"
   ]
  },
  {
   "cell_type": "code",
   "execution_count": 23,
   "id": "6a46d621",
   "metadata": {},
   "outputs": [
    {
     "data": {
      "text/html": [
       "<div><style>\n",
       ".dataframe > thead > tr,\n",
       ".dataframe > tbody > tr {\n",
       "  text-align: right;\n",
       "  white-space: pre-wrap;\n",
       "}\n",
       "</style>\n",
       "<small>shape: (60, 13)</small><table border=\"1\" class=\"dataframe\"><thead><tr><th>time_utc</th><th>u1</th><th>u2</th><th>u3</th><th>p1_power</th><th>p3_power</th><th>p4_power</th><th>qout</th><th>qin</th><th>height_sys</th><th>height_ref</th><th>pressure_sys</th><th>opt_time_lmpc</th></tr><tr><td>datetime[μs, UTC]</td><td>f64</td><td>f64</td><td>f64</td><td>f64</td><td>f64</td><td>f64</td><td>f64</td><td>f64</td><td>f64</td><td>f64</td><td>f64</td><td>f64</td></tr></thead><tbody><tr><td>2024-02-15 00:00:00 UTC</td><td>816.0</td><td>3.0</td><td>5.0</td><td>33.2</td><td>-0.0</td><td>0.0</td><td>0.0</td><td>644.241879</td><td>111.0</td><td>199.999998</td><td>0.592</td><td>0.508961</td></tr><tr><td>2024-02-15 00:01:00 UTC</td><td>831.0</td><td>5.0</td><td>9.0</td><td>35.9</td><td>0.1</td><td>0.1</td><td>496.2</td><td>644.241879</td><td>151.3</td><td>199.999998</td><td>0.54</td><td>0.567051</td></tr><tr><td>2024-02-15 00:02:00 UTC</td><td>846.0</td><td>7.0</td><td>13.0</td><td>38.1</td><td>0.2</td><td>0.3</td><td>616.3</td><td>644.241879</td><td>160.6</td><td>199.999998</td><td>0.592</td><td>0.586857</td></tr><tr><td>2024-02-15 00:03:00 UTC</td><td>860.0</td><td>9.0</td><td>16.0</td><td>39.3</td><td>0.3</td><td>0.4</td><td>622.0</td><td>644.241879</td><td>162.3</td><td>199.999998</td><td>0.607</td><td>0.685149</td></tr><tr><td>2024-02-15 00:04:00 UTC</td><td>874.0</td><td>10.0</td><td>19.0</td><td>40.2</td><td>0.4</td><td>0.6</td><td>622.9</td><td>644.241879</td><td>163.7</td><td>199.999998</td><td>0.607</td><td>0.676045</td></tr><tr><td>&hellip;</td><td>&hellip;</td><td>&hellip;</td><td>&hellip;</td><td>&hellip;</td><td>&hellip;</td><td>&hellip;</td><td>&hellip;</td><td>&hellip;</td><td>&hellip;</td><td>&hellip;</td><td>&hellip;</td><td>&hellip;</td></tr><tr><td>2024-02-15 00:55:00 UTC</td><td>1243.0</td><td>0.0</td><td>0.0</td><td>58.5</td><td>0.0</td><td>0.0</td><td>641.5</td><td>644.241879</td><td>193.3</td><td>199.999998</td><td>0.61</td><td>0.584228</td></tr><tr><td>2024-02-15 00:56:00 UTC</td><td>1245.0</td><td>0.0</td><td>0.0</td><td>58.6</td><td>-0.0</td><td>0.0</td><td>638.9</td><td>644.241879</td><td>193.5</td><td>199.999998</td><td>0.61</td><td>0.590269</td></tr><tr><td>2024-02-15 00:57:00 UTC</td><td>1247.0</td><td>0.0</td><td>0.0</td><td>58.7</td><td>0.0</td><td>0.0</td><td>633.5</td><td>644.241879</td><td>193.8</td><td>199.999998</td><td>0.609</td><td>0.566802</td></tr><tr><td>2024-02-15 00:58:00 UTC</td><td>1249.0</td><td>0.0</td><td>0.0</td><td>58.8</td><td>0.0</td><td>0.0</td><td>632.2</td><td>644.241879</td><td>194.0</td><td>199.999998</td><td>0.609</td><td>0.578334</td></tr><tr><td>2024-02-15 00:59:00 UTC</td><td>1251.0</td><td>0.0</td><td>0.0</td><td>58.9</td><td>0.0</td><td>0.0</td><td>633.4</td><td>644.241879</td><td>194.2</td><td>199.999998</td><td>0.609</td><td>0.554006</td></tr></tbody></table></div>"
      ],
      "text/plain": [
       "shape: (60, 13)\n",
       "┌───────────────┬────────┬──────┬──────┬───┬────────────┬────────────┬──────────────┬──────────────┐\n",
       "│ time_utc      ┆ u1     ┆ u2   ┆ u3   ┆ … ┆ height_sys ┆ height_ref ┆ pressure_sys ┆ opt_time_lmp │\n",
       "│ ---           ┆ ---    ┆ ---  ┆ ---  ┆   ┆ ---        ┆ ---        ┆ ---          ┆ c            │\n",
       "│ datetime[μs,  ┆ f64    ┆ f64  ┆ f64  ┆   ┆ f64        ┆ f64        ┆ f64          ┆ ---          │\n",
       "│ UTC]          ┆        ┆      ┆      ┆   ┆            ┆            ┆              ┆ f64          │\n",
       "╞═══════════════╪════════╪══════╪══════╪═══╪════════════╪════════════╪══════════════╪══════════════╡\n",
       "│ 2024-02-15    ┆ 816.0  ┆ 3.0  ┆ 5.0  ┆ … ┆ 111.0      ┆ 199.999998 ┆ 0.592        ┆ 0.508961     │\n",
       "│ 00:00:00 UTC  ┆        ┆      ┆      ┆   ┆            ┆            ┆              ┆              │\n",
       "│ 2024-02-15    ┆ 831.0  ┆ 5.0  ┆ 9.0  ┆ … ┆ 151.3      ┆ 199.999998 ┆ 0.54         ┆ 0.567051     │\n",
       "│ 00:01:00 UTC  ┆        ┆      ┆      ┆   ┆            ┆            ┆              ┆              │\n",
       "│ 2024-02-15    ┆ 846.0  ┆ 7.0  ┆ 13.0 ┆ … ┆ 160.6      ┆ 199.999998 ┆ 0.592        ┆ 0.586857     │\n",
       "│ 00:02:00 UTC  ┆        ┆      ┆      ┆   ┆            ┆            ┆              ┆              │\n",
       "│ 2024-02-15    ┆ 860.0  ┆ 9.0  ┆ 16.0 ┆ … ┆ 162.3      ┆ 199.999998 ┆ 0.607        ┆ 0.685149     │\n",
       "│ 00:03:00 UTC  ┆        ┆      ┆      ┆   ┆            ┆            ┆              ┆              │\n",
       "│ 2024-02-15    ┆ 874.0  ┆ 10.0 ┆ 19.0 ┆ … ┆ 163.7      ┆ 199.999998 ┆ 0.607        ┆ 0.676045     │\n",
       "│ 00:04:00 UTC  ┆        ┆      ┆      ┆   ┆            ┆            ┆              ┆              │\n",
       "│ …             ┆ …      ┆ …    ┆ …    ┆ … ┆ …          ┆ …          ┆ …            ┆ …            │\n",
       "│ 2024-02-15    ┆ 1243.0 ┆ 0.0  ┆ 0.0  ┆ … ┆ 193.3      ┆ 199.999998 ┆ 0.61         ┆ 0.584228     │\n",
       "│ 00:55:00 UTC  ┆        ┆      ┆      ┆   ┆            ┆            ┆              ┆              │\n",
       "│ 2024-02-15    ┆ 1245.0 ┆ 0.0  ┆ 0.0  ┆ … ┆ 193.5      ┆ 199.999998 ┆ 0.61         ┆ 0.590269     │\n",
       "│ 00:56:00 UTC  ┆        ┆      ┆      ┆   ┆            ┆            ┆              ┆              │\n",
       "│ 2024-02-15    ┆ 1247.0 ┆ 0.0  ┆ 0.0  ┆ … ┆ 193.8      ┆ 199.999998 ┆ 0.609        ┆ 0.566802     │\n",
       "│ 00:57:00 UTC  ┆        ┆      ┆      ┆   ┆            ┆            ┆              ┆              │\n",
       "│ 2024-02-15    ┆ 1249.0 ┆ 0.0  ┆ 0.0  ┆ … ┆ 194.0      ┆ 199.999998 ┆ 0.609        ┆ 0.578334     │\n",
       "│ 00:58:00 UTC  ┆        ┆      ┆      ┆   ┆            ┆            ┆              ┆              │\n",
       "│ 2024-02-15    ┆ 1251.0 ┆ 0.0  ┆ 0.0  ┆ … ┆ 194.2      ┆ 199.999998 ┆ 0.609        ┆ 0.554006     │\n",
       "│ 00:59:00 UTC  ┆        ┆      ┆      ┆   ┆            ┆            ┆              ┆              │\n",
       "└───────────────┴────────┴──────┴──────┴───┴────────────┴────────────┴──────────────┴──────────────┘"
      ]
     },
     "execution_count": 23,
     "metadata": {},
     "output_type": "execute_result"
    }
   ],
   "source": [
    "opt_lmpc"
   ]
  }
 ],
 "metadata": {
  "kernelspec": {
   "display_name": "opt_env",
   "language": "python",
   "name": "python3"
  },
  "language_info": {
   "codemirror_mode": {
    "name": "ipython",
    "version": 3
   },
   "file_extension": ".py",
   "mimetype": "text/x-python",
   "name": "python",
   "nbconvert_exporter": "python",
   "pygments_lexer": "ipython3",
   "version": "3.12.9"
  }
 },
 "nbformat": 4,
 "nbformat_minor": 5
}
