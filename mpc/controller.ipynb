{
 "cells": [
  {
   "cell_type": "code",
   "execution_count": 8,
   "id": "a9b01cac",
   "metadata": {},
   "outputs": [
    {
     "name": "stdout",
     "output_type": "stream",
     "text": [
      "The autoreload extension is already loaded. To reload it, use:\n",
      "  %reload_ext autoreload\n"
     ]
    }
   ],
   "source": [
    "import os \n",
    "import json \n",
    "import pandas as pd \n",
    "import polars as pl \n",
    "import numpy as np\n",
    "\n",
    "from tqdm import tqdm \n",
    "import time \n",
    "from datetime import timedelta\n",
    "import matplotlib.pyplot as plt \n",
    "\n",
    "from src.pumps_selector import circular_right_shift\n",
    "from src.lower_mpc import step_lower_mpc, LMPCDataBuffer\n",
    "from src.upper_mpc import step_upper_level, UMPCDataBuffer\n",
    "\n",
    "%load_ext autoreload\n",
    "%autoreload 2"
   ]
  },
  {
   "cell_type": "code",
   "execution_count": 9,
   "id": "b1a774ec",
   "metadata": {},
   "outputs": [],
   "source": [
    "#time = pl.read_parquet(os.path.join(data_path_wsl, \"sim_data/sim_data_1h_full.par\"))\n",
    "#upper_mpc_data_pan = pl.read_parquet(os.path.join(data_path_wsl, \"sim_data/sim_data_1h_full.par\"))\n",
    "#p1= pl.read_parquet(\"/home/alqua/data/data_vdfs/pump1_power_siso.par\").group_by_dynamic(index_column=\"time\", every=\"1h\").agg(pl.col(\"pump1_power\").mean())\n",
    "#p4= pl.read_parquet(\"/home/alqua/data/data_vdfs/pump4_power_siso.par\").group_by_dynamic(index_column=\"time\", every=\"1h\").agg(pl.col(\"pump4_power\").mean())\n",
    "#p3= pl.read_parquet(\"/home/alqua/data/data_vdfs/pump3_power_siso.par\").group_by_dynamic(index_column=\"time\", every=\"1h\").agg(pl.col(\"pump3_power\").mean())\n",
    "#pumps_df = p1.join(p4, on=\"time\").join(p3, on=\"time\")\n",
    "#baseline_df = (pumps_df.group_by(\"hours\").agg(\n",
    "#                    pl.col(\"energy_cons\").mean().alias(\"mean_energy_cons\"),\n",
    "#                    pl.col(\"energy_cons\").std().alias(\"std_energy_cons\")\n",
    "#                ).sort(\"hours\"))"
   ]
  },
  {
   "cell_type": "code",
   "execution_count": 10,
   "id": "59108847",
   "metadata": {},
   "outputs": [],
   "source": [
    "data_path_wsl = \"/home/alqua/data/pump_station_data/\"\n",
    "data = pl.read_parquet('/home/alqua/papers/mbs_flexibility_mpc_rev_v1/mpc/input_data/aggregated_data_for_mpc.par')"
   ]
  },
  {
   "cell_type": "code",
   "execution_count": 11,
   "id": "629662bb",
   "metadata": {},
   "outputs": [],
   "source": [
    "start_date = pd.to_datetime(\"2023-02-10 00:00:00+00:00\")\n",
    "end_date = pd.to_datetime(\"2023-02-28 14:00:00+00:00\")\n",
    "\n",
    "data = data.filter((pl.col(\"time\") >= start_date) & \n",
    "                   (pl.col(\"time\") <= end_date)\n",
    "                  ).with_columns(\n",
    "                      pl.col(\"CO2Emission\")/1000, #Kg/Kwh\n",
    "                      pl.col(\"price\")/1000 # 90 eur/ton -> 0.09eur per kg\n",
    "                  )\n",
    "\n",
    "data = data.with_columns(\n",
    "    # Add Danish grid & tax surcharge: 0.166 EUR/kWh per element (business, 2024, excl. VAT)\n",
    "    (pl.col(\"price\") + 0.166), \n",
    "    (pl.col(\"CO2Emission\") * 0.09))\n",
    "\n"
   ]
  },
  {
   "cell_type": "code",
   "execution_count": 12,
   "id": "90722354",
   "metadata": {},
   "outputs": [],
   "source": [
    "new_cols_map = {\n",
    "    'time': 'time_utc',\n",
    "    'inflow': 'inflow_kf', \n",
    "    'inflow_0.1': 'inflow_q10', \n",
    "    'inflow_0.5': 'inflow_q50', \n",
    "    'inflow_0.9': 'inflow_q90', \n",
    "    'price': 'da_price',\n",
    "    'CO2Emission': 'co2_progn'}\n",
    "\n",
    "data = data.select(new_cols_map).rename(new_cols_map)\n"
   ]
  },
  {
   "cell_type": "code",
   "execution_count": 13,
   "id": "698e8b10",
   "metadata": {},
   "outputs": [],
   "source": [
    "with open('input_data/lower_mpc_coefficients.json', 'r') as json_file:\n",
    "    models_coefficients = json.load(json_file)"
   ]
  },
  {
   "cell_type": "code",
   "execution_count": null,
   "id": "6c4ee560",
   "metadata": {},
   "outputs": [
    {
     "name": "stderr",
     "output_type": "stream",
     "text": [
      "Hour Steps:   0%|          | 0/423 [00:00<?, ?it/s]"
     ]
    }
   ],
   "source": [
    "lmpc_data = LMPCDataBuffer()\n",
    "umpc_data = UMPCDataBuffer()\n",
    "lmpc_data.initialize()\n",
    "\n",
    "slice_df = data.select(pl.col([\"time_utc\", \"inflow_kf\", \"co2_progn\",\"da_price\", 'inflow_q10', 'inflow_q50','inflow_q90']))\n",
    "inflow_kf = slice_df[\"time_utc\", \"inflow_kf\"].upsample(every=\"1m\", time_column= \"time_utc\").fill_null(strategy=\"forward\")[\"inflow_kf\"]\n",
    "\n",
    "zs = 3 \n",
    "N = 60\n",
    "horizon = 24\n",
    "step_size = 1\n",
    "max_start = len(slice_df) - horizon + 1\n",
    "start_index = 0\n",
    "trigger = [1, 0, 0]\n",
    "\n",
    "with tqdm(total=max_start, desc=\"Hour Steps\") as pbar:\n",
    "    start_index = 0\n",
    "    while start_index < max_start:\n",
    "        prices_values = slice_df[\"da_price\"][start_index : start_index + horizon]\n",
    "        co2_values = slice_df[\"co2_progn\"][start_index : start_index + horizon]\n",
    "        inflow_values = slice_df[\"inflow_kf\"][start_index : start_index + horizon]\n",
    "        \n",
    "        start_time_umpc =  time.time()\n",
    "        ############################################### Upper Level Optimization\n",
    "        \n",
    "        umpc_opt_results = step_upper_level(\n",
    "            horizon=horizon,\n",
    "            prices_values=prices_values,\n",
    "            co2_progn_values=co2_values,\n",
    "            inflow_values=inflow_values,\n",
    "            h_init=lmpc_data.data[\"height_sys\"][-1],\n",
    "            energy_init=lmpc_data.data[\"p1_power\"][-1] + lmpc_data.data[\"p3_power\"][-1] + lmpc_data.data[\"p4_power\"][-1],\n",
    "            Qout_init=lmpc_data.data[\"qout\"][-1])\n",
    "\n",
    "        end_time_umpc = time.time() - start_time_umpc\n",
    "        umpc_opt_results[\"opt_time_umpc\"] = end_time_umpc\n",
    "        umpc_opt_results[\"qin_q10\"] = slice_df[\"inflow_q10\"][start_index]\n",
    "        umpc_opt_results[\"qin_q50\"] = slice_df[\"inflow_q50\"][start_index]\n",
    "        umpc_opt_results[\"qin_q90\"] = slice_df[\"inflow_q90\"][start_index]\n",
    "        umpc_opt_results[\"time_utc\"] = slice_df[\"time_utc\"][start_index]\n",
    "        #if start_index == 58:\n",
    "        #    umpc_opt_results[\"height_ref\"] = 70\n",
    "        #if start_index >0:\n",
    "            #print(\"=========================\")\n",
    "            #print(\"Height sys:\", res_dict[\"height_sys\"])\n",
    "            #print(\"Height ref:\", umpc_opt_results[\"height_ref\"])\n",
    "        umpc_data.update(umpc_opt_results)\n",
    "\n",
    "        ############################################### Lower Level Optimization\n",
    "\n",
    "        if start_index % 3 == 0 and start_index != 0:\n",
    "        \n",
    "            trigger = circular_right_shift(trigger)\n",
    "\n",
    "\n",
    "        for k in range(0, 60):\n",
    "            u_stack = np.vstack([lmpc_data.data[\"u1\"][-zs:],\n",
    "                                lmpc_data.data[\"u2\"][-zs:], \n",
    "                                lmpc_data.data[\"u3\"][-zs:]])\n",
    "\n",
    "            power_stack = np.vstack([lmpc_data.data[\"p1_power\"][-zs:],\n",
    "                                    lmpc_data.data[\"p3_power\"][-zs:], \n",
    "                                    lmpc_data.data[\"p4_power\"][-zs:]])\n",
    "            \n",
    "            start_time_lmpc = time.time()\n",
    "\n",
    "            start_time_lmpc =  time.time()\n",
    "            res_dict  = step_lower_mpc(Qin_est = inflow_kf[start_index + k : start_index + k + 63], # da cambiare\n",
    "                                    Qout_meas = lmpc_data.data[\"qout\"][-zs:],\n",
    "                                    h_meas = lmpc_data.data[\"height_sys\"][-zs:],\n",
    "                                    w_meas = u_stack,\n",
    "                                    E_meas = power_stack,\n",
    "                                    P_meas = lmpc_data.data[\"pressure_sys\"][-zs:],\n",
    "                                    h_ref = umpc_opt_results[\"height_ref\"],\n",
    "                                    trigger = trigger,\n",
    "                                    N = 60,\n",
    "                                    zs = zs,\n",
    "                                    models_coefficients = models_coefficients)\n",
    "            end_time_lmpc = time.time() - start_time_lmpc\n",
    "            res_dict[\"opt_time_lmpc\"] = end_time_lmpc\n",
    "            res_dict['time_utc'] = slice_df[\"time_utc\"][start_index] + timedelta(minutes=k)\n",
    "            res_dict['height_ref'] = umpc_opt_results[\"height_ref\"]\n",
    "            res_dict['qin'] = inflow_kf[start_index + k : start_index + k + 1][0] # access value form the list           \n",
    "            lmpc_data.update(res_dict)\n",
    "\n",
    "        start_index += step_size\n",
    "        pbar.update(step_size)\n",
    "        if start_index == 24*3:\n",
    "            break\n",
    "    opt_lmpc = lmpc_data.to_dataframe(save=True, file_path='output_data/lmpc_rain_shift_results.par')\n",
    "    opt_umpc = umpc_data.to_dataframe(save=True, file_path='output_data/umpc_rain_shift_results.par')\n"
   ]
  },
  {
   "cell_type": "code",
   "execution_count": null,
   "id": "081726c5",
   "metadata": {},
   "outputs": [],
   "source": []
  }
 ],
 "metadata": {
  "kernelspec": {
   "display_name": "opt_env",
   "language": "python",
   "name": "python3"
  },
  "language_info": {
   "codemirror_mode": {
    "name": "ipython",
    "version": 3
   },
   "file_extension": ".py",
   "mimetype": "text/x-python",
   "name": "python",
   "nbconvert_exporter": "python",
   "pygments_lexer": "ipython3",
   "version": "3.12.9"
  }
 },
 "nbformat": 4,
 "nbformat_minor": 5
}
