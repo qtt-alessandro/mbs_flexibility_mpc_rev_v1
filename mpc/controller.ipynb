{
 "cells": [
  {
   "cell_type": "code",
   "execution_count": 46,
   "id": "a9b01cac",
   "metadata": {},
   "outputs": [
    {
     "name": "stdout",
     "output_type": "stream",
     "text": [
      "The autoreload extension is already loaded. To reload it, use:\n",
      "  %reload_ext autoreload\n"
     ]
    }
   ],
   "source": [
    "import os \n",
    "import json \n",
    "import pandas as pd \n",
    "import polars as pl \n",
    "import numpy as np\n",
    "\n",
    "from tqdm import tqdm \n",
    "import time \n",
    "from datetime import timedelta\n",
    "import matplotlib.pyplot as plt \n",
    "\n",
    "from src.pumps_selector import circular_right_shift\n",
    "from src.lower_mpc import step_lower_mpc, LMPCDataBuffer\n",
    "from src.upper_mpc import step_upper_level, UMPCDataBuffer\n",
    "\n",
    "%load_ext autoreload\n",
    "%autoreload 2"
   ]
  },
  {
   "cell_type": "code",
   "execution_count": 47,
   "id": "b1a774ec",
   "metadata": {},
   "outputs": [],
   "source": [
    "#time = pl.read_parquet(os.path.join(data_path_wsl, \"sim_data/sim_data_1h_full.par\"))\n",
    "#upper_mpc_data_pan = pl.read_parquet(os.path.join(data_path_wsl, \"sim_data/sim_data_1h_full.par\"))\n",
    "#p1= pl.read_parquet(\"/home/alqua/data/data_vdfs/pump1_power_siso.par\").group_by_dynamic(index_column=\"time\", every=\"1h\").agg(pl.col(\"pump1_power\").mean())\n",
    "#p4= pl.read_parquet(\"/home/alqua/data/data_vdfs/pump4_power_siso.par\").group_by_dynamic(index_column=\"time\", every=\"1h\").agg(pl.col(\"pump4_power\").mean())\n",
    "#p3= pl.read_parquet(\"/home/alqua/data/data_vdfs/pump3_power_siso.par\").group_by_dynamic(index_column=\"time\", every=\"1h\").agg(pl.col(\"pump3_power\").mean())\n",
    "#pumps_df = p1.join(p4, on=\"time\").join(p3, on=\"time\")\n",
    "#baseline_df = (pumps_df.group_by(\"hours\").agg(\n",
    "#                    pl.col(\"energy_cons\").mean().alias(\"mean_energy_cons\"),\n",
    "#                    pl.col(\"energy_cons\").std().alias(\"std_energy_cons\")\n",
    "#                ).sort(\"hours\"))"
   ]
  },
  {
   "cell_type": "code",
   "execution_count": 48,
   "id": "59108847",
   "metadata": {},
   "outputs": [],
   "source": [
    "data_path_wsl = \"/home/alqua/data/pump_station_data/\"\n",
    "data = pl.read_parquet('/home/alqua/papers/mbs_flexibility_mpc_rev_v1/mpc/input_data/aggregated_data_for_mpc.par')"
   ]
  },
  {
   "cell_type": "code",
   "execution_count": 49,
   "id": "629662bb",
   "metadata": {},
   "outputs": [],
   "source": [
    "start_date = pd.to_datetime(\"2023-02-10 00:00:00+00:00\")\n",
    "end_date = pd.to_datetime(\"2023-02-28 14:00:00+00:00\")\n",
    "\n",
    "data = data.filter((pl.col(\"time\") >= start_date) & \n",
    "                   (pl.col(\"time\") <= end_date)\n",
    "                  ).with_columns(\n",
    "                      pl.col(\"CO2Emission\")/1000, #Kg/Kwh\n",
    "                      pl.col(\"price\")/1000 # 90 eur/ton -> 0.09eur per kg\n",
    "                  )\n",
    "\n",
    "data = data.with_columns(\n",
    "    # Add Danish grid & tax surcharge: 0.166 EUR/kWh per element (business, 2024, excl. VAT)\n",
    "    (pl.col(\"price\") + 0.166), \n",
    "    (pl.col(\"CO2Emission\") * 0.09))\n",
    "\n"
   ]
  },
  {
   "cell_type": "code",
   "execution_count": 50,
   "id": "90722354",
   "metadata": {},
   "outputs": [],
   "source": [
    "new_cols_map = {\n",
    "    'time': 'time_utc',\n",
    "    'inflow': 'inflow_kf', \n",
    "    'inflow_0.1': 'inflow_q10', \n",
    "    'inflow_0.5': 'inflow_q50', \n",
    "    'inflow_0.9': 'inflow_q90', \n",
    "    'price': 'da_price',\n",
    "    'CO2Emission': 'co2_progn'}\n",
    "\n",
    "data = data.select(new_cols_map).rename(new_cols_map)\n"
   ]
  },
  {
   "cell_type": "code",
   "execution_count": 51,
   "id": "698e8b10",
   "metadata": {},
   "outputs": [],
   "source": [
    "with open('input_data/lower_mpc_coefficients.json', 'r') as json_file:\n",
    "    models_coefficients = json.load(json_file)"
   ]
  },
  {
   "cell_type": "code",
   "execution_count": 52,
   "id": "6c4ee560",
   "metadata": {},
   "outputs": [
    {
     "name": "stderr",
     "output_type": "stream",
     "text": [
      "Hour Steps:   0%|          | 0/423 [00:00<?, ?it/s]"
     ]
    },
    {
     "name": "stderr",
     "output_type": "stream",
     "text": [
      "Hour Steps:  11%|█▏        | 48/423 [14:28<1:53:06, 18.10s/it]\n"
     ]
    }
   ],
   "source": [
    "lmpc_data = LMPCDataBuffer()\n",
    "umpc_data = UMPCDataBuffer()\n",
    "lmpc_data.initialize()\n",
    "\n",
    "slice_df = data.select(pl.col([\"time_utc\", \"inflow_kf\", \"co2_progn\",\"da_price\", 'inflow_q10', 'inflow_q50','inflow_q90']))\n",
    "inflow_kf = slice_df[\"time_utc\", \"inflow_kf\"].upsample(every=\"1m\", time_column= \"time_utc\").fill_null(strategy=\"forward\")[\"inflow_kf\"]\n",
    "\n",
    "zs = 3 \n",
    "N = 60\n",
    "horizon = 24\n",
    "step_size = 1\n",
    "max_start = len(slice_df) - horizon + 1\n",
    "start_index = 0\n",
    "trigger = [1, 0, 0]\n",
    "\n",
    "with tqdm(total=max_start, desc=\"Hour Steps\") as pbar:\n",
    "    start_index = 0\n",
    "    while start_index < max_start:\n",
    "        prices_values = slice_df[\"da_price\"][start_index : start_index + horizon]\n",
    "        co2_values = slice_df[\"co2_progn\"][start_index : start_index + horizon]\n",
    "        inflow_values = slice_df[\"inflow_kf\"][start_index : start_index + horizon]\n",
    "        \n",
    "        start_time_umpc =  time.time()\n",
    "        ############################################### Upper Level Optimization\n",
    "        \n",
    "        umpc_opt_results = step_upper_level(\n",
    "            horizon=horizon,\n",
    "            prices_values=prices_values,\n",
    "            co2_progn_values=co2_values,\n",
    "            inflow_values=inflow_values,\n",
    "            h_init=lmpc_data.data[\"height_sys\"][-1],\n",
    "            energy_init=lmpc_data.data[\"p1_power\"][-1] + lmpc_data.data[\"p3_power\"][-1] + lmpc_data.data[\"p4_power\"][-1],\n",
    "            Qout_init=lmpc_data.data[\"qout\"][-1])\n",
    "\n",
    "        end_time_umpc = time.time() - start_time_umpc\n",
    "        umpc_opt_results[\"opt_time_umpc\"] = end_time_umpc\n",
    "        umpc_opt_results[\"qin_q10\"] = slice_df[\"inflow_q10\"][0]\n",
    "        umpc_opt_results[\"qin_q50\"] = slice_df[\"inflow_q50\"][0]\n",
    "        umpc_opt_results[\"qin_q90\"] = slice_df[\"inflow_q90\"][0]\n",
    "        umpc_opt_results[\"time_utc\"] = slice_df[\"time_utc\"][start_index]\n",
    "        #if start_index == 58:\n",
    "        #    umpc_opt_results[\"height_ref\"] = 70\n",
    "        #if start_index >0:\n",
    "            #print(\"=========================\")\n",
    "            #print(\"Height sys:\", res_dict[\"height_sys\"])\n",
    "            #print(\"Height ref:\", umpc_opt_results[\"height_ref\"])\n",
    "        umpc_data.update(umpc_opt_results)\n",
    "\n",
    "        ############################################### Lower Level Optimization\n",
    "\n",
    "        if start_index % 3 == 0 and start_index != 0:\n",
    "        \n",
    "            trigger = circular_right_shift(trigger)\n",
    "\n",
    "\n",
    "        for k in range(0, 60):\n",
    "            u_stack = np.vstack([lmpc_data.data[\"u1\"][-zs:],\n",
    "                                lmpc_data.data[\"u2\"][-zs:], \n",
    "                                lmpc_data.data[\"u3\"][-zs:]])\n",
    "\n",
    "            power_stack = np.vstack([lmpc_data.data[\"p1_power\"][-zs:],\n",
    "                                    lmpc_data.data[\"p3_power\"][-zs:], \n",
    "                                    lmpc_data.data[\"p4_power\"][-zs:]])\n",
    "            \n",
    "            start_time_lmpc = time.time()\n",
    "\n",
    "            start_time_lmpc =  time.time()\n",
    "            res_dict  = step_lower_mpc(Qin_est = inflow_kf[start_index + k : start_index + k + 63], # da cambiare\n",
    "                                    Qout_meas = lmpc_data.data[\"qout\"][-zs:],\n",
    "                                    h_meas = lmpc_data.data[\"height_sys\"][-zs:],\n",
    "                                    w_meas = u_stack,\n",
    "                                    E_meas = power_stack,\n",
    "                                    P_meas = lmpc_data.data[\"pressure_sys\"][-zs:],\n",
    "                                    h_ref = umpc_opt_results[\"height_ref\"],\n",
    "                                    trigger = trigger,\n",
    "                                    N = 60,\n",
    "                                    zs = zs,\n",
    "                                    models_coefficients = models_coefficients)\n",
    "            end_time_lmpc = time.time() - start_time_lmpc\n",
    "            res_dict[\"opt_time_lmpc\"] = end_time_lmpc\n",
    "            res_dict['time_utc'] = slice_df[\"time_utc\"][start_index] + timedelta(minutes=k)\n",
    "            res_dict['height_ref'] = umpc_opt_results[\"height_ref\"]\n",
    "            res_dict['qin'] = inflow_kf[start_index + k : start_index + k + 1][0] # access value form the list           \n",
    "            lmpc_data.update(res_dict)\n",
    "\n",
    "        start_index += step_size\n",
    "        pbar.update(step_size)\n",
    "        if start_index == 48:\n",
    "            break\n",
    "    opt_lmpc = lmpc_data.to_dataframe(save=True, file_path='output_data/lmpc_rain_shift_results.par')\n",
    "    opt_umpc = umpc_data.to_dataframe(save=True, file_path='output_data/umpc_rain_shift_results.par')\n"
   ]
  },
  {
   "cell_type": "code",
   "execution_count": 55,
   "id": "1ce20912",
   "metadata": {},
   "outputs": [
    {
     "data": {
      "text/html": [
       "<div><style>\n",
       ".dataframe > thead > tr,\n",
       ".dataframe > tbody > tr {\n",
       "  text-align: right;\n",
       "  white-space: pre-wrap;\n",
       "}\n",
       "</style>\n",
       "<small>shape: (48, 12)</small><table border=\"1\" class=\"dataframe\"><thead><tr><th>time_utc</th><th>qout</th><th>qin</th><th>qin_q10</th><th>qin_q50</th><th>qin_q90</th><th>height_ref</th><th>energy_ref</th><th>co2_progn</th><th>da_price</th><th>objective</th><th>opt_time_umpc</th></tr><tr><td>datetime[μs, UTC]</td><td>f64</td><td>f64</td><td>f64</td><td>f64</td><td>f64</td><td>f64</td><td>f64</td><td>f64</td><td>f64</td><td>f64</td><td>f64</td></tr></thead><tbody><tr><td>2023-02-10 01:00:00 UTC</td><td>309.9</td><td>337.9</td><td>143.373214</td><td>330.127912</td><td>502.281903</td><td>70.0</td><td>66.7</td><td>0.0986</td><td>0.1849</td><td>457.6</td><td>0.05484</td></tr><tr><td>2023-02-10 02:00:00 UTC</td><td>312.5</td><td>328.2</td><td>143.373214</td><td>330.127912</td><td>502.281903</td><td>109.1</td><td>28.5</td><td>0.1035</td><td>0.1853</td><td>262.5</td><td>0.05277</td></tr><tr><td>2023-02-10 03:00:00 UTC</td><td>326.2</td><td>323.3</td><td>143.373214</td><td>330.127912</td><td>502.281903</td><td>101.6</td><td>31.5</td><td>0.1</td><td>0.1857</td><td>261.4</td><td>0.050139</td></tr><tr><td>2023-02-10 04:00:00 UTC</td><td>343.5</td><td>331.0</td><td>143.373214</td><td>330.127912</td><td>502.281903</td><td>70.0</td><td>35.2</td><td>0.1002</td><td>0.1915</td><td>260.2</td><td>0.054195</td></tr><tr><td>2023-02-10 05:00:00 UTC</td><td>352.5</td><td>352.6</td><td>143.373214</td><td>330.127912</td><td>502.281903</td><td>70.0</td><td>37.2</td><td>0.0932</td><td>0.2576</td><td>258.1</td><td>0.050464</td></tr><tr><td>&hellip;</td><td>&hellip;</td><td>&hellip;</td><td>&hellip;</td><td>&hellip;</td><td>&hellip;</td><td>&hellip;</td><td>&hellip;</td><td>&hellip;</td><td>&hellip;</td><td>&hellip;</td><td>&hellip;</td></tr><tr><td>2023-02-11 20:00:00 UTC</td><td>345.8</td><td>338.1</td><td>143.373214</td><td>330.127912</td><td>502.281903</td><td>163.9</td><td>35.6</td><td>0.1402</td><td>0.2605</td><td>295.1</td><td>0.047321</td></tr><tr><td>2023-02-11 21:00:00 UTC</td><td>356.4</td><td>330.4</td><td>143.373214</td><td>330.127912</td><td>502.281903</td><td>98.2</td><td>38.0</td><td>0.1295</td><td>0.2608</td><td>292.3</td><td>0.046539</td></tr><tr><td>2023-02-11 22:00:00 UTC</td><td>325.6</td><td>322.0</td><td>143.373214</td><td>330.127912</td><td>502.281903</td><td>88.6</td><td>31.2</td><td>0.1399</td><td>0.2957</td><td>288.6</td><td>0.048911</td></tr><tr><td>2023-02-11 23:00:00 UTC</td><td>307.4</td><td>310.8</td><td>143.373214</td><td>330.127912</td><td>502.281903</td><td>96.3</td><td>27.4</td><td>0.1509</td><td>0.2915</td><td>283.7</td><td>0.0477</td></tr><tr><td>2023-02-12 00:00:00 UTC</td><td>289.5</td><td>301.8</td><td>143.373214</td><td>330.127912</td><td>502.281903</td><td>126.2</td><td>23.6</td><td>0.1532</td><td>0.2978</td><td>278.8</td><td>0.049516</td></tr></tbody></table></div>"
      ],
      "text/plain": [
       "shape: (48, 12)\n",
       "┌───────────────┬───────┬───────┬────────────┬───┬───────────┬──────────┬───────────┬──────────────┐\n",
       "│ time_utc      ┆ qout  ┆ qin   ┆ qin_q10    ┆ … ┆ co2_progn ┆ da_price ┆ objective ┆ opt_time_ump │\n",
       "│ ---           ┆ ---   ┆ ---   ┆ ---        ┆   ┆ ---       ┆ ---      ┆ ---       ┆ c            │\n",
       "│ datetime[μs,  ┆ f64   ┆ f64   ┆ f64        ┆   ┆ f64       ┆ f64      ┆ f64       ┆ ---          │\n",
       "│ UTC]          ┆       ┆       ┆            ┆   ┆           ┆          ┆           ┆ f64          │\n",
       "╞═══════════════╪═══════╪═══════╪════════════╪═══╪═══════════╪══════════╪═══════════╪══════════════╡\n",
       "│ 2023-02-10    ┆ 309.9 ┆ 337.9 ┆ 143.373214 ┆ … ┆ 0.0986    ┆ 0.1849   ┆ 457.6     ┆ 0.05484      │\n",
       "│ 01:00:00 UTC  ┆       ┆       ┆            ┆   ┆           ┆          ┆           ┆              │\n",
       "│ 2023-02-10    ┆ 312.5 ┆ 328.2 ┆ 143.373214 ┆ … ┆ 0.1035    ┆ 0.1853   ┆ 262.5     ┆ 0.05277      │\n",
       "│ 02:00:00 UTC  ┆       ┆       ┆            ┆   ┆           ┆          ┆           ┆              │\n",
       "│ 2023-02-10    ┆ 326.2 ┆ 323.3 ┆ 143.373214 ┆ … ┆ 0.1       ┆ 0.1857   ┆ 261.4     ┆ 0.050139     │\n",
       "│ 03:00:00 UTC  ┆       ┆       ┆            ┆   ┆           ┆          ┆           ┆              │\n",
       "│ 2023-02-10    ┆ 343.5 ┆ 331.0 ┆ 143.373214 ┆ … ┆ 0.1002    ┆ 0.1915   ┆ 260.2     ┆ 0.054195     │\n",
       "│ 04:00:00 UTC  ┆       ┆       ┆            ┆   ┆           ┆          ┆           ┆              │\n",
       "│ 2023-02-10    ┆ 352.5 ┆ 352.6 ┆ 143.373214 ┆ … ┆ 0.0932    ┆ 0.2576   ┆ 258.1     ┆ 0.050464     │\n",
       "│ 05:00:00 UTC  ┆       ┆       ┆            ┆   ┆           ┆          ┆           ┆              │\n",
       "│ …             ┆ …     ┆ …     ┆ …          ┆ … ┆ …         ┆ …        ┆ …         ┆ …            │\n",
       "│ 2023-02-11    ┆ 345.8 ┆ 338.1 ┆ 143.373214 ┆ … ┆ 0.1402    ┆ 0.2605   ┆ 295.1     ┆ 0.047321     │\n",
       "│ 20:00:00 UTC  ┆       ┆       ┆            ┆   ┆           ┆          ┆           ┆              │\n",
       "│ 2023-02-11    ┆ 356.4 ┆ 330.4 ┆ 143.373214 ┆ … ┆ 0.1295    ┆ 0.2608   ┆ 292.3     ┆ 0.046539     │\n",
       "│ 21:00:00 UTC  ┆       ┆       ┆            ┆   ┆           ┆          ┆           ┆              │\n",
       "│ 2023-02-11    ┆ 325.6 ┆ 322.0 ┆ 143.373214 ┆ … ┆ 0.1399    ┆ 0.2957   ┆ 288.6     ┆ 0.048911     │\n",
       "│ 22:00:00 UTC  ┆       ┆       ┆            ┆   ┆           ┆          ┆           ┆              │\n",
       "│ 2023-02-11    ┆ 307.4 ┆ 310.8 ┆ 143.373214 ┆ … ┆ 0.1509    ┆ 0.2915   ┆ 283.7     ┆ 0.0477       │\n",
       "│ 23:00:00 UTC  ┆       ┆       ┆            ┆   ┆           ┆          ┆           ┆              │\n",
       "│ 2023-02-12    ┆ 289.5 ┆ 301.8 ┆ 143.373214 ┆ … ┆ 0.1532    ┆ 0.2978   ┆ 278.8     ┆ 0.049516     │\n",
       "│ 00:00:00 UTC  ┆       ┆       ┆            ┆   ┆           ┆          ┆           ┆              │\n",
       "└───────────────┴───────┴───────┴────────────┴───┴───────────┴──────────┴───────────┴──────────────┘"
      ]
     },
     "execution_count": 55,
     "metadata": {},
     "output_type": "execute_result"
    }
   ],
   "source": [
    "opt_umpc"
   ]
  },
  {
   "cell_type": "code",
   "execution_count": 54,
   "id": "4c4a5a83",
   "metadata": {},
   "outputs": [
    {
     "data": {
      "text/html": [
       "<div><style>\n",
       ".dataframe > thead > tr,\n",
       ".dataframe > tbody > tr {\n",
       "  text-align: right;\n",
       "  white-space: pre-wrap;\n",
       "}\n",
       "</style>\n",
       "<small>shape: (2_880, 13)</small><table border=\"1\" class=\"dataframe\"><thead><tr><th>time_utc</th><th>u1</th><th>u2</th><th>u3</th><th>p1_power</th><th>p3_power</th><th>p4_power</th><th>qout</th><th>qin</th><th>height_sys</th><th>height_ref</th><th>pressure_sys</th><th>opt_time_lmpc</th></tr><tr><td>datetime[μs, UTC]</td><td>f64</td><td>f64</td><td>f64</td><td>f64</td><td>f64</td><td>f64</td><td>f64</td><td>f64</td><td>f64</td><td>f64</td><td>f64</td><td>f64</td></tr></thead><tbody><tr><td>2023-02-10 01:00:00 UTC</td><td>0.0</td><td>0.0</td><td>741.0</td><td>85.1</td><td>129.8</td><td>106.4</td><td>-0.0</td><td>351.382888</td><td>21.9</td><td>70.0</td><td>0.54</td><td>0.295646</td></tr><tr><td>2023-02-10 01:01:00 UTC</td><td>0.0</td><td>0.0</td><td>735.0</td><td>53.1</td><td>81.0</td><td>79.1</td><td>-0.0</td><td>351.382888</td><td>43.9</td><td>70.0</td><td>0.54</td><td>0.282285</td></tr><tr><td>2023-02-10 01:02:00 UTC</td><td>0.0</td><td>0.0</td><td>729.0</td><td>33.1</td><td>50.6</td><td>62.0</td><td>276.4</td><td>351.382888</td><td>65.9</td><td>70.0</td><td>0.54</td><td>0.280691</td></tr><tr><td>2023-02-10 01:03:00 UTC</td><td>0.0</td><td>0.0</td><td>723.0</td><td>20.7</td><td>31.6</td><td>51.2</td><td>349.6</td><td>351.382888</td><td>70.6</td><td>70.0</td><td>0.567</td><td>0.272894</td></tr><tr><td>2023-02-10 01:04:00 UTC</td><td>1.0</td><td>0.0</td><td>718.0</td><td>12.9</td><td>19.7</td><td>44.4</td><td>352.8</td><td>351.382888</td><td>70.7</td><td>70.0</td><td>0.575</td><td>0.282932</td></tr><tr><td>&hellip;</td><td>&hellip;</td><td>&hellip;</td><td>&hellip;</td><td>&hellip;</td><td>&hellip;</td><td>&hellip;</td><td>&hellip;</td><td>&hellip;</td><td>&hellip;</td><td>&hellip;</td><td>&hellip;</td><td>&hellip;</td></tr><tr><td>2023-02-12 00:55:00 UTC</td><td>546.0</td><td>0.0</td><td>112.0</td><td>24.6</td><td>0.1</td><td>5.5</td><td>338.0</td><td>337.876451</td><td>125.4</td><td>126.2</td><td>0.574</td><td>0.270373</td></tr><tr><td>2023-02-12 00:56:00 UTC</td><td>549.0</td><td>0.0</td><td>109.0</td><td>24.7</td><td>0.1</td><td>5.4</td><td>338.1</td><td>337.876451</td><td>125.4</td><td>126.2</td><td>0.574</td><td>0.269328</td></tr><tr><td>2023-02-12 00:57:00 UTC</td><td>552.0</td><td>0.0</td><td>106.0</td><td>24.9</td><td>0.1</td><td>5.2</td><td>337.9</td><td>337.876451</td><td>125.4</td><td>126.2</td><td>0.574</td><td>0.264867</td></tr><tr><td>2023-02-12 00:58:00 UTC</td><td>555.0</td><td>0.0</td><td>103.0</td><td>25.0</td><td>0.1</td><td>5.1</td><td>337.7</td><td>337.876451</td><td>125.4</td><td>126.2</td><td>0.574</td><td>0.262773</td></tr><tr><td>2023-02-12 00:59:00 UTC</td><td>558.0</td><td>0.0</td><td>100.0</td><td>25.1</td><td>0.1</td><td>5.0</td><td>337.2</td><td>337.876451</td><td>125.4</td><td>126.2</td><td>0.574</td><td>0.267578</td></tr></tbody></table></div>"
      ],
      "text/plain": [
       "shape: (2_880, 13)\n",
       "┌───────────────┬───────┬─────┬───────┬───┬────────────┬────────────┬──────────────┬───────────────┐\n",
       "│ time_utc      ┆ u1    ┆ u2  ┆ u3    ┆ … ┆ height_sys ┆ height_ref ┆ pressure_sys ┆ opt_time_lmpc │\n",
       "│ ---           ┆ ---   ┆ --- ┆ ---   ┆   ┆ ---        ┆ ---        ┆ ---          ┆ ---           │\n",
       "│ datetime[μs,  ┆ f64   ┆ f64 ┆ f64   ┆   ┆ f64        ┆ f64        ┆ f64          ┆ f64           │\n",
       "│ UTC]          ┆       ┆     ┆       ┆   ┆            ┆            ┆              ┆               │\n",
       "╞═══════════════╪═══════╪═════╪═══════╪═══╪════════════╪════════════╪══════════════╪═══════════════╡\n",
       "│ 2023-02-10    ┆ 0.0   ┆ 0.0 ┆ 741.0 ┆ … ┆ 21.9       ┆ 70.0       ┆ 0.54         ┆ 0.295646      │\n",
       "│ 01:00:00 UTC  ┆       ┆     ┆       ┆   ┆            ┆            ┆              ┆               │\n",
       "│ 2023-02-10    ┆ 0.0   ┆ 0.0 ┆ 735.0 ┆ … ┆ 43.9       ┆ 70.0       ┆ 0.54         ┆ 0.282285      │\n",
       "│ 01:01:00 UTC  ┆       ┆     ┆       ┆   ┆            ┆            ┆              ┆               │\n",
       "│ 2023-02-10    ┆ 0.0   ┆ 0.0 ┆ 729.0 ┆ … ┆ 65.9       ┆ 70.0       ┆ 0.54         ┆ 0.280691      │\n",
       "│ 01:02:00 UTC  ┆       ┆     ┆       ┆   ┆            ┆            ┆              ┆               │\n",
       "│ 2023-02-10    ┆ 0.0   ┆ 0.0 ┆ 723.0 ┆ … ┆ 70.6       ┆ 70.0       ┆ 0.567        ┆ 0.272894      │\n",
       "│ 01:03:00 UTC  ┆       ┆     ┆       ┆   ┆            ┆            ┆              ┆               │\n",
       "│ 2023-02-10    ┆ 1.0   ┆ 0.0 ┆ 718.0 ┆ … ┆ 70.7       ┆ 70.0       ┆ 0.575        ┆ 0.282932      │\n",
       "│ 01:04:00 UTC  ┆       ┆     ┆       ┆   ┆            ┆            ┆              ┆               │\n",
       "│ …             ┆ …     ┆ …   ┆ …     ┆ … ┆ …          ┆ …          ┆ …            ┆ …             │\n",
       "│ 2023-02-12    ┆ 546.0 ┆ 0.0 ┆ 112.0 ┆ … ┆ 125.4      ┆ 126.2      ┆ 0.574        ┆ 0.270373      │\n",
       "│ 00:55:00 UTC  ┆       ┆     ┆       ┆   ┆            ┆            ┆              ┆               │\n",
       "│ 2023-02-12    ┆ 549.0 ┆ 0.0 ┆ 109.0 ┆ … ┆ 125.4      ┆ 126.2      ┆ 0.574        ┆ 0.269328      │\n",
       "│ 00:56:00 UTC  ┆       ┆     ┆       ┆   ┆            ┆            ┆              ┆               │\n",
       "│ 2023-02-12    ┆ 552.0 ┆ 0.0 ┆ 106.0 ┆ … ┆ 125.4      ┆ 126.2      ┆ 0.574        ┆ 0.264867      │\n",
       "│ 00:57:00 UTC  ┆       ┆     ┆       ┆   ┆            ┆            ┆              ┆               │\n",
       "│ 2023-02-12    ┆ 555.0 ┆ 0.0 ┆ 103.0 ┆ … ┆ 125.4      ┆ 126.2      ┆ 0.574        ┆ 0.262773      │\n",
       "│ 00:58:00 UTC  ┆       ┆     ┆       ┆   ┆            ┆            ┆              ┆               │\n",
       "│ 2023-02-12    ┆ 558.0 ┆ 0.0 ┆ 100.0 ┆ … ┆ 125.4      ┆ 126.2      ┆ 0.574        ┆ 0.267578      │\n",
       "│ 00:59:00 UTC  ┆       ┆     ┆       ┆   ┆            ┆            ┆              ┆               │\n",
       "└───────────────┴───────┴─────┴───────┴───┴────────────┴────────────┴──────────────┴───────────────┘"
      ]
     },
     "execution_count": 54,
     "metadata": {},
     "output_type": "execute_result"
    }
   ],
   "source": [
    "opt_lmpc"
   ]
  },
  {
   "cell_type": "code",
   "execution_count": null,
   "id": "081726c5",
   "metadata": {},
   "outputs": [],
   "source": []
  }
 ],
 "metadata": {
  "kernelspec": {
   "display_name": "opt_env",
   "language": "python",
   "name": "python3"
  },
  "language_info": {
   "codemirror_mode": {
    "name": "ipython",
    "version": 3
   },
   "file_extension": ".py",
   "mimetype": "text/x-python",
   "name": "python",
   "nbconvert_exporter": "python",
   "pygments_lexer": "ipython3",
   "version": "3.12.9"
  }
 },
 "nbformat": 4,
 "nbformat_minor": 5
}
