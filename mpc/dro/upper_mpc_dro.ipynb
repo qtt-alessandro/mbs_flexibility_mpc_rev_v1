{
 "cells": [
  {
   "cell_type": "code",
   "execution_count": 322,
   "id": "a9b01cac",
   "metadata": {},
   "outputs": [
    {
     "name": "stdout",
     "output_type": "stream",
     "text": [
      "The autoreload extension is already loaded. To reload it, use:\n",
      "  %reload_ext autoreload\n"
     ]
    }
   ],
   "source": [
    "import os \n",
    "import json \n",
    "import pandas as pd \n",
    "import polars as pl \n",
    "import numpy as np\n",
    "from tqdm import tqdm \n",
    "import time \n",
    "from datetime import timedelta\n",
    "\n",
    "import sys\n",
    "import os\n",
    "\n",
    "\n",
    "\n",
    "\n",
    "from upper_mpc_dro import step_upper_level, UMPCDataBuffer\n",
    "from datetime import datetime, timezone\n",
    "\n",
    "\n",
    "%load_ext autoreload\n",
    "%autoreload 2"
   ]
  },
  {
   "cell_type": "code",
   "execution_count": 323,
   "id": "b1a774ec",
   "metadata": {},
   "outputs": [],
   "source": [
    "#time = pl.read_parquet(os.path.join(data_path_wsl, \"sim_data/sim_data_1h_full.par\"))\n",
    "#upper_mpc_data_pan = pl.read_parquet(os.path.join(data_path_wsl, \"sim_data/sim_data_1h_full.par\"))\n",
    "#p1= pl.read_parquet(\"/home/alqua/data/data_vdfs/pump1_power_siso.par\").group_by_dynamic(index_column=\"time\", every=\"1h\").agg(pl.col(\"pump1_power\").mean())\n",
    "#p4= pl.read_parquet(\"/home/alqua/data/data_vdfs/pump4_power_siso.par\").group_by_dynamic(index_column=\"time\", every=\"1h\").agg(pl.col(\"pump4_power\").mean())\n",
    "#p3= pl.read_parquet(\"/home/alqua/data/data_vdfs/pump3_power_siso.par\").group_by_dynamic(index_column=\"time\", every=\"1h\").agg(pl.col(\"pump3_power\").mean())\n",
    "#pumps_df = p1.join(p4, on=\"time\").join(p3, on=\"time\")\n",
    "#baseline_df = (pumps_df.group_by(\"hours\").agg(\n",
    "#                    pl.col(\"energy_cons\").mean().alias(\"mean_energy_cons\"),\n",
    "#                    pl.col(\"energy_cons\").std().alias(\"std_energy_cons\")\n",
    "#                ).sort(\"hours\"))"
   ]
  },
  {
   "cell_type": "code",
   "execution_count": 324,
   "id": "59108847",
   "metadata": {},
   "outputs": [],
   "source": [
    "data_path_wsl = \"/home/alqua/data/pump_station_data/\"\n",
    "data = pl.read_parquet('/home/alqua/papers/mbs_flexibility_mpc_rev_v1/mpc/input_data/aggregated_data_for_mpc.par')"
   ]
  },
  {
   "cell_type": "code",
   "execution_count": 325,
   "id": "629662bb",
   "metadata": {},
   "outputs": [],
   "source": [
    "start_date = pd.to_datetime(\"2023-02-10 00:00:00+00:00\")\n",
    "end_date = pd.to_datetime(\"2023-02-28 14:00:00+00:00\")\n",
    "\n",
    "data = data.filter((pl.col(\"time\") >= start_date) & \n",
    "                   (pl.col(\"time\") <= end_date)\n",
    "                  ).with_columns(\n",
    "                      pl.col(\"CO2Emission\")/1000, #Kg/Kwh\n",
    "                      pl.col(\"price\")/1000 # 90 eur/ton -> 0.09eur per kg\n",
    "                  )\n",
    "\n",
    "data = data.with_columns(\n",
    "    # Add Danish grid & tax surcharge: 0.166 EUR/kWh per element (business, 2024, excl. VAT)\n",
    "    (pl.col(\"price\") + 0.166), \n",
    "    (pl.col(\"CO2Emission\") * 0.09))\n",
    "\n"
   ]
  },
  {
   "cell_type": "code",
   "execution_count": 326,
   "id": "90722354",
   "metadata": {},
   "outputs": [],
   "source": [
    "new_cols_map = {\n",
    "    'time': 'time_utc',\n",
    "    'inflow': 'inflow_kf', \n",
    "    'inflow_0.1': 'inflow_q10', \n",
    "    'inflow_0.5': 'inflow_q50', \n",
    "    'inflow_0.9': 'inflow_q90', \n",
    "    'price': 'da_price',\n",
    "    'CO2Emission': 'co2_progn'}\n",
    "\n",
    "data = data.select(new_cols_map).rename(new_cols_map)\n"
   ]
  },
  {
   "cell_type": "code",
   "execution_count": 327,
   "id": "698e8b10",
   "metadata": {},
   "outputs": [],
   "source": [
    "with open('../input_data/lower_mpc_coefficients.json', 'r') as json_file:\n",
    "    models_coefficients = json.load(json_file)"
   ]
  },
  {
   "cell_type": "code",
   "execution_count": 328,
   "id": "53329aec",
   "metadata": {},
   "outputs": [],
   "source": [
    "umpc_data = UMPCDataBuffer()"
   ]
  },
  {
   "cell_type": "code",
   "execution_count": 329,
   "id": "6f05eac8",
   "metadata": {},
   "outputs": [],
   "source": [
    "umpc_ini = {\n",
    "    'time_utc': np.nan,             # timestamp for 2023-02-10 01:00:00 UTC\n",
    "    'qout': 360,                   # no data given\n",
    "    'qin': 351.382888,                  # inflow_kf\n",
    "    'qin_q10': 143.373214,              # inflow_q10\n",
    "    'qin_q50': 330.127912,              # inflow_q50\n",
    "    'qin_q90': 502.281903,              # inflow_q90\n",
    "    'height_ref': 150,             # no data given\n",
    "    'energy_ref': 20,             # no data given\n",
    "    'co2_progn': 0.0882,                # co2_progn\n",
    "    'da_price': 0.18384,                # da_price\n",
    "    'objective': 0,              # no data given\n",
    "    'opt_time_umpc':0          # no data given\n",
    "}"
   ]
  },
  {
   "cell_type": "code",
   "execution_count": null,
   "id": "b03b3d07",
   "metadata": {},
   "outputs": [],
   "source": []
  },
  {
   "cell_type": "code",
   "execution_count": 330,
   "id": "6c4ee560",
   "metadata": {},
   "outputs": [
    {
     "name": "stderr",
     "output_type": "stream",
     "text": [
      "Hour Steps:   0%|          | 1/423 [00:00<01:06,  6.35it/s]"
     ]
    },
    {
     "name": "stdout",
     "output_type": "stream",
     "text": [
      "-52.0\n"
     ]
    },
    {
     "name": "stderr",
     "output_type": "stream",
     "text": [
      "Hour Steps:   0%|          | 2/423 [00:00<01:05,  6.46it/s]"
     ]
    },
    {
     "name": "stdout",
     "output_type": "stream",
     "text": [
      "-52.0\n"
     ]
    },
    {
     "name": "stderr",
     "output_type": "stream",
     "text": [
      "Hour Steps:   1%|          | 3/423 [00:00<01:03,  6.57it/s]"
     ]
    },
    {
     "name": "stdout",
     "output_type": "stream",
     "text": [
      "-32.2\n"
     ]
    },
    {
     "name": "stderr",
     "output_type": "stream",
     "text": [
      "Hour Steps:   1%|          | 5/423 [00:00<01:00,  6.88it/s]"
     ]
    },
    {
     "name": "stdout",
     "output_type": "stream",
     "text": [
      "-9.2\n",
      "14.8\n"
     ]
    },
    {
     "name": "stderr",
     "output_type": "stream",
     "text": [
      "Hour Steps:   1%|▏         | 6/423 [00:00<00:59,  7.01it/s]"
     ]
    },
    {
     "name": "stdout",
     "output_type": "stream",
     "text": [
      "17.4\n"
     ]
    },
    {
     "name": "stderr",
     "output_type": "stream",
     "text": [
      "Hour Steps:   2%|▏         | 7/423 [00:01<00:57,  7.20it/s]"
     ]
    },
    {
     "name": "stdout",
     "output_type": "stream",
     "text": [
      "9.3\n"
     ]
    },
    {
     "name": "stderr",
     "output_type": "stream",
     "text": [
      "Hour Steps:   2%|▏         | 9/423 [00:01<00:56,  7.30it/s]"
     ]
    },
    {
     "name": "stdout",
     "output_type": "stream",
     "text": [
      "-1.7\n",
      "-21.4\n"
     ]
    },
    {
     "name": "stderr",
     "output_type": "stream",
     "text": [
      "Hour Steps:   3%|▎         | 11/423 [00:01<00:54,  7.60it/s]"
     ]
    },
    {
     "name": "stdout",
     "output_type": "stream",
     "text": [
      "-37.5\n",
      "-39.4\n"
     ]
    },
    {
     "name": "stderr",
     "output_type": "stream",
     "text": [
      "Hour Steps:   3%|▎         | 14/423 [00:01<00:50,  8.06it/s]"
     ]
    },
    {
     "name": "stdout",
     "output_type": "stream",
     "text": [
      "-38.5\n",
      "-36.9\n",
      "-34.6\n"
     ]
    },
    {
     "name": "stderr",
     "output_type": "stream",
     "text": [
      "Hour Steps:   4%|▍         | 16/423 [00:02<00:49,  8.21it/s]"
     ]
    },
    {
     "name": "stdout",
     "output_type": "stream",
     "text": [
      "-31.3\n",
      "-29.6\n",
      "-26.7\n"
     ]
    },
    {
     "name": "stderr",
     "output_type": "stream",
     "text": [
      "Hour Steps:   4%|▍         | 19/423 [00:02<00:49,  8.16it/s]"
     ]
    },
    {
     "name": "stdout",
     "output_type": "stream",
     "text": [
      "-25.4\n",
      "-22.0\n"
     ]
    },
    {
     "name": "stderr",
     "output_type": "stream",
     "text": [
      "Hour Steps:   5%|▍         | 21/423 [00:02<00:49,  8.18it/s]"
     ]
    },
    {
     "name": "stdout",
     "output_type": "stream",
     "text": [
      "-18.6\n",
      "-11.4\n"
     ]
    },
    {
     "name": "stderr",
     "output_type": "stream",
     "text": [
      "Hour Steps:   5%|▌         | 23/423 [00:03<00:48,  8.18it/s]"
     ]
    },
    {
     "name": "stdout",
     "output_type": "stream",
     "text": [
      "4.4\n",
      "6.1\n",
      "12.7\n"
     ]
    },
    {
     "name": "stderr",
     "output_type": "stream",
     "text": [
      "Hour Steps:   5%|▌         | 23/423 [00:03<00:54,  7.38it/s]\n"
     ]
    }
   ],
   "source": [
    "import numpy as np\n",
    "import matplotlib.pyplot as plt\n",
    "from matplotlib.dates import DateFormatter\n",
    "import matplotlib.dates as mdates\n",
    "import warnings\n",
    "import polars as pl \n",
    "import matplotlib.pyplot as plt \n",
    "import scienceplots\n",
    "from matplotlib.ticker import AutoMinorLocator\n",
    "\n",
    "umpc_data = UMPCDataBuffer()\n",
    "umpc_data.initialize(umpc_ini)\n",
    "\n",
    "warnings.filterwarnings('ignore', module='matplotlib')\n",
    "plt.style.use('ieee')\n",
    "\n",
    "slice_df = data.select(pl.col([\"time_utc\", \"inflow_kf\", \"co2_progn\",\"da_price\", 'inflow_q10', 'inflow_q50','inflow_q90']))\n",
    "inflow_kf = slice_df[\"time_utc\", \"inflow_kf\"].upsample(every=\"1m\", time_column= \"time_utc\").fill_null(strategy=\"forward\")[\"inflow_kf\"]\n",
    "\n",
    "zs = 3 \n",
    "N = 60\n",
    "horizon = 24\n",
    "step_size = 1\n",
    "max_start = len(slice_df) - horizon + 1\n",
    "start_index = 0\n",
    "trigger = [1, 0, 0]\n",
    "\n",
    "with tqdm(total=max_start, desc=\"Hour Steps\") as pbar:\n",
    "    start_index = 0\n",
    "    while start_index < max_start:\n",
    "        prices_values = slice_df[\"da_price\"][start_index : start_index + horizon]\n",
    "        co2_values = slice_df[\"co2_progn\"][start_index : start_index + horizon]\n",
    "        inflow_values = slice_df[\"inflow_kf\"][start_index : start_index + horizon]\n",
    "        \n",
    "        start_time_umpc =  time.time()\n",
    "        ############################################### Upper Level Optimization\n",
    "        \n",
    "        umpc_opt_results = step_upper_level(\n",
    "            horizon=horizon,\n",
    "            prices_values=prices_values,\n",
    "            co2_progn_values=co2_values,\n",
    "            inflow_values=inflow_values,\n",
    "            h_init=umpc_data.data[\"height_ref\"][-1],\n",
    "            energy_init=umpc_data.data[\"energy_ref\"][-1],\n",
    "            Qout_init=umpc_data.data[\"qout\"][-1])\n",
    "\n",
    "        end_time_umpc = time.time() - start_time_umpc\n",
    "        umpc_opt_results[\"opt_time_umpc\"] = end_time_umpc\n",
    "        umpc_opt_results[\"qin_q10\"] = slice_df[\"inflow_q10\"][start_index]\n",
    "        umpc_opt_results[\"qin_q50\"] = slice_df[\"inflow_q50\"][start_index]\n",
    "        umpc_opt_results[\"qin_q90\"] = slice_df[\"inflow_q90\"][start_index]\n",
    "        umpc_opt_results[\"time_utc\"] = slice_df[\"time_utc\"][start_index]\n",
    "\n",
    "        umpc_data.update(umpc_opt_results)\n",
    "\n",
    "        ############################################### Lower Level Optimization\n",
    "        start_index += 1\n",
    "        if start_index == 24:\n",
    "            break\n",
    "\n",
    "        pbar.update(step_size)\n",
    "    results_df = umpc_data.to_dataframe(save=False, file_path='../output_data/umpc_rain_shift_results.par', skip_ini=True)\n"
   ]
  },
  {
   "cell_type": "code",
   "execution_count": 332,
   "id": "c4ede3da",
   "metadata": {},
   "outputs": [
    {
     "data": {
      "text/html": [
       "<div><style>\n",
       ".dataframe > thead > tr,\n",
       ".dataframe > tbody > tr {\n",
       "  text-align: right;\n",
       "  white-space: pre-wrap;\n",
       "}\n",
       "</style>\n",
       "<small>shape: (22, 12)</small><table border=\"1\" class=\"dataframe\"><thead><tr><th>time_utc</th><th>qout</th><th>qin</th><th>qin_q10</th><th>qin_q50</th><th>qin_q90</th><th>height_ref</th><th>energy_ref</th><th>co2_progn</th><th>da_price</th><th>objective</th><th>opt_time_umpc</th></tr><tr><td>datetime[μs, UTC]</td><td>f64</td><td>f64</td><td>f64</td><td>f64</td><td>f64</td><td>f64</td><td>f64</td><td>f64</td><td>f64</td><td>f64</td><td>f64</td></tr></thead><tbody><tr><td>2023-02-10 03:00:00 UTC</td><td>54.7</td><td>323.3</td><td>14.392493</td><td>215.709795</td><td>377.961821</td><td>200.0</td><td>-0.0</td><td>0.1</td><td>0.1857</td><td>148452.1</td><td>0.148668</td></tr><tr><td>2023-02-10 04:00:00 UTC</td><td>29.2</td><td>331.0</td><td>31.300132</td><td>186.685908</td><td>352.843648</td><td>200.0</td><td>-0.0</td><td>0.1002</td><td>0.1915</td><td>134927.7</td><td>0.147707</td></tr><tr><td>2023-02-10 05:00:00 UTC</td><td>15.6</td><td>352.6</td><td>17.303789</td><td>190.353061</td><td>328.82951</td><td>200.0</td><td>-0.0</td><td>0.0932</td><td>0.2576</td><td>120499.3</td><td>0.13519</td></tr><tr><td>2023-02-10 06:00:00 UTC</td><td>35.8</td><td>380.6</td><td>-8.328892</td><td>171.130309</td><td>325.804499</td><td>185.6</td><td>5.9</td><td>0.1021</td><td>0.2938</td><td>120298.6</td><td>0.136267</td></tr><tr><td>2023-02-10 07:00:00 UTC</td><td>20.6</td><td>404.1</td><td>19.566682</td><td>157.491045</td><td>307.888566</td><td>70.0</td><td>0.3</td><td>0.0984</td><td>0.3088</td><td>117564.5</td><td>0.130353</td></tr><tr><td>&hellip;</td><td>&hellip;</td><td>&hellip;</td><td>&hellip;</td><td>&hellip;</td><td>&hellip;</td><td>&hellip;</td><td>&hellip;</td><td>&hellip;</td><td>&hellip;</td><td>&hellip;</td><td>&hellip;</td></tr><tr><td>2023-02-10 20:00:00 UTC</td><td>49.7</td><td>379.8</td><td>97.215689</td><td>269.602694</td><td>450.120956</td><td>120.3</td><td>1.8</td><td>0.0466</td><td>0.1961</td><td>100084.1</td><td>0.121929</td></tr><tr><td>2023-02-10 21:00:00 UTC</td><td>31.1</td><td>368.0</td><td>57.902199</td><td>226.973878</td><td>355.962801</td><td>117.7</td><td>1.0</td><td>0.0426</td><td>0.196</td><td>100041.1</td><td>0.120217</td></tr><tr><td>2023-02-10 22:00:00 UTC</td><td>16.6</td><td>359.4</td><td>157.00647</td><td>313.93065</td><td>478.41605</td><td>99.9</td><td>-0.0</td><td>0.0596</td><td>0.1985</td><td>99565.4</td><td>0.125328</td></tr><tr><td>2023-02-10 23:00:00 UTC</td><td>8.9</td><td>349.2</td><td>127.811582</td><td>272.385137</td><td>442.394378</td><td>85.5</td><td>-0.0</td><td>0.0551</td><td>0.1986</td><td>99819.7</td><td>0.118567</td></tr><tr><td>2023-02-11 00:00:00 UTC</td><td>4.7</td><td>342.7</td><td>102.757251</td><td>291.491568</td><td>434.162377</td><td>72.1</td><td>-0.0</td><td>0.0451</td><td>0.1965</td><td>99304.9</td><td>0.114085</td></tr></tbody></table></div>"
      ],
      "text/plain": [
       "shape: (22, 12)\n",
       "┌───────────────┬──────┬───────┬────────────┬───┬───────────┬──────────┬───────────┬───────────────┐\n",
       "│ time_utc      ┆ qout ┆ qin   ┆ qin_q10    ┆ … ┆ co2_progn ┆ da_price ┆ objective ┆ opt_time_umpc │\n",
       "│ ---           ┆ ---  ┆ ---   ┆ ---        ┆   ┆ ---       ┆ ---      ┆ ---       ┆ ---           │\n",
       "│ datetime[μs,  ┆ f64  ┆ f64   ┆ f64        ┆   ┆ f64       ┆ f64      ┆ f64       ┆ f64           │\n",
       "│ UTC]          ┆      ┆       ┆            ┆   ┆           ┆          ┆           ┆               │\n",
       "╞═══════════════╪══════╪═══════╪════════════╪═══╪═══════════╪══════════╪═══════════╪═══════════════╡\n",
       "│ 2023-02-10    ┆ 54.7 ┆ 323.3 ┆ 14.392493  ┆ … ┆ 0.1       ┆ 0.1857   ┆ 148452.1  ┆ 0.148668      │\n",
       "│ 03:00:00 UTC  ┆      ┆       ┆            ┆   ┆           ┆          ┆           ┆               │\n",
       "│ 2023-02-10    ┆ 29.2 ┆ 331.0 ┆ 31.300132  ┆ … ┆ 0.1002    ┆ 0.1915   ┆ 134927.7  ┆ 0.147707      │\n",
       "│ 04:00:00 UTC  ┆      ┆       ┆            ┆   ┆           ┆          ┆           ┆               │\n",
       "│ 2023-02-10    ┆ 15.6 ┆ 352.6 ┆ 17.303789  ┆ … ┆ 0.0932    ┆ 0.2576   ┆ 120499.3  ┆ 0.13519       │\n",
       "│ 05:00:00 UTC  ┆      ┆       ┆            ┆   ┆           ┆          ┆           ┆               │\n",
       "│ 2023-02-10    ┆ 35.8 ┆ 380.6 ┆ -8.328892  ┆ … ┆ 0.1021    ┆ 0.2938   ┆ 120298.6  ┆ 0.136267      │\n",
       "│ 06:00:00 UTC  ┆      ┆       ┆            ┆   ┆           ┆          ┆           ┆               │\n",
       "│ 2023-02-10    ┆ 20.6 ┆ 404.1 ┆ 19.566682  ┆ … ┆ 0.0984    ┆ 0.3088   ┆ 117564.5  ┆ 0.130353      │\n",
       "│ 07:00:00 UTC  ┆      ┆       ┆            ┆   ┆           ┆          ┆           ┆               │\n",
       "│ …             ┆ …    ┆ …     ┆ …          ┆ … ┆ …         ┆ …        ┆ …         ┆ …             │\n",
       "│ 2023-02-10    ┆ 49.7 ┆ 379.8 ┆ 97.215689  ┆ … ┆ 0.0466    ┆ 0.1961   ┆ 100084.1  ┆ 0.121929      │\n",
       "│ 20:00:00 UTC  ┆      ┆       ┆            ┆   ┆           ┆          ┆           ┆               │\n",
       "│ 2023-02-10    ┆ 31.1 ┆ 368.0 ┆ 57.902199  ┆ … ┆ 0.0426    ┆ 0.196    ┆ 100041.1  ┆ 0.120217      │\n",
       "│ 21:00:00 UTC  ┆      ┆       ┆            ┆   ┆           ┆          ┆           ┆               │\n",
       "│ 2023-02-10    ┆ 16.6 ┆ 359.4 ┆ 157.00647  ┆ … ┆ 0.0596    ┆ 0.1985   ┆ 99565.4   ┆ 0.125328      │\n",
       "│ 22:00:00 UTC  ┆      ┆       ┆            ┆   ┆           ┆          ┆           ┆               │\n",
       "│ 2023-02-10    ┆ 8.9  ┆ 349.2 ┆ 127.811582 ┆ … ┆ 0.0551    ┆ 0.1986   ┆ 99819.7   ┆ 0.118567      │\n",
       "│ 23:00:00 UTC  ┆      ┆       ┆            ┆   ┆           ┆          ┆           ┆               │\n",
       "│ 2023-02-11    ┆ 4.7  ┆ 342.7 ┆ 102.757251 ┆ … ┆ 0.0451    ┆ 0.1965   ┆ 99304.9   ┆ 0.114085      │\n",
       "│ 00:00:00 UTC  ┆      ┆       ┆            ┆   ┆           ┆          ┆           ┆               │\n",
       "└───────────────┴──────┴───────┴────────────┴───┴───────────┴──────────┴───────────┴───────────────┘"
      ]
     },
     "execution_count": 332,
     "metadata": {},
     "output_type": "execute_result"
    }
   ],
   "source": [
    "results_df = umpc_data.to_dataframe(save=False, file_path='../output_data/umpc_rain_shift_results.par', skip_ini=True)\n",
    "\n",
    "results_df"
   ]
  },
  {
   "cell_type": "code",
   "execution_count": null,
   "id": "0eba1f1d",
   "metadata": {},
   "outputs": [],
   "source": []
  }
 ],
 "metadata": {
  "kernelspec": {
   "display_name": "opt_env",
   "language": "python",
   "name": "python3"
  },
  "language_info": {
   "codemirror_mode": {
    "name": "ipython",
    "version": 3
   },
   "file_extension": ".py",
   "mimetype": "text/x-python",
   "name": "python",
   "nbconvert_exporter": "python",
   "pygments_lexer": "ipython3",
   "version": "3.12.9"
  }
 },
 "nbformat": 4,
 "nbformat_minor": 5
}
