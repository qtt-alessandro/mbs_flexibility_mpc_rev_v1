{
 "cells": [
  {
   "cell_type": "code",
   "execution_count": 1,
   "id": "a9b01cac",
   "metadata": {},
   "outputs": [],
   "source": [
    "import numpy as np\n",
    "import cvxpy as cp\n",
    "import json \n",
    "import json \n",
    "import pandas as pd \n",
    "import polars as pl \n",
    "import os \n",
    "from lower_mpc_old import step_lower_mpc, LMPCDataBuffer\n",
    "from upper_mpc import step_upper_level, UMPCDataBuffer\n",
    "from tqdm import tqdm \n",
    "import time \n",
    "from datetime import timedelta\n",
    "import matplotlib.pyplot as plt \n",
    "%load_ext autoreload\n",
    "%autoreload 2"
   ]
  },
  {
   "cell_type": "code",
   "execution_count": 2,
   "id": "90215771",
   "metadata": {},
   "outputs": [],
   "source": [
    "root_folder = \"/home/alqua/papers/mbs_aggregation_paper_code/mpc/\"\n",
    "params_path = \"sys_id/results/\""
   ]
  },
  {
   "cell_type": "code",
   "execution_count": 3,
   "id": "b1a774ec",
   "metadata": {},
   "outputs": [],
   "source": [
    "data_path_wsl = \"/home/alqua/data/pump_station_data/\"\n",
    "upper_mpc_data = pl.read_parquet(os.path.join(data_path_wsl, \"sim_data/sim_data_1h_full.par\"))\n",
    "upper_mpc_data_pan = pl.read_parquet(os.path.join(data_path_wsl, \"sim_data/sim_data_1h_full.par\"))"
   ]
  },
  {
   "cell_type": "code",
   "execution_count": 4,
   "id": "629662bb",
   "metadata": {},
   "outputs": [],
   "source": [
    "start_date = pd.to_datetime(\"2024-02-15 00:00:00+00:00\")\n",
    "end_date = pd.to_datetime(\"2024-02-25 08:00:00+00:00\")\n",
    "\n",
    "upper_mpc_data = upper_mpc_data.filter((pl.col(\"time\") >= start_date) & \n",
    "                                       (pl.col(\"time\") <= end_date)\n",
    "                                       ).with_columns(pl.col(\"CO2Emission\")/1000, pl.col(\"price\")/1000)\n",
    "\n",
    "upper_mpc_data = upper_mpc_data.with_columns(pl.col(\"time\").dt.day().alias(\"day_index\"))\n",
    "day_sliced_df = upper_mpc_data.filter(pl.col(\"day_index\") == 15)"
   ]
  },
  {
   "cell_type": "code",
   "execution_count": 5,
   "id": "698e8b10",
   "metadata": {},
   "outputs": [],
   "source": [
    "with open('lower_mpc_coefficients.json', 'r') as json_file:\n",
    "    models_coefficients = json.load(json_file)"
   ]
  },
  {
   "cell_type": "code",
   "execution_count": null,
   "id": "b2ee2630",
   "metadata": {},
   "outputs": [],
   "source": [
    "\n"
   ]
  },
  {
   "cell_type": "code",
   "execution_count": null,
   "id": "60d46e29",
   "metadata": {},
   "outputs": [],
   "source": []
  },
  {
   "cell_type": "code",
   "execution_count": null,
   "id": "52a9cfad",
   "metadata": {},
   "outputs": [],
   "source": []
  },
  {
   "cell_type": "code",
   "execution_count": 41,
   "id": "6c4ee560",
   "metadata": {},
   "outputs": [
    {
     "name": "stderr",
     "output_type": "stream",
     "text": [
      "Hour Steps: 100%|██████████| 13/13 [05:34<00:00, 25.71s/it]\n"
     ]
    }
   ],
   "source": [
    "lmpc_data = LMPCDataBuffer()\n",
    "umpc_data = UMPCDataBuffer()\n",
    "lmpc_data.initialize()\n",
    "\n",
    "slice_df = upper_mpc_data.select(pl.col([\"time\", \"inflow_kf\", \"CO2Emission\",\"price\"]))\n",
    "inflow_kf = slice_df[\"time\", \"inflow_kf\"].upsample(every=\"1m\", time_column= \"time\").fill_null(strategy=\"forward\")[\"inflow_kf\"]\n",
    "\n",
    "k = 0 \n",
    "zs = 3 \n",
    "N = 60\n",
    "horizon = 24\n",
    "step_size = 1\n",
    "max_start = len(slice_df) - horizon + 1\n",
    "start_index = 0 \n",
    "\n",
    "with tqdm(total=max_start, desc=\"Hour Steps\") as pbar:\n",
    "    start_index = 0\n",
    "    while start_index < max_start:\n",
    "        prices_values = slice_df[\"price\"][start_index : start_index + horizon]\n",
    "        co2_values = slice_df[\"CO2Emission\"][start_index : start_index + horizon]\n",
    "        inflow_values = slice_df[\"inflow_kf\"][start_index : start_index + horizon]\n",
    "        # do stuff\n",
    "        #print(start_index, start_index + horizon)\n",
    "        \n",
    "        start_time_umpc =  time.time()\n",
    "        # Upper Level Optimization\n",
    "        \n",
    "        umpc_opt_results = step_upper_level(\n",
    "            horizon=horizon,\n",
    "            prices_values=prices_values,\n",
    "            co2_progn_values=co2_values,\n",
    "            inflow_values=inflow_values,\n",
    "            h_init=lmpc_data.data[\"height_sys\"][-1],\n",
    "            energy_init=lmpc_data.data[\"p1_power\"][-1] + lmpc_data.data[\"p3_power\"][-1] + lmpc_data.data[\"p4_power\"][-1],\n",
    "            Qout_init=lmpc_data.data[\"qout\"][-1])\n",
    "\n",
    "        end_time_umpc = time.time() - start_time_umpc\n",
    "        umpc_opt_results[\"opt_time_umpc\"] = end_time_umpc\n",
    "        umpc_data.update(umpc_opt_results)\n",
    "\n",
    "        for k in range(0, 60):\n",
    "            u_stack = np.vstack([lmpc_data.data[\"u1\"][-zs:],\n",
    "                                lmpc_data.data[\"u2\"][-zs:], \n",
    "                                lmpc_data.data[\"u3\"][-zs:]])\n",
    "            power_stack = np.vstack([lmpc_data.data[\"p1_power\"][-zs:],\n",
    "                                    lmpc_data.data[\"p3_power\"][-zs:], \n",
    "                                    lmpc_data.data[\"p4_power\"][-zs:]])\n",
    "            \n",
    "            start_time_lmpc = time.time()\n",
    "\n",
    "            start_time_lmpc =  time.time()\n",
    "            res_dict  = step_lower_mpc(Qin_est = inflow_kf[start_index + k : start_index + k + 63], # da cambiare\n",
    "                                    Qout_meas = lmpc_data.data[\"qout\"][-zs:],\n",
    "                                    h_meas = lmpc_data.data[\"height_sys\"][-zs:],\n",
    "                                    w_meas = u_stack,\n",
    "                                    E_meas = power_stack,\n",
    "                                    P_meas = lmpc_data.data[\"pressure_sys\"][-zs:],\n",
    "                                    h_ref = umpc_opt_results[\"height\"],\n",
    "                                    trigger = [1,0,0],\n",
    "                                    N = 60,\n",
    "                                    zs = zs,\n",
    "                                    models_coefficients = models_coefficients)\n",
    "            end_time_lmpc = time.time() - start_time_lmpc\n",
    "            res_dict[\"opt_time_lmpc\"] = end_time_lmpc\n",
    "\n",
    "            res_dict['time'] = slice_df[\"time\"][start_index] + timedelta(minutes=k)\n",
    "            res_dict['height_ref'] = umpc_opt_results[\"height\"]\n",
    "            res_dict['qin'] = inflow_kf[k+zs:k+zs+N+zs]\n",
    "            res_dict['time'] = 0 \n",
    "            \n",
    "            lmpc_data.update(res_dict)\n",
    "\n",
    "        start_index += step_size\n",
    "        pbar.update(step_size)"
   ]
  },
  {
   "cell_type": "code",
   "execution_count": 1,
   "id": "fe069a52",
   "metadata": {},
   "outputs": [
    {
     "ename": "NameError",
     "evalue": "name 'plt' is not defined",
     "output_type": "error",
     "traceback": [
      "\u001b[0;31m---------------------------------------------------------------------------\u001b[0m",
      "\u001b[0;31mNameError\u001b[0m                                 Traceback (most recent call last)",
      "Cell \u001b[0;32mIn[1], line 1\u001b[0m\n\u001b[0;32m----> 1\u001b[0m plt\u001b[38;5;241m.\u001b[39mplot(opt_lmpc[\u001b[38;5;124m\"\u001b[39m\u001b[38;5;124mheight_sys\u001b[39m\u001b[38;5;124m\"\u001b[39m])\n\u001b[1;32m      2\u001b[0m plt\u001b[38;5;241m.\u001b[39mplot(opt_lmpc[\u001b[38;5;124m\"\u001b[39m\u001b[38;5;124mheight_ref\u001b[39m\u001b[38;5;124m\"\u001b[39m])\n",
      "\u001b[0;31mNameError\u001b[0m: name 'plt' is not defined"
     ]
    }
   ],
   "source": [
    "plt.plot(opt_lmpc[\"height_sys\"])\n",
    "plt.plot(opt_lmpc[\"height_ref\"])"
   ]
  },
  {
   "cell_type": "code",
   "execution_count": null,
   "id": "22381a4f",
   "metadata": {},
   "outputs": [],
   "source": []
  },
  {
   "cell_type": "code",
   "execution_count": null,
   "id": "66eccc18",
   "metadata": {},
   "outputs": [],
   "source": []
  }
 ],
 "metadata": {
  "kernelspec": {
   "display_name": "opt_env",
   "language": "python",
   "name": "python3"
  },
  "language_info": {
   "codemirror_mode": {
    "name": "ipython",
    "version": 3
   },
   "file_extension": ".py",
   "mimetype": "text/x-python",
   "name": "python",
   "nbconvert_exporter": "python",
   "pygments_lexer": "ipython3",
   "version": "3.12.9"
  }
 },
 "nbformat": 4,
 "nbformat_minor": 5
}
