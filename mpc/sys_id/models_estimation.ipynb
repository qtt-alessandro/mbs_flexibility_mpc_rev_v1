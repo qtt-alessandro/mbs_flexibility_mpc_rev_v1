{
 "cells": [
  {
   "cell_type": "code",
   "execution_count": 1,
   "id": "5a42aad1",
   "metadata": {},
   "outputs": [],
   "source": [
    "import polars as pl\n",
    "import sys, os\n",
    "from sippy import *\n",
    "import numpy as np\n",
    "from sippy import functionset as fset\n",
    "from sippy import functionsetSIM as fsetSIM\n",
    "import matplotlib.pyplot as plt\n",
    "import pandas as pd\n",
    "import control as cnt\n",
    "import json\n",
    "from datetime import datetime, timezone\n",
    "import plotly.graph_objects as go\n",
    "from plotly_resampler import FigureResampler, FigureWidgetResampler"
   ]
  },
  {
   "cell_type": "code",
   "execution_count": 2,
   "id": "56c4be61",
   "metadata": {},
   "outputs": [],
   "source": [
    "data_path = '/home/alqua/data/data_vdfs'"
   ]
  },
  {
   "cell_type": "code",
   "execution_count": 3,
   "id": "2c8d0031",
   "metadata": {},
   "outputs": [],
   "source": [
    "start_filter_date = datetime(2024, 1, 9, 00, 00, 0, tzinfo=timezone.utc)\n",
    "end_filter_date = datetime(2024, 2, 4, 00, 00, 0, tzinfo=timezone.utc)"
   ]
  },
  {
   "cell_type": "code",
   "execution_count": 4,
   "id": "4b17e6a6",
   "metadata": {},
   "outputs": [],
   "source": [
    "p1_power = pl.read_parquet(data_path + '/' +'pump1_power_siso.par')\n",
    "p3_power = pl.read_parquet(data_path + '/' +'pump3_power_siso.par')\n",
    "p4_power = pl.read_parquet(data_path + '/' +'pump4_power_siso.par')\n",
    "outflow_df = pl.read_parquet(data_path + '/' +'outflow_miso.par')\n",
    "pressure_df = pl.read_parquet(data_path + '/' +'pressure_miso.par')\n"
   ]
  },
  {
   "cell_type": "code",
   "execution_count": 5,
   "id": "69e1f08a",
   "metadata": {},
   "outputs": [],
   "source": [
    "sampling_time = '15s'\n",
    "\n",
    "p1_power = p1_power.filter(\n",
    "                                 (pl.col('time') >= start_filter_date) &\n",
    "                                   (pl.col('time')<= end_filter_date)\n",
    "                                 )\n",
    "\n",
    "p3_power = p3_power.filter(\n",
    "                                 (pl.col('time') >= start_filter_date) &\n",
    "                                   (pl.col('time')<= end_filter_date)\n",
    "                                 )\n",
    "\n",
    "p4_power = p4_power.filter(\n",
    "                                 (pl.col('time') >= start_filter_date) &\n",
    "                                   (pl.col('time')<= end_filter_date)\n",
    "                                 )\n",
    "\n",
    "\n",
    "pressure_df = pressure_df.filter(\n",
    "                                 (pl.col('time') >= start_filter_date) &\n",
    "                                   (pl.col('time')<= end_filter_date)\n",
    "                                 )"
   ]
  },
  {
   "cell_type": "code",
   "execution_count": 6,
   "id": "9c0d5f5d",
   "metadata": {},
   "outputs": [],
   "source": [
    "sysid_df = outflow_df.join(p1_power, \n",
    "                left_on='time', \n",
    "                right_on='time').join(p3_power, \n",
    "                left_on='time', \n",
    "                right_on='time').join(\n",
    "                p4_power, \n",
    "                left_on='time', \n",
    "                right_on='time').join(pressure_df, \n",
    "                left_on='time', \n",
    "                right_on='time').upsample(\n",
    "                    time_column='time', \n",
    "                    every=sampling_time, \n",
    "                    maintain_order=True).group_by_dynamic(\n",
    "                        'time', \n",
    "                        every=sampling_time, \n",
    "                        ).agg(pl.all().mean())"
   ]
  },
  {
   "cell_type": "code",
   "execution_count": 7,
   "id": "8156bf12",
   "metadata": {},
   "outputs": [],
   "source": [
    "features_cols = {\n",
    "    'time': 'time_utc',  \n",
    "    'level': 'h',\n",
    "    'outflow': 'qout',\n",
    "    'pump1_speed': 'p1_rpm',\n",
    "    'pump4_speed': 'p4_rpm',\n",
    "    'pump3_speed': 'p3_rpm',\n",
    "    'pump1_power': 'p1_power',\n",
    "    'pump3_power': 'p3_power',\n",
    "    'pump4_power': 'p4_power',\n",
    "    'pressure': 'pressure',\n",
    "}\n",
    "\n",
    "sysid_df = (\n",
    "    sysid_df\n",
    "    .select(features_cols.keys())\n",
    "    .rename(features_cols)\n",
    "    .filter(\n",
    "        (pl.col(\"p1_rpm\") > 0) |\n",
    "        (pl.col(\"p3_rpm\") > 0) |\n",
    "        (pl.col(\"p4_rpm\") > 0)\n",
    "    )\n",
    ")\n",
    "\n",
    "\n",
    "\n",
    "\n",
    "# Exclude rows where all p1_rpm, p3_rpm, p4_rpm are greater than zero\n",
    "sysid_df = sysid_df.with_columns((\n",
    "    pl.when(pl.col(\"p1_rpm\") > 0).then(pl.col(\"qout\")).otherwise(0).alias(\"qout_p1\"), \n",
    "    pl.when(pl.col(\"p3_rpm\") > 0).then(pl.col(\"qout\")).otherwise(0).alias(\"qout_p3\"),\n",
    "    pl.when(pl.col(\"p4_rpm\") > 0).then(pl.col(\"qout\")).otherwise(0).alias(\"qout_p4\")\n",
    ")).filter(~(\n",
    "    (pl.col(\"p1_rpm\") > 0) &\n",
    "    (pl.col(\"p3_rpm\") > 0) &\n",
    "    (pl.col(\"p4_rpm\") > 0)\n",
    "))"
   ]
  },
  {
   "cell_type": "code",
   "execution_count": 8,
   "id": "ab76a4ff",
   "metadata": {},
   "outputs": [],
   "source": [
    "from sippy import functionset as fset\n",
    "\n",
    "def identify_system(df, u_col, y_col, test_size=0.6, na=1, nb=2, theta=0, dt=None, predict_test =False, nsteps_ahead=1, plot_results=False, save_tf=False):\n",
    "\n",
    "    selected_data = df.select([u_col, y_col])\n",
    "    split_point = int(len(selected_data) * test_size)\n",
    "    train_df = selected_data.head(split_point)\n",
    "    test_df = selected_data.tail(len(selected_data) - split_point) \n",
    "    \n",
    "\n",
    "\n",
    "    u_train, u_test = train_df[u_col].to_numpy(), test_df[u_col].to_numpy()\n",
    "    y_train, y_test = train_df[y_col].to_numpy(), test_df[y_col].to_numpy()\n",
    "    \n",
    "    na_ords = [na]         \n",
    "    nb_ords = [[nb]]       \n",
    "    theta = [[theta]] \n",
    "\n",
    "    id_ARX = system_identification(y_train, u_train, 'ARX', stab_cons=True, \n",
    "                                ARX_orders=[na_ords, nb_ords, theta], tsample=dt) \n",
    "    \n",
    "    G = id_ARX.G  \n",
    "    print(f\"\\nTransfer function from {u_col} to {y_col}:\")\n",
    "    print(\"==================\")\n",
    "    print(id_ARX.G)\n",
    "    if save_tf: \n",
    "        tf_data = {\n",
    "                    \"u\": u_col,\n",
    "                    \"y\": y_col,\n",
    "                    \"na\": na, \n",
    "                    \"nb\":nb,\n",
    "                    \"num\": [round(x, 5) for x in id_ARX.NUMERATOR[0][0]],\n",
    "                    \"den\": [round(x, 5) for x in id_ARX.DENOMINATOR[0][0][1:]],\n",
    "                    \"dt\": dt\n",
    "                }\n",
    "        \n",
    "        filename = f\"tf_{u_col}_to_{y_col}.json\"\n",
    "        result_path = \"results/\"\n",
    "        with open(result_path + filename, 'w') as f:\n",
    "            json.dump(tf_data, f, indent=4)\n",
    "\n",
    "    if predict_test: \n",
    "        t_test = np.arange(0, len(y_test)) * dt\n",
    "        Yval = fset.validation(id_ARX, u_test, y_test, t_test, k=nsteps_ahead)\n",
    "        if plot_results: \n",
    "            fig = FigureWidgetResampler(go.Figure())\n",
    "            fig.update_layout(margin=dict(l=10, r=10, t=10, b=10))\n",
    "            fig.add_trace(\n",
    "                        go.Scattergl(\n",
    "                            x=t_test,\n",
    "                            y=y_test,\n",
    "                            name=f'{y_col} (Predicted from {u_col})',  # Shows column names\n",
    "                            showlegend=True,\n",
    "                            mode='lines'\n",
    "                        )\n",
    "                    )\n",
    "            fig.add_trace(\n",
    "                        go.Scattergl(\n",
    "                            x=t_test,\n",
    "                            y=Yval.flatten(),\n",
    "                            name=f'{y_col} (Predicted from {u_col})',  # Shows column names\n",
    "                            showlegend=True,\n",
    "                            mode='lines'\n",
    "                        )\n",
    "                    )\n",
    "            fig.update_layout(height=200, template=\"plotly_dark\")\n",
    "            display(fig)\n",
    "            \n",
    "        \n",
    "        return id_ARX, G, t_test, Yval\n",
    "\n",
    "    \n",
    "    else: \n",
    "        return id_ARX, G\n"
   ]
  },
  {
   "cell_type": "code",
   "execution_count": 9,
   "id": "d0f97e9b",
   "metadata": {},
   "outputs": [
    {
     "name": "stdout",
     "output_type": "stream",
     "text": [
      "Identifying model p1_rpm, qout_p1\n",
      "\n",
      "Transfer function from p1_rpm to qout_p1:\n",
      "==================\n",
      "\n",
      " 0.02131\n",
      "----------\n",
      "z - 0.9579\n",
      "\n",
      "dt = 15\n",
      "\n"
     ]
    },
    {
     "data": {
      "application/vnd.jupyter.widget-view+json": {
       "model_id": "59d266fffec9405381b6b3a50844e391",
       "version_major": 2,
       "version_minor": 0
      },
      "text/plain": [
       "FigureWidgetResampler({\n",
       "    'data': [{'mode': 'lines',\n",
       "              'name': ('<b style=\"color:sandybrown\">[R' ... ' style=\"color:#fc9944\">~2k</i>'),\n",
       "              'showlegend': True,\n",
       "              'type': 'scattergl',\n",
       "              'uid': 'bd5e2973-60aa-40d8-89d2-d329802c4d37',\n",
       "              'x': array([      0,     840,    1965, ..., 1502910, 1504095, 1505565]),\n",
       "              'y': array([426., 512., 401., ..., 457., 477.,   0.])},\n",
       "             {'mode': 'lines',\n",
       "              'name': ('<b style=\"color:sandybrown\">[R' ... ' style=\"color:#fc9944\">~2k</i>'),\n",
       "              'showlegend': True,\n",
       "              'type': 'scattergl',\n",
       "              'uid': 'c22677b5-f541-4eed-967e-6074115e252c',\n",
       "              'x': array([      0,      15,    1530, ..., 1502925, 1504110, 1505565]),\n",
       "              'y': array([  0.        , 429.78154141, 497.02436814, ..., 459.47513903,\n",
       "                          479.27153521,   0.        ])}],\n",
       "    'layout': {'height': 200, 'margin': {'b': 10, 'l': 10, 'r': 10, 't': 10}, 'template': '...'}\n",
       "})"
      ]
     },
     "metadata": {},
     "output_type": "display_data"
    },
    {
     "name": "stdout",
     "output_type": "stream",
     "text": [
      "Identifying model p1_rpm, p1_power\n",
      "\n",
      "Transfer function from p1_rpm to p1_power:\n",
      "==================\n",
      "\n",
      "0.003747\n",
      "--------\n",
      "z - 0.92\n",
      "\n",
      "dt = 15\n",
      "\n"
     ]
    },
    {
     "data": {
      "application/vnd.jupyter.widget-view+json": {
       "model_id": "68afb4bbe238432f9fc5993ec2bc7238",
       "version_major": 2,
       "version_minor": 0
      },
      "text/plain": [
       "FigureWidgetResampler({\n",
       "    'data': [{'mode': 'lines',\n",
       "              'name': ('<b style=\"color:sandybrown\">[R' ... ' style=\"color:#fc9944\">~2k</i>'),\n",
       "              'showlegend': True,\n",
       "              'type': 'scattergl',\n",
       "              'uid': '30ccc808-1410-4313-a058-7606aac1419b',\n",
       "              'x': array([      0,     915,    1995, ..., 1503375, 1504110, 1505565]),\n",
       "              'y': array([45.20000076, 51.29999924, 43.79999924, ..., 45.81999969, 47.68999863,\n",
       "                           0.        ])},\n",
       "             {'mode': 'lines',\n",
       "              'name': ('<b style=\"color:sandybrown\">[R' ... ' style=\"color:#fc9944\">~2k</i>'),\n",
       "              'showlegend': True,\n",
       "              'type': 'scattergl',\n",
       "              'uid': 'd3e18bad-2592-4f9d-ae6f-f2138bf0d46a',\n",
       "              'x': array([      0,     105,    1605, ..., 1503390, 1504125, 1505565]),\n",
       "              'y': array([ 0.        , 43.10739935, 49.68044217, ..., 45.97789728, 47.81076867,\n",
       "                           0.        ])}],\n",
       "    'layout': {'height': 200, 'margin': {'b': 10, 'l': 10, 'r': 10, 't': 10}, 'template': '...'}\n",
       "})"
      ]
     },
     "metadata": {},
     "output_type": "display_data"
    },
    {
     "name": "stdout",
     "output_type": "stream",
     "text": [
      "Identifying model p3_rpm, qout_p3\n",
      "\n",
      "Transfer function from p3_rpm to qout_p3:\n",
      "==================\n",
      "\n",
      " 0.02136\n",
      "----------\n",
      "z - 0.9554\n",
      "\n",
      "dt = 15\n",
      "\n"
     ]
    },
    {
     "data": {
      "application/vnd.jupyter.widget-view+json": {
       "model_id": "a5929b27fc6f4147b56618080fc00ac8",
       "version_major": 2,
       "version_minor": 0
      },
      "text/plain": [
       "FigureWidgetResampler({\n",
       "    'data': [{'mode': 'lines',\n",
       "              'name': ('<b style=\"color:sandybrown\">[R' ... ' style=\"color:#fc9944\">~2k</i>'),\n",
       "              'showlegend': True,\n",
       "              'type': 'scattergl',\n",
       "              'uid': 'bfcc585e-5b8c-4bf9-afc8-b794c6557a18',\n",
       "              'x': array([      0,      15,    1530, ..., 1503300, 1504605, 1505565]),\n",
       "              'y': array([  0.,   0.,   0., ...,   0., 590., 426.])},\n",
       "             {'mode': 'lines',\n",
       "              'name': ('<b style=\"color:sandybrown\">[R' ... ' style=\"color:#fc9944\">~2k</i>'),\n",
       "              'showlegend': True,\n",
       "              'type': 'scattergl',\n",
       "              'uid': '3e03d5ca-f5a6-484f-be48-fd54ccb08d7b',\n",
       "              'x': array([      0,      15,    1530, ..., 1503300, 1504620, 1505565]),\n",
       "              'y': array([  0.        ,   0.        ,   0.        , ...,   0.        ,\n",
       "                          588.65766692, 440.87788547])}],\n",
       "    'layout': {'height': 200, 'margin': {'b': 10, 'l': 10, 'r': 10, 't': 10}, 'template': '...'}\n",
       "})"
      ]
     },
     "metadata": {},
     "output_type": "display_data"
    },
    {
     "name": "stdout",
     "output_type": "stream",
     "text": [
      "Identifying model p3_rpm, p3_power\n",
      "\n",
      "Transfer function from p3_rpm to p3_power:\n",
      "==================\n",
      "\n",
      " 0.01035\n",
      "----------\n",
      "z - 0.7428\n",
      "\n",
      "dt = 15\n",
      "\n"
     ]
    },
    {
     "data": {
      "application/vnd.jupyter.widget-view+json": {
       "model_id": "6c3bd279cce447b89b1838cd7254d37a",
       "version_major": 2,
       "version_minor": 0
      },
      "text/plain": [
       "FigureWidgetResampler({\n",
       "    'data': [{'mode': 'lines',\n",
       "              'name': ('<b style=\"color:sandybrown\">[R' ... ' style=\"color:#fc9944\">~2k</i>'),\n",
       "              'showlegend': True,\n",
       "              'type': 'scattergl',\n",
       "              'uid': '69f1198d-a37b-4786-bd1e-ec94380fe3f5',\n",
       "              'x': array([      0,      15,    1530, ..., 1503300, 1504605, 1505565]),\n",
       "              'y': array([ 0.        ,  0.        ,  0.        , ...,  0.        , 49.02000046,\n",
       "                          42.11000061])},\n",
       "             {'mode': 'lines',\n",
       "              'name': ('<b style=\"color:sandybrown\">[R' ... ' style=\"color:#fc9944\">~2k</i>'),\n",
       "              'showlegend': True,\n",
       "              'type': 'scattergl',\n",
       "              'uid': '21fa249e-886d-4dcb-ae55-76c7324fd93c',\n",
       "              'x': array([      0,      15,    1530, ..., 1503300, 1504620, 1505565]),\n",
       "              'y': array([ 0.        ,  0.        ,  0.        , ...,  0.        , 48.52029666,\n",
       "                          40.55602472])}],\n",
       "    'layout': {'height': 200, 'margin': {'b': 10, 'l': 10, 'r': 10, 't': 10}, 'template': '...'}\n",
       "})"
      ]
     },
     "metadata": {},
     "output_type": "display_data"
    },
    {
     "name": "stdout",
     "output_type": "stream",
     "text": [
      "Identifying model p4_rpm, qout_p4\n",
      "\n",
      "Transfer function from p4_rpm to qout_p4:\n",
      "==================\n",
      "\n",
      "0.02154\n",
      "--------\n",
      "z - 0.96\n",
      "\n",
      "dt = 15\n",
      "\n"
     ]
    },
    {
     "data": {
      "application/vnd.jupyter.widget-view+json": {
       "model_id": "ee6a396fb33b4d1e9ad4146f3d122bae",
       "version_major": 2,
       "version_minor": 0
      },
      "text/plain": [
       "FigureWidgetResampler({\n",
       "    'data': [{'mode': 'lines',\n",
       "              'name': ('<b style=\"color:sandybrown\">[R' ... ' style=\"color:#fc9944\">~2k</i>'),\n",
       "              'showlegend': True,\n",
       "              'type': 'scattergl',\n",
       "              'uid': '0a8288f9-35c0-49e7-98c9-7d418b35bd05',\n",
       "              'x': array([      0,      15,    1530, ..., 1501800, 1503300, 1505565]),\n",
       "              'y': array([0., 0., 0., ..., 0., 0., 0.])},\n",
       "             {'mode': 'lines',\n",
       "              'name': ('<b style=\"color:sandybrown\">[R' ... ' style=\"color:#fc9944\">~2k</i>'),\n",
       "              'showlegend': True,\n",
       "              'type': 'scattergl',\n",
       "              'uid': 'b5db2b78-3e04-4e06-a5d9-51b66f82ac03',\n",
       "              'x': array([      0,      15,    1530, ..., 1501800, 1503300, 1505565]),\n",
       "              'y': array([0., 0., 0., ..., 0., 0., 0.])}],\n",
       "    'layout': {'height': 200, 'margin': {'b': 10, 'l': 10, 'r': 10, 't': 10}, 'template': '...'}\n",
       "})"
      ]
     },
     "metadata": {},
     "output_type": "display_data"
    },
    {
     "name": "stdout",
     "output_type": "stream",
     "text": [
      "Identifying model p4_rpm, p4_power\n",
      "\n",
      "Transfer function from p4_rpm to p4_power:\n",
      "==================\n",
      "\n",
      " 0.004471\n",
      "----------\n",
      "z - 0.9017\n",
      "\n",
      "dt = 15\n",
      "\n"
     ]
    },
    {
     "data": {
      "application/vnd.jupyter.widget-view+json": {
       "model_id": "f68019869fb74c99a825753fc615b807",
       "version_major": 2,
       "version_minor": 0
      },
      "text/plain": [
       "FigureWidgetResampler({\n",
       "    'data': [{'mode': 'lines',\n",
       "              'name': ('<b style=\"color:sandybrown\">[R' ... ' style=\"color:#fc9944\">~2k</i>'),\n",
       "              'showlegend': True,\n",
       "              'type': 'scattergl',\n",
       "              'uid': '13939e92-e62c-4576-86f6-c8bc6426163f',\n",
       "              'x': array([      0,      15,    1530, ..., 1501800, 1503300, 1505565]),\n",
       "              'y': array([0., 0., 0., ..., 0., 0., 0.])},\n",
       "             {'mode': 'lines',\n",
       "              'name': ('<b style=\"color:sandybrown\">[R' ... ' style=\"color:#fc9944\">~2k</i>'),\n",
       "              'showlegend': True,\n",
       "              'type': 'scattergl',\n",
       "              'uid': 'bad8f9e1-3bee-467c-a6cf-5d558db3e357',\n",
       "              'x': array([      0,      15,    1530, ..., 1501800, 1503300, 1505565]),\n",
       "              'y': array([0., 0., 0., ..., 0., 0., 0.])}],\n",
       "    'layout': {'height': 200, 'margin': {'b': 10, 'l': 10, 'r': 10, 't': 10}, 'template': '...'}\n",
       "})"
      ]
     },
     "metadata": {},
     "output_type": "display_data"
    }
   ],
   "source": [
    "columns = [\n",
    "    (\"p1_rpm\", \"qout_p1\"),\n",
    "    (\"p1_rpm\", \"p1_power\"),\n",
    "\n",
    "    (\"p3_rpm\", \"qout_p3\"),\n",
    "    (\"p3_rpm\", \"p3_power\"),\n",
    "\n",
    "    (\"p4_rpm\", \"qout_p4\"),\n",
    "    (\"p4_rpm\", \"p4_power\"),\n",
    "]\n",
    "\n",
    "\n",
    "for u_col, y_col in columns:\n",
    "    print(f\"Identifying model {u_col}, {y_col}\")\n",
    "    id_ARX, G, t_test, Yval = identify_system(\n",
    "        df=sysid_df, \n",
    "        u_col=u_col,\n",
    "        y_col=y_col,\n",
    "        test_size=0.3, \n",
    "        na=1,\n",
    "        nb=1,\n",
    "        theta=0,\n",
    "        dt=int(sampling_time[:2]),\n",
    "        predict_test=True, \n",
    "        nsteps_ahead=1, \n",
    "        plot_results=True, \n",
    "        save_tf=True\n",
    "    )\n",
    "    # Process/save result as needed"
   ]
  },
  {
   "cell_type": "code",
   "execution_count": null,
   "id": "f7d6e9ed",
   "metadata": {},
   "outputs": [],
   "source": []
  }
 ],
 "metadata": {
  "kernelspec": {
   "display_name": "sysid",
   "language": "python",
   "name": "sysid"
  },
  "language_info": {
   "codemirror_mode": {
    "name": "ipython",
    "version": 3
   },
   "file_extension": ".py",
   "mimetype": "text/x-python",
   "name": "python",
   "nbconvert_exporter": "python",
   "pygments_lexer": "ipython3",
   "version": "3.9.21"
  }
 },
 "nbformat": 4,
 "nbformat_minor": 5
}
