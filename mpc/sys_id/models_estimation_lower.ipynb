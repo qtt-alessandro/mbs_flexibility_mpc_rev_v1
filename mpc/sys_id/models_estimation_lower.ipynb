{
 "cells": [
  {
   "cell_type": "code",
   "execution_count": 42,
   "id": "5a42aad1",
   "metadata": {},
   "outputs": [],
   "source": [
    "import polars as pl\n",
    "import sys, os\n",
    "from sippy import *\n",
    "import numpy as np\n",
    "from sippy import functionset as fset\n",
    "from sippy import functionsetSIM as fsetSIM\n",
    "import matplotlib.pyplot as plt\n",
    "import pandas as pd\n",
    "import control as cnt\n",
    "import json\n",
    "from datetime import datetime, timezone\n",
    "import plotly.graph_objects as go\n",
    "from plotly_resampler import FigureResampler, FigureWidgetResampler"
   ]
  },
  {
   "cell_type": "code",
   "execution_count": 43,
   "id": "56c4be61",
   "metadata": {},
   "outputs": [],
   "source": [
    "data_path = '/home/alqua/data/data_vdfs'"
   ]
  },
  {
   "cell_type": "code",
   "execution_count": 44,
   "id": "2c8d0031",
   "metadata": {},
   "outputs": [],
   "source": [
    "start_filter_date = datetime(2024, 1, 9, 00, 00, 0, tzinfo=timezone.utc)\n",
    "end_filter_date = datetime(2024, 1, 15, 00, 00, 0, tzinfo=timezone.utc)"
   ]
  },
  {
   "cell_type": "code",
   "execution_count": 45,
   "id": "4b17e6a6",
   "metadata": {},
   "outputs": [],
   "source": [
    "p1_power = pl.read_parquet(data_path + '/' +'pump1_power_siso.par')\n",
    "p3_power = pl.read_parquet(data_path + '/' +'pump3_power_siso.par')\n",
    "p4_power = pl.read_parquet(data_path + '/' +'pump4_power_siso.par')\n",
    "outflow_df = pl.read_parquet(data_path + '/' +'outflow_miso.par')\n",
    "pressure_df = pl.read_parquet(data_path + '/' +'pressure_miso.par')\n"
   ]
  },
  {
   "cell_type": "code",
   "execution_count": 46,
   "id": "69e1f08a",
   "metadata": {},
   "outputs": [],
   "source": [
    "sampling_time = '60s'\n",
    "\n",
    "p1_power = p1_power.filter(\n",
    "                                 (pl.col('time') >= start_filter_date) &\n",
    "                                   (pl.col('time')<= end_filter_date)\n",
    "                                 )\n",
    "\n",
    "p3_power = p3_power.filter(\n",
    "                                 (pl.col('time') >= start_filter_date) &\n",
    "                                   (pl.col('time')<= end_filter_date)\n",
    "                                 )\n",
    "\n",
    "p4_power = p4_power.filter(\n",
    "                                 (pl.col('time') >= start_filter_date) &\n",
    "                                   (pl.col('time')<= end_filter_date)\n",
    "                                 )\n",
    "\n",
    "\n",
    "pressure_df = pressure_df.filter(\n",
    "                                 (pl.col('time') >= start_filter_date) &\n",
    "                                   (pl.col('time')<= end_filter_date)\n",
    "                                 )"
   ]
  },
  {
   "cell_type": "code",
   "execution_count": 47,
   "id": "9c0d5f5d",
   "metadata": {},
   "outputs": [],
   "source": [
    "sysid_df = outflow_df.join(p1_power, \n",
    "                left_on='time', \n",
    "                right_on='time').join(p3_power, \n",
    "                left_on='time', \n",
    "                right_on='time').join(\n",
    "                p4_power, \n",
    "                left_on='time', \n",
    "                right_on='time').join(pressure_df, \n",
    "                left_on='time', \n",
    "                right_on='time').upsample(\n",
    "                    time_column='time', \n",
    "                    every=sampling_time, \n",
    "                    maintain_order=True).group_by_dynamic(\n",
    "                        'time', \n",
    "                        every=sampling_time, \n",
    "                        ).agg(pl.all().mean())"
   ]
  },
  {
   "cell_type": "code",
   "execution_count": 48,
   "id": "a190602e",
   "metadata": {},
   "outputs": [
    {
     "data": {
      "text/html": [
       "<div><style>\n",
       ".dataframe > thead > tr,\n",
       ".dataframe > tbody > tr {\n",
       "  text-align: right;\n",
       "  white-space: pre-wrap;\n",
       "}\n",
       "</style>\n",
       "<small>shape: (5, 15)</small><table border=\"1\" class=\"dataframe\"><thead><tr><th>time</th><th>level</th><th>outflow</th><th>pump1_speed</th><th>pump4_speed</th><th>pump3_speed</th><th>pump1_speed_right</th><th>pump1_power</th><th>pump3_speed_right</th><th>pump3_power</th><th>pump4_speed_right</th><th>pump4_power</th><th>outflow_right</th><th>pressure</th><th>level_right</th></tr><tr><td>datetime[ns, UTC]</td><td>f64</td><td>f64</td><td>f64</td><td>f64</td><td>f64</td><td>f64</td><td>f64</td><td>f64</td><td>f64</td><td>f64</td><td>f64</td><td>f64</td><td>f64</td><td>f64</td></tr></thead><tbody><tr><td>2024-01-09 10:31:00 UTC</td><td>164.0</td><td>595.0</td><td>1170.0</td><td>0.0</td><td>0.0</td><td>1170.0</td><td>56.700001</td><td>0.0</td><td>0.0</td><td>0.0</td><td>0.0</td><td>595.0</td><td>0.599</td><td>164.0</td></tr><tr><td>2024-01-09 10:32:00 UTC</td><td>164.0</td><td>595.0</td><td>1170.0</td><td>0.0</td><td>0.0</td><td>1170.0</td><td>56.599998</td><td>0.0</td><td>0.0</td><td>0.0</td><td>0.0</td><td>595.0</td><td>0.611</td><td>164.0</td></tr><tr><td>2024-01-09 10:33:00 UTC</td><td>165.0</td><td>611.0</td><td>1200.0</td><td>0.0</td><td>0.0</td><td>1200.0</td><td>58.299999</td><td>0.0</td><td>0.0</td><td>0.0</td><td>0.0</td><td>611.0</td><td>0.628</td><td>165.0</td></tr><tr><td>2024-01-09 10:34:00 UTC</td><td>165.0</td><td>625.0</td><td>1200.0</td><td>0.0</td><td>0.0</td><td>1200.0</td><td>58.400002</td><td>0.0</td><td>0.0</td><td>0.0</td><td>0.0</td><td>625.0</td><td>0.596</td><td>165.0</td></tr><tr><td>2024-01-09 10:35:00 UTC</td><td>166.0</td><td>628.0</td><td>1230.0</td><td>0.0</td><td>0.0</td><td>1230.0</td><td>61.799999</td><td>0.0</td><td>0.0</td><td>0.0</td><td>0.0</td><td>628.0</td><td>0.651</td><td>166.0</td></tr></tbody></table></div>"
      ],
      "text/plain": [
       "shape: (5, 15)\n",
       "┌─────────────┬───────┬─────────┬────────────┬───┬────────────┬────────────┬──────────┬────────────┐\n",
       "│ time        ┆ level ┆ outflow ┆ pump1_spee ┆ … ┆ pump4_powe ┆ outflow_ri ┆ pressure ┆ level_righ │\n",
       "│ ---         ┆ ---   ┆ ---     ┆ d          ┆   ┆ r          ┆ ght        ┆ ---      ┆ t          │\n",
       "│ datetime[ns ┆ f64   ┆ f64     ┆ ---        ┆   ┆ ---        ┆ ---        ┆ f64      ┆ ---        │\n",
       "│ , UTC]      ┆       ┆         ┆ f64        ┆   ┆ f64        ┆ f64        ┆          ┆ f64        │\n",
       "╞═════════════╪═══════╪═════════╪════════════╪═══╪════════════╪════════════╪══════════╪════════════╡\n",
       "│ 2024-01-09  ┆ 164.0 ┆ 595.0   ┆ 1170.0     ┆ … ┆ 0.0        ┆ 595.0      ┆ 0.599    ┆ 164.0      │\n",
       "│ 10:31:00    ┆       ┆         ┆            ┆   ┆            ┆            ┆          ┆            │\n",
       "│ UTC         ┆       ┆         ┆            ┆   ┆            ┆            ┆          ┆            │\n",
       "│ 2024-01-09  ┆ 164.0 ┆ 595.0   ┆ 1170.0     ┆ … ┆ 0.0        ┆ 595.0      ┆ 0.611    ┆ 164.0      │\n",
       "│ 10:32:00    ┆       ┆         ┆            ┆   ┆            ┆            ┆          ┆            │\n",
       "│ UTC         ┆       ┆         ┆            ┆   ┆            ┆            ┆          ┆            │\n",
       "│ 2024-01-09  ┆ 165.0 ┆ 611.0   ┆ 1200.0     ┆ … ┆ 0.0        ┆ 611.0      ┆ 0.628    ┆ 165.0      │\n",
       "│ 10:33:00    ┆       ┆         ┆            ┆   ┆            ┆            ┆          ┆            │\n",
       "│ UTC         ┆       ┆         ┆            ┆   ┆            ┆            ┆          ┆            │\n",
       "│ 2024-01-09  ┆ 165.0 ┆ 625.0   ┆ 1200.0     ┆ … ┆ 0.0        ┆ 625.0      ┆ 0.596    ┆ 165.0      │\n",
       "│ 10:34:00    ┆       ┆         ┆            ┆   ┆            ┆            ┆          ┆            │\n",
       "│ UTC         ┆       ┆         ┆            ┆   ┆            ┆            ┆          ┆            │\n",
       "│ 2024-01-09  ┆ 166.0 ┆ 628.0   ┆ 1230.0     ┆ … ┆ 0.0        ┆ 628.0      ┆ 0.651    ┆ 166.0      │\n",
       "│ 10:35:00    ┆       ┆         ┆            ┆   ┆            ┆            ┆          ┆            │\n",
       "│ UTC         ┆       ┆         ┆            ┆   ┆            ┆            ┆          ┆            │\n",
       "└─────────────┴───────┴─────────┴────────────┴───┴────────────┴────────────┴──────────┴────────────┘"
      ]
     },
     "execution_count": 48,
     "metadata": {},
     "output_type": "execute_result"
    }
   ],
   "source": [
    "sysid_df.head(5)"
   ]
  },
  {
   "cell_type": "code",
   "execution_count": 49,
   "id": "8156bf12",
   "metadata": {},
   "outputs": [],
   "source": [
    "features_cols = {\n",
    "    'time': 'time_utc',  \n",
    "    'level': 'h',\n",
    "    'outflow': 'qout',\n",
    "    'pump1_speed': 'p1_rpm',\n",
    "    'pump4_speed': 'p4_rpm',\n",
    "    'pump3_speed': 'p3_rpm',\n",
    "    'pump1_power': 'p1_power',\n",
    "    'pump3_power': 'p3_power',\n",
    "    'pump4_power': 'p4_power',\n",
    "    'pressure': 'pressure',\n",
    "}\n",
    "\n",
    "sysid_df = (\n",
    "    sysid_df\n",
    "    .select(features_cols.keys())\n",
    "    .rename(features_cols)\n",
    "    .filter(\n",
    "        (pl.col(\"p1_rpm\") > 0) |\n",
    "        (pl.col(\"p3_rpm\") > 0) |\n",
    "        (pl.col(\"p4_rpm\") > 0)\n",
    "    )\n",
    ")\n",
    "\n",
    "\n",
    "\n",
    "\n",
    "# Exclude rows where all p1_rpm, p3_rpm, p4_rpm are greater than zero\n",
    "sysid_df = sysid_df.with_columns((\n",
    "    pl.when(pl.col(\"p1_rpm\") > 0).then(pl.col(\"qout\")).otherwise(0).alias(\"qout_p1\"), \n",
    "    pl.when(pl.col(\"p3_rpm\") > 0).then(pl.col(\"qout\")).otherwise(0).alias(\"qout_p3\"),\n",
    "    pl.when(pl.col(\"p4_rpm\") > 0).then(pl.col(\"qout\")).otherwise(0).alias(\"qout_p4\")\n",
    ")).filter(~(\n",
    "    (pl.col(\"p1_rpm\") > 0) &\n",
    "    (pl.col(\"p3_rpm\") > 0) &\n",
    "    (pl.col(\"p4_rpm\") > 0)\n",
    "))"
   ]
  },
  {
   "cell_type": "code",
   "execution_count": 50,
   "id": "ab76a4ff",
   "metadata": {},
   "outputs": [],
   "source": [
    "from sippy import functionset as fset\n",
    "\n",
    "def identify_system(df, u_col, y_col, test_size=0.6, na=1, nb=2, theta=0, dt=None, predict_test =False, nsteps_ahead=1, plot_results=False, save_tf=False):\n",
    "\n",
    "    selected_data = df.select([u_col, y_col])\n",
    "    split_point = int(len(selected_data) * test_size)\n",
    "    train_df = selected_data.head(split_point)\n",
    "    test_df = selected_data.tail(len(selected_data) - split_point) \n",
    "    \n",
    "\n",
    "\n",
    "    u_train, u_test = train_df[u_col].to_numpy(), test_df[u_col].to_numpy()\n",
    "    y_train, y_test = train_df[y_col].to_numpy(), test_df[y_col].to_numpy()\n",
    "    \n",
    "    na_ords = [na]         \n",
    "    nb_ords = [[nb]]       \n",
    "    theta = [[theta]] \n",
    "\n",
    "    id_ARX = system_identification(y_train, u_train, 'ARX', stab_cons=True, \n",
    "                                ARX_orders=[na_ords, nb_ords, theta], tsample=dt) \n",
    "    \n",
    "    G = id_ARX.G  \n",
    "    print(f\"\\nTransfer function from {u_col} to {y_col}:\")\n",
    "    print(\"==================\")\n",
    "    print(id_ARX.G)\n",
    "    if save_tf: \n",
    "        tf_data = {\n",
    "                    \"u\": u_col,\n",
    "                    \"y\": y_col,\n",
    "                    \"na\": na, \n",
    "                    \"nb\":nb,\n",
    "                    \"num\": [round(x, 5) for x in id_ARX.NUMERATOR[0][0]],\n",
    "                    \"den\": [round(x, 5) for x in id_ARX.DENOMINATOR[0][0][1:]],\n",
    "                    \"dt\": dt\n",
    "                }\n",
    "        \n",
    "        filename = f\"tf_{u_col}_to_{y_col}.json\"\n",
    "        result_path = \"results/\"\n",
    "        with open(result_path + filename, 'w') as f:\n",
    "            json.dump(tf_data, f, indent=4)\n",
    "\n",
    "    if predict_test: \n",
    "        t_test = np.arange(0, len(y_test)) * dt\n",
    "        Yval = fset.validation(id_ARX, u_test, y_test, t_test, k=nsteps_ahead)\n",
    "        if plot_results: \n",
    "            fig = FigureWidgetResampler(go.Figure())\n",
    "            fig.update_layout(margin=dict(l=10, r=10, t=10, b=10))\n",
    "            fig.add_trace(\n",
    "                        go.Scattergl(\n",
    "                            x=t_test,\n",
    "                            y=y_test,\n",
    "                            name=f'{y_col} (Predicted from {u_col})',  # Shows column names\n",
    "                            showlegend=True,\n",
    "                            mode='lines'\n",
    "                        )\n",
    "                    )\n",
    "            fig.add_trace(\n",
    "                        go.Scattergl(\n",
    "                            x=t_test,\n",
    "                            y=Yval.flatten(),\n",
    "                            name=f'{y_col} (Predicted from {u_col})',  # Shows column names\n",
    "                            showlegend=True,\n",
    "                            mode='lines'\n",
    "                        )\n",
    "                    )\n",
    "            fig.update_layout(height=200, template=\"plotly_dark\")\n",
    "            display(fig)\n",
    "            \n",
    "        \n",
    "        return id_ARX, G, t_test, Yval\n",
    "\n",
    "    \n",
    "    else: \n",
    "        return id_ARX, G\n"
   ]
  },
  {
   "cell_type": "code",
   "execution_count": 51,
   "id": "d0f97e9b",
   "metadata": {},
   "outputs": [
    {
     "name": "stdout",
     "output_type": "stream",
     "text": [
      "Identifying model p1_rpm, qout_p1\n",
      "\n",
      "Transfer function from p1_rpm to qout_p1:\n",
      "==================\n",
      "\n",
      "  0.1892\n",
      "----------\n",
      "z - 0.6125\n",
      "\n",
      "dt = 1\n",
      "\n"
     ]
    },
    {
     "data": {
      "application/vnd.jupyter.widget-view+json": {
       "model_id": "cd6a140d11d24c1e99186766da528629",
       "version_major": 2,
       "version_minor": 0
      },
      "text/plain": [
       "FigureWidgetResampler({\n",
       "    'data': [{'mode': 'lines',\n",
       "              'name': ('<b style=\"color:sandybrown\">[R' ... 'i style=\"color:#fc9944\">~5</i>'),\n",
       "              'showlegend': True,\n",
       "              'type': 'scattergl',\n",
       "              'uid': '2e66df9f-5f97-4149-9518-6df7445cc4cd',\n",
       "              'x': array([   0,    2,    7, ..., 4780, 4789, 4790]),\n",
       "              'y': array([539., 530., 609., ..., 906., 831., 861.])},\n",
       "             {'mode': 'lines',\n",
       "              'name': ('<b style=\"color:sandybrown\">[R' ... 'i style=\"color:#fc9944\">~5</i>'),\n",
       "              'showlegend': True,\n",
       "              'type': 'scattergl',\n",
       "              'uid': '0096bc21-0257-4c0b-a3c5-b295e6249223',\n",
       "              'x': array([   0,    1,    8, ..., 4782, 4789, 4790]),\n",
       "              'y': array([  0.        , 540.14907563, 594.37743487, ..., 755.59828998,\n",
       "                          744.79760237, 710.49570827])}],\n",
       "    'layout': {'height': 200, 'margin': {'b': 10, 'l': 10, 'r': 10, 't': 10}, 'template': '...'}\n",
       "})"
      ]
     },
     "metadata": {},
     "output_type": "display_data"
    },
    {
     "name": "stdout",
     "output_type": "stream",
     "text": [
      "Identifying model p1_rpm, p1_power\n",
      "\n",
      "Transfer function from p1_rpm to p1_power:\n",
      "==================\n",
      "\n",
      " 0.01719\n",
      "----------\n",
      "z - 0.6242\n",
      "\n",
      "dt = 1\n",
      "\n"
     ]
    },
    {
     "data": {
      "application/vnd.jupyter.widget-view+json": {
       "model_id": "0168bee4ccf44c3da3127d428e2239ce",
       "version_major": 2,
       "version_minor": 0
      },
      "text/plain": [
       "FigureWidgetResampler({\n",
       "    'data': [{'mode': 'lines',\n",
       "              'name': ('<b style=\"color:sandybrown\">[R' ... 'i style=\"color:#fc9944\">~5</i>'),\n",
       "              'showlegend': True,\n",
       "              'type': 'scattergl',\n",
       "              'uid': '5057b217-46c6-4e9e-8d90-145dae88e534',\n",
       "              'x': array([   0,    1,    7, ..., 4782, 4787, 4790]),\n",
       "              'y': array([49.29999924, 51.5       , 57.90000153, ..., 49.79999924, 48.70000076,\n",
       "                          51.09999847])},\n",
       "             {'mode': 'lines',\n",
       "              'name': ('<b style=\"color:sandybrown\">[R' ... 'i style=\"color:#fc9944\">~5</i>'),\n",
       "              'showlegend': True,\n",
       "              'type': 'scattergl',\n",
       "              'uid': '179cc07b-607f-4285-905c-cdfec98e5cd4',\n",
       "              'x': array([   0,    1,    8, ..., 4781, 4786, 4790]),\n",
       "              'y': array([ 0.        , 49.8555324 , 56.25492711, ..., 52.22735636, 48.76528284,\n",
       "                          49.26909615])}],\n",
       "    'layout': {'height': 200, 'margin': {'b': 10, 'l': 10, 'r': 10, 't': 10}, 'template': '...'}\n",
       "})"
      ]
     },
     "metadata": {},
     "output_type": "display_data"
    },
    {
     "name": "stdout",
     "output_type": "stream",
     "text": [
      "Identifying model p3_rpm, qout_p3\n",
      "\n",
      "Transfer function from p3_rpm to qout_p3:\n",
      "==================\n",
      "\n",
      "  0.2901\n",
      "----------\n",
      "z - 0.3748\n",
      "\n",
      "dt = 1\n",
      "\n"
     ]
    },
    {
     "data": {
      "application/vnd.jupyter.widget-view+json": {
       "model_id": "1e29da9be83e4eb08b582f12efb6d529",
       "version_major": 2,
       "version_minor": 0
      },
      "text/plain": [
       "FigureWidgetResampler({\n",
       "    'data': [{'mode': 'lines',\n",
       "              'name': ('<b style=\"color:sandybrown\">[R' ... 'i style=\"color:#fc9944\">~5</i>'),\n",
       "              'showlegend': True,\n",
       "              'type': 'scattergl',\n",
       "              'uid': 'bab48904-7cf7-4f05-bc21-1863b20db40e',\n",
       "              'x': array([   0,    1,    5, ..., 4780, 4785, 4790]),\n",
       "              'y': array([0., 0., 0., ..., 0., 0., 0.])},\n",
       "             {'mode': 'lines',\n",
       "              'name': ('<b style=\"color:sandybrown\">[R' ... 'i style=\"color:#fc9944\">~5</i>'),\n",
       "              'showlegend': True,\n",
       "              'type': 'scattergl',\n",
       "              'uid': '22722e39-05f5-4cae-9180-1f1245e32db9',\n",
       "              'x': array([   0,    1,    5, ..., 4780, 4785, 4790]),\n",
       "              'y': array([0., 0., 0., ..., 0., 0., 0.])}],\n",
       "    'layout': {'height': 200, 'margin': {'b': 10, 'l': 10, 'r': 10, 't': 10}, 'template': '...'}\n",
       "})"
      ]
     },
     "metadata": {},
     "output_type": "display_data"
    },
    {
     "name": "stdout",
     "output_type": "stream",
     "text": [
      "Identifying model p3_rpm, p3_power\n",
      "\n",
      "Transfer function from p3_rpm to p3_power:\n",
      "==================\n",
      "\n",
      " 0.03314\n",
      "----------\n",
      "z - 0.1797\n",
      "\n",
      "dt = 1\n",
      "\n"
     ]
    },
    {
     "data": {
      "application/vnd.jupyter.widget-view+json": {
       "model_id": "a951a0c015144c22ab0ecce66ed5dfe5",
       "version_major": 2,
       "version_minor": 0
      },
      "text/plain": [
       "FigureWidgetResampler({\n",
       "    'data': [{'mode': 'lines',\n",
       "              'name': ('<b style=\"color:sandybrown\">[R' ... 'i style=\"color:#fc9944\">~5</i>'),\n",
       "              'showlegend': True,\n",
       "              'type': 'scattergl',\n",
       "              'uid': 'be02f393-55c5-49bd-92cc-fb85eb37f5a4',\n",
       "              'x': array([   0,    1,    5, ..., 4780, 4785, 4790]),\n",
       "              'y': array([0., 0., 0., ..., 0., 0., 0.])},\n",
       "             {'mode': 'lines',\n",
       "              'name': ('<b style=\"color:sandybrown\">[R' ... 'i style=\"color:#fc9944\">~5</i>'),\n",
       "              'showlegend': True,\n",
       "              'type': 'scattergl',\n",
       "              'uid': 'f6af64f9-fd97-45a4-8a63-348cb5963117',\n",
       "              'x': array([   0,    1,    5, ..., 4780, 4785, 4790]),\n",
       "              'y': array([0., 0., 0., ..., 0., 0., 0.])}],\n",
       "    'layout': {'height': 200, 'margin': {'b': 10, 'l': 10, 'r': 10, 't': 10}, 'template': '...'}\n",
       "})"
      ]
     },
     "metadata": {},
     "output_type": "display_data"
    },
    {
     "name": "stdout",
     "output_type": "stream",
     "text": [
      "Identifying model p4_rpm, qout_p4\n",
      "\n",
      "Transfer function from p4_rpm to qout_p4:\n",
      "==================\n",
      "\n",
      "  0.309\n",
      "----------\n",
      "z - 0.3992\n",
      "\n",
      "dt = 1\n",
      "\n"
     ]
    },
    {
     "data": {
      "application/vnd.jupyter.widget-view+json": {
       "model_id": "91cdbb883e5b4f23ad300436cbd98968",
       "version_major": 2,
       "version_minor": 0
      },
      "text/plain": [
       "FigureWidgetResampler({\n",
       "    'data': [{'mode': 'lines',\n",
       "              'name': ('<b style=\"color:sandybrown\">[R' ... 'i style=\"color:#fc9944\">~5</i>'),\n",
       "              'showlegend': True,\n",
       "              'type': 'scattergl',\n",
       "              'uid': 'ffff6dfb-783b-4d5b-90f9-f76a32806cc1',\n",
       "              'x': array([   0,    1,    5, ..., 4780, 4789, 4790]),\n",
       "              'y': array([  0.,   0.,   0., ..., 906., 831., 861.])},\n",
       "             {'mode': 'lines',\n",
       "              'name': ('<b style=\"color:sandybrown\">[R' ... 'i style=\"color:#fc9944\">~5</i>'),\n",
       "              'showlegend': True,\n",
       "              'type': 'scattergl',\n",
       "              'uid': '18010d3b-e97b-4a33-b195-79fb3e4ad66d',\n",
       "              'x': array([   0,    1,    5, ..., 4782, 4789, 4790]),\n",
       "              'y': array([  0.        ,   0.        ,   0.        , ..., 666.34716098,\n",
       "                          656.83268249, 634.47940115])}],\n",
       "    'layout': {'height': 200, 'margin': {'b': 10, 'l': 10, 'r': 10, 't': 10}, 'template': '...'}\n",
       "})"
      ]
     },
     "metadata": {},
     "output_type": "display_data"
    },
    {
     "name": "stdout",
     "output_type": "stream",
     "text": [
      "Identifying model p4_rpm, p4_power\n",
      "\n",
      "Transfer function from p4_rpm to p4_power:\n",
      "==================\n",
      "\n",
      " 0.01379\n",
      "----------\n",
      "z - 0.7015\n",
      "\n",
      "dt = 1\n",
      "\n"
     ]
    },
    {
     "data": {
      "application/vnd.jupyter.widget-view+json": {
       "model_id": "aada05fbc9334025af3c334063f6b1b8",
       "version_major": 2,
       "version_minor": 0
      },
      "text/plain": [
       "FigureWidgetResampler({\n",
       "    'data': [{'mode': 'lines',\n",
       "              'name': ('<b style=\"color:sandybrown\">[R' ... 'i style=\"color:#fc9944\">~5</i>'),\n",
       "              'showlegend': True,\n",
       "              'type': 'scattergl',\n",
       "              'uid': 'ab7e9d15-e4d9-4432-aa1d-1ce2db8269b8',\n",
       "              'x': array([   0,    1,    5, ..., 4781, 4785, 4790]),\n",
       "              'y': array([ 0.        ,  0.        ,  0.        , ..., 43.20000076, 43.70000076,\n",
       "                          42.5       ])},\n",
       "             {'mode': 'lines',\n",
       "              'name': ('<b style=\"color:sandybrown\">[R' ... 'i style=\"color:#fc9944\">~5</i>'),\n",
       "              'showlegend': True,\n",
       "              'type': 'scattergl',\n",
       "              'uid': '27e7ba6d-a8c6-407b-8332-68124bd38c62',\n",
       "              'x': array([   0,    1,    5, ..., 4782, 4786, 4790]),\n",
       "              'y': array([ 0.        ,  0.        ,  0.        , ..., 44.01770936, 44.27191867,\n",
       "                          42.98274787])}],\n",
       "    'layout': {'height': 200, 'margin': {'b': 10, 'l': 10, 'r': 10, 't': 10}, 'template': '...'}\n",
       "})"
      ]
     },
     "metadata": {},
     "output_type": "display_data"
    }
   ],
   "source": [
    "columns = [\n",
    "    (\"p1_rpm\", \"qout_p1\"),\n",
    "    (\"p1_rpm\", \"p1_power\"),\n",
    "\n",
    "    (\"p3_rpm\", \"qout_p3\"),\n",
    "    (\"p3_rpm\", \"p3_power\"),\n",
    "\n",
    "    (\"p4_rpm\", \"qout_p4\"),\n",
    "    (\"p4_rpm\", \"p4_power\"),\n",
    "]\n",
    "\n",
    "\n",
    "for u_col, y_col in columns:\n",
    "    print(f\"Identifying model {u_col}, {y_col}\")\n",
    "    id_ARX, G, t_test, Yval = identify_system(\n",
    "        df=sysid_df, \n",
    "        u_col=u_col,\n",
    "        y_col=y_col,\n",
    "        test_size=0.4, \n",
    "        na=1,\n",
    "        nb=1,\n",
    "        theta=0,\n",
    "        dt=1,\n",
    "        predict_test=True, \n",
    "        nsteps_ahead=1, \n",
    "        plot_results=True, \n",
    "        save_tf=True\n",
    "    )\n",
    "    # Process/save result as needed"
   ]
  },
  {
   "cell_type": "code",
   "execution_count": null,
   "id": "f7d6e9ed",
   "metadata": {},
   "outputs": [],
   "source": []
  }
 ],
 "metadata": {
  "kernelspec": {
   "display_name": "sysid",
   "language": "python",
   "name": "sysid"
  },
  "language_info": {
   "codemirror_mode": {
    "name": "ipython",
    "version": 3
   },
   "file_extension": ".py",
   "mimetype": "text/x-python",
   "name": "python",
   "nbconvert_exporter": "python",
   "pygments_lexer": "ipython3",
   "version": "3.9.21"
  }
 },
 "nbformat": 4,
 "nbformat_minor": 5
}
