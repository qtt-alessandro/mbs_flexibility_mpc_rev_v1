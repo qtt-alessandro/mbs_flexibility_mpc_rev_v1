{
 "cells": [
  {
   "cell_type": "code",
   "execution_count": 38,
   "id": "5a42aad1",
   "metadata": {},
   "outputs": [],
   "source": [
    "import polars as pl\n",
    "import sys, os\n",
    "from sippy import *\n",
    "import numpy as np\n",
    "from sippy import functionset as fset\n",
    "from sippy import functionsetSIM as fsetSIM\n",
    "import matplotlib.pyplot as plt\n",
    "import pandas as pd\n",
    "import control as cnt\n",
    "import json\n",
    "from datetime import datetime, timezone\n",
    "import plotly.graph_objects as go\n",
    "from plotly_resampler import FigureResampler, FigureWidgetResampler"
   ]
  },
  {
   "cell_type": "code",
   "execution_count": 39,
   "id": "56c4be61",
   "metadata": {},
   "outputs": [],
   "source": [
    "data_path = '/home/alqua/data/data_vdfs'"
   ]
  },
  {
   "cell_type": "code",
   "execution_count": 40,
   "id": "2c8d0031",
   "metadata": {},
   "outputs": [],
   "source": [
    "start_filter_date = datetime(2024, 1, 9, 00, 00, 0, tzinfo=timezone.utc)\n",
    "end_filter_date = datetime(2024, 1, 15, 00, 00, 0, tzinfo=timezone.utc)"
   ]
  },
  {
   "cell_type": "code",
   "execution_count": 41,
   "id": "4b17e6a6",
   "metadata": {},
   "outputs": [],
   "source": [
    "p1_power = pl.read_parquet(data_path + '/' +'pump1_power_siso.par')\n",
    "p3_power = pl.read_parquet(data_path + '/' +'pump3_power_siso.par')\n",
    "p4_power = pl.read_parquet(data_path + '/' +'pump4_power_siso.par')\n",
    "outflow_df = pl.read_parquet(data_path + '/' +'outflow_miso.par')\n",
    "pressure_df = pl.read_parquet(data_path + '/' +'pressure_miso.par')\n"
   ]
  },
  {
   "cell_type": "code",
   "execution_count": 42,
   "id": "69e1f08a",
   "metadata": {},
   "outputs": [],
   "source": [
    "sampling_time = '1s'\n",
    "\n",
    "p1_power = p1_power.filter(\n",
    "                                 (pl.col('time') >= start_filter_date) &\n",
    "                                   (pl.col('time')<= end_filter_date)\n",
    "                                 )\n",
    "\n",
    "p3_power = p3_power.filter(\n",
    "                                 (pl.col('time') >= start_filter_date) &\n",
    "                                   (pl.col('time')<= end_filter_date)\n",
    "                                 )\n",
    "\n",
    "p4_power = p4_power.filter(\n",
    "                                 (pl.col('time') >= start_filter_date) &\n",
    "                                   (pl.col('time')<= end_filter_date)\n",
    "                                 )\n",
    "\n",
    "\n",
    "pressure_df = pressure_df.filter(\n",
    "                                 (pl.col('time') >= start_filter_date) &\n",
    "                                   (pl.col('time')<= end_filter_date)\n",
    "                                 )"
   ]
  },
  {
   "cell_type": "code",
   "execution_count": 43,
   "id": "9c0d5f5d",
   "metadata": {},
   "outputs": [],
   "source": [
    "sysid_df = outflow_df.join(p1_power, \n",
    "                left_on='time', \n",
    "                right_on='time').join(p3_power, \n",
    "                left_on='time', \n",
    "                right_on='time').join(\n",
    "                p4_power, \n",
    "                left_on='time', \n",
    "                right_on='time').join(pressure_df, \n",
    "                left_on='time', \n",
    "                right_on='time').upsample(\n",
    "                    time_column='time', \n",
    "                    every=sampling_time, \n",
    "                    maintain_order=True)\n",
    "                    #).group_by_dynamic(\n",
    "                    #    'time', \n",
    "                    #    every=sampling_time, \n",
    "                    #    ).agg(pl.all().mean())"
   ]
  },
  {
   "cell_type": "code",
   "execution_count": 44,
   "id": "8156bf12",
   "metadata": {},
   "outputs": [],
   "source": [
    "features_cols = {\n",
    "    'time': 'time_utc',  \n",
    "    'level': 'h',\n",
    "    'outflow': 'qout',\n",
    "    'pump1_speed': 'p1_rpm',\n",
    "    'pump4_speed': 'p4_rpm',\n",
    "    'pump3_speed': 'p3_rpm',\n",
    "    'pump1_power': 'p1_power',\n",
    "    'pump3_power': 'p3_power',\n",
    "    'pump4_power': 'p4_power',\n",
    "    'pressure': 'pressure',\n",
    "}\n",
    "\n",
    "sysid_df = (\n",
    "    sysid_df\n",
    "    .select(features_cols.keys())\n",
    "    .rename(features_cols)\n",
    "    .filter(\n",
    "        (pl.col(\"p1_rpm\") > 0) |\n",
    "        (pl.col(\"p3_rpm\") > 0) |\n",
    "        (pl.col(\"p4_rpm\") > 0)\n",
    "    )\n",
    ")\n",
    "\n",
    "\n",
    "\n",
    "\n",
    "# Exclude rows where all p1_rpm, p3_rpm, p4_rpm are greater than zero\n",
    "sysid_df = sysid_df.with_columns((\n",
    "    pl.when(pl.col(\"p1_rpm\") > 0).then(pl.col(\"qout\")).otherwise(0).alias(\"qout_p1\"), \n",
    "    pl.when(pl.col(\"p3_rpm\") > 0).then(pl.col(\"qout\")).otherwise(0).alias(\"qout_p3\"),\n",
    "    pl.when(pl.col(\"p4_rpm\") > 0).then(pl.col(\"qout\")).otherwise(0).alias(\"qout_p4\")\n",
    ")).filter(~(\n",
    "    (pl.col(\"p1_rpm\") > 0) &\n",
    "    (pl.col(\"p3_rpm\") > 0) &\n",
    "    (pl.col(\"p4_rpm\") > 0)\n",
    "))"
   ]
  },
  {
   "cell_type": "code",
   "execution_count": 45,
   "id": "ab76a4ff",
   "metadata": {},
   "outputs": [],
   "source": [
    "from sippy import functionset as fset\n",
    "\n",
    "def identify_system(df, u_col, y_col, test_size=0.6, na=1, nb=2, theta=0, dt=None, predict_test =False, nsteps_ahead=1, plot_results=False, save_tf=False):\n",
    "\n",
    "    selected_data = df.select([u_col, y_col])\n",
    "    split_point = int(len(selected_data) * test_size)\n",
    "    train_df = selected_data.head(split_point)\n",
    "    test_df = selected_data.tail(len(selected_data) - split_point) \n",
    "    \n",
    "\n",
    "\n",
    "    u_train, u_test = train_df[u_col].to_numpy(), test_df[u_col].to_numpy()\n",
    "    y_train, y_test = train_df[y_col].to_numpy(), test_df[y_col].to_numpy()\n",
    "    \n",
    "    na_ords = [na]         \n",
    "    nb_ords = [[nb]]       \n",
    "    theta = [[theta]] \n",
    "\n",
    "    id_ARX = system_identification(y_train, u_train, 'ARX', stab_cons=True, \n",
    "                                ARX_orders=[na_ords, nb_ords, theta], tsample=dt) \n",
    "    \n",
    "    G = id_ARX.G  \n",
    "    print(f\"\\nTransfer function from {u_col} to {y_col}:\")\n",
    "    print(\"==================\")\n",
    "    print(id_ARX.G)\n",
    "    if save_tf: \n",
    "        tf_data = {\n",
    "                    \"u\": u_col,\n",
    "                    \"y\": y_col,\n",
    "                    \"na\": na, \n",
    "                    \"nb\":nb,\n",
    "                    \"num\": [round(x, 5) for x in id_ARX.NUMERATOR[0][0]],\n",
    "                    \"den\": [round(x, 5) for x in id_ARX.DENOMINATOR[0][0][1:]],\n",
    "                    \"dt\": dt\n",
    "                }\n",
    "        \n",
    "        filename = f\"tf_{u_col}_to_{y_col}.json\"\n",
    "        result_path = \"results/\"\n",
    "        with open(result_path + filename, 'w') as f:\n",
    "            json.dump(tf_data, f, indent=4)\n",
    "\n",
    "    if predict_test: \n",
    "        t_test = np.arange(0, len(y_test)) * dt\n",
    "        Yval = fset.validation(id_ARX, u_test, y_test, t_test, k=nsteps_ahead)\n",
    "        if plot_results: \n",
    "            fig = FigureWidgetResampler(go.Figure())\n",
    "            fig.update_layout(margin=dict(l=10, r=10, t=10, b=10))\n",
    "            fig.add_trace(\n",
    "                        go.Scattergl(\n",
    "                            x=t_test,\n",
    "                            y=y_test,\n",
    "                            name=f'{y_col} (Predicted from {u_col})',  # Shows column names\n",
    "                            showlegend=True,\n",
    "                            mode='lines'\n",
    "                        )\n",
    "                    )\n",
    "            fig.add_trace(\n",
    "                        go.Scattergl(\n",
    "                            x=t_test,\n",
    "                            y=Yval.flatten(),\n",
    "                            name=f'{y_col} (Predicted from {u_col})',  # Shows column names\n",
    "                            showlegend=True,\n",
    "                            mode='lines'\n",
    "                        )\n",
    "                    )\n",
    "            fig.update_layout(height=200, template=\"plotly_dark\")\n",
    "            display(fig)\n",
    "            \n",
    "        \n",
    "        return id_ARX, G, t_test, Yval\n",
    "\n",
    "    \n",
    "    else: \n",
    "        return id_ARX, G\n"
   ]
  },
  {
   "cell_type": "code",
   "execution_count": 46,
   "id": "d0f97e9b",
   "metadata": {},
   "outputs": [
    {
     "name": "stdout",
     "output_type": "stream",
     "text": [
      "Identifying model p1_rpm, qout_p1\n"
     ]
    },
    {
     "name": "stdout",
     "output_type": "stream",
     "text": [
      "\n",
      "Transfer function from p1_rpm to qout_p1:\n",
      "==================\n",
      "\n",
      " 0.00575\n",
      "----------\n",
      "z - 0.9885\n",
      "\n",
      "dt = 1\n",
      "\n"
     ]
    },
    {
     "data": {
      "application/vnd.jupyter.widget-view+json": {
       "model_id": "a6c83720de2542c8b85cb6ce63141286",
       "version_major": 2,
       "version_minor": 0
      },
      "text/plain": [
       "FigureWidgetResampler({\n",
       "    'data': [{'mode': 'lines',\n",
       "              'name': ('<b style=\"color:sandybrown\">[R' ... 'style=\"color:#fc9944\">~288</i>'),\n",
       "              'showlegend': True,\n",
       "              'type': 'scattergl',\n",
       "              'uid': '91a765b3-c5d4-4d65-ad3a-6777c0430eda',\n",
       "              'x': array([     0,    197,    311, ..., 286890, 287336, 287521]),\n",
       "              'y': array([566., 522., 617., ..., 863., 819., 878.])},\n",
       "             {'mode': 'lines',\n",
       "              'name': ('<b style=\"color:sandybrown\">[R' ... 'style=\"color:#fc9944\">~288</i>'),\n",
       "              'showlegend': True,\n",
       "              'type': 'scattergl',\n",
       "              'uid': 'e5b33e85-5632-45ae-a097-444e726ce762',\n",
       "              'x': array([     0,     18,    312, ..., 286891, 287337, 287521]),\n",
       "              'y': array([  0.        , 516.42626735, 616.60535337, ..., 859.24800902,\n",
       "                          815.66968635, 878.84461839])}],\n",
       "    'layout': {'height': 200, 'margin': {'b': 10, 'l': 10, 'r': 10, 't': 10}, 'template': '...'}\n",
       "})"
      ]
     },
     "metadata": {},
     "output_type": "display_data"
    },
    {
     "name": "stdout",
     "output_type": "stream",
     "text": [
      "Identifying model p1_rpm, p1_power\n",
      "\n",
      "Transfer function from p1_rpm to p1_power:\n",
      "==================\n",
      "\n",
      " 0.00856\n",
      "----------\n",
      "z - 0.8163\n",
      "\n",
      "dt = 1\n",
      "\n"
     ]
    },
    {
     "data": {
      "application/vnd.jupyter.widget-view+json": {
       "model_id": "46bf115201d243e8a88159606962cc7c",
       "version_major": 2,
       "version_minor": 0
      },
      "text/plain": [
       "FigureWidgetResampler({\n",
       "    'data': [{'mode': 'lines',\n",
       "              'name': ('<b style=\"color:sandybrown\">[R' ... 'style=\"color:#fc9944\">~288</i>'),\n",
       "              'showlegend': True,\n",
       "              'type': 'scattergl',\n",
       "              'uid': 'cc55f2bd-1773-4e1d-8175-a87cb9c45c8f',\n",
       "              'x': array([     0,    242,    398, ..., 286970, 287451, 287521]),\n",
       "              'y': array([51.29999924, 58.09999847, 51.20000076, ..., 48.79999924, 45.        ,\n",
       "                          48.90000153])},\n",
       "             {'mode': 'lines',\n",
       "              'name': ('<b style=\"color:sandybrown\">[R' ... 'style=\"color:#fc9944\">~288</i>'),\n",
       "              'showlegend': True,\n",
       "              'type': 'scattergl',\n",
       "              'uid': '2ac182e5-9828-4c8c-8113-c2dfd70fa1b3',\n",
       "              'x': array([     0,     58,    474, ..., 286971, 287452, 287521]),\n",
       "              'y': array([ 0.        , 54.8977723 , 51.30617311, ..., 49.07842549, 45.77115983,\n",
       "                          48.41350275])}],\n",
       "    'layout': {'height': 200, 'margin': {'b': 10, 'l': 10, 'r': 10, 't': 10}, 'template': '...'}\n",
       "})"
      ]
     },
     "metadata": {},
     "output_type": "display_data"
    },
    {
     "name": "stdout",
     "output_type": "stream",
     "text": [
      "Identifying model p3_rpm, qout_p3\n",
      "\n",
      "Transfer function from p3_rpm to qout_p3:\n",
      "==================\n",
      "\n",
      " 0.002705\n",
      "----------\n",
      "z - 0.9943\n",
      "\n",
      "dt = 1\n",
      "\n"
     ]
    },
    {
     "data": {
      "application/vnd.jupyter.widget-view+json": {
       "model_id": "308ccfaf681a4727b7dea4a9c038e042",
       "version_major": 2,
       "version_minor": 0
      },
      "text/plain": [
       "FigureWidgetResampler({\n",
       "    'data': [{'mode': 'lines',\n",
       "              'name': ('<b style=\"color:sandybrown\">[R' ... 'style=\"color:#fc9944\">~288</i>'),\n",
       "              'showlegend': True,\n",
       "              'type': 'scattergl',\n",
       "              'uid': '8d4a8c98-0622-4d74-9915-c81947da463f',\n",
       "              'x': array([     0,      1,    289, ..., 286802, 287089, 287521]),\n",
       "              'y': array([0., 0., 0., ..., 0., 0., 0.])},\n",
       "             {'mode': 'lines',\n",
       "              'name': ('<b style=\"color:sandybrown\">[R' ... 'style=\"color:#fc9944\">~288</i>'),\n",
       "              'showlegend': True,\n",
       "              'type': 'scattergl',\n",
       "              'uid': '59ce1bbe-093e-4aac-87ef-b3529c11ccde',\n",
       "              'x': array([     0,      1,    289, ..., 286802, 287089, 287521]),\n",
       "              'y': array([0., 0., 0., ..., 0., 0., 0.])}],\n",
       "    'layout': {'height': 200, 'margin': {'b': 10, 'l': 10, 'r': 10, 't': 10}, 'template': '...'}\n",
       "})"
      ]
     },
     "metadata": {},
     "output_type": "display_data"
    },
    {
     "name": "stdout",
     "output_type": "stream",
     "text": [
      "Identifying model p3_rpm, p3_power\n",
      "\n",
      "Transfer function from p3_rpm to p3_power:\n",
      "==================\n",
      "\n",
      " 0.006166\n",
      "----------\n",
      "z - 0.8484\n",
      "\n",
      "dt = 1\n",
      "\n"
     ]
    },
    {
     "data": {
      "application/vnd.jupyter.widget-view+json": {
       "model_id": "a429466f94514c8fb2839c5c08c81d10",
       "version_major": 2,
       "version_minor": 0
      },
      "text/plain": [
       "FigureWidgetResampler({\n",
       "    'data': [{'mode': 'lines',\n",
       "              'name': ('<b style=\"color:sandybrown\">[R' ... 'style=\"color:#fc9944\">~288</i>'),\n",
       "              'showlegend': True,\n",
       "              'type': 'scattergl',\n",
       "              'uid': '76dba878-235e-4402-8aae-67c3d79e4026',\n",
       "              'x': array([     0,      1,    289, ..., 286802, 287089, 287521]),\n",
       "              'y': array([0., 0., 0., ..., 0., 0., 0.])},\n",
       "             {'mode': 'lines',\n",
       "              'name': ('<b style=\"color:sandybrown\">[R' ... 'style=\"color:#fc9944\">~288</i>'),\n",
       "              'showlegend': True,\n",
       "              'type': 'scattergl',\n",
       "              'uid': 'aff14139-703c-4361-8c66-b60bd8fea5f4',\n",
       "              'x': array([     0,      1,    289, ..., 286802, 287089, 287521]),\n",
       "              'y': array([0., 0., 0., ..., 0., 0., 0.])}],\n",
       "    'layout': {'height': 200, 'margin': {'b': 10, 'l': 10, 'r': 10, 't': 10}, 'template': '...'}\n",
       "})"
      ]
     },
     "metadata": {},
     "output_type": "display_data"
    },
    {
     "name": "stdout",
     "output_type": "stream",
     "text": [
      "Identifying model p4_rpm, qout_p4\n",
      "\n",
      "Transfer function from p4_rpm to qout_p4:\n",
      "==================\n",
      "\n",
      " 0.007041\n",
      "----------\n",
      "z - 0.9865\n",
      "\n",
      "dt = 1\n",
      "\n"
     ]
    },
    {
     "data": {
      "application/vnd.jupyter.widget-view+json": {
       "model_id": "eb61b0560ac64aeda130f78d081cbf08",
       "version_major": 2,
       "version_minor": 0
      },
      "text/plain": [
       "FigureWidgetResampler({\n",
       "    'data': [{'mode': 'lines',\n",
       "              'name': ('<b style=\"color:sandybrown\">[R' ... 'style=\"color:#fc9944\">~288</i>'),\n",
       "              'showlegend': True,\n",
       "              'type': 'scattergl',\n",
       "              'uid': 'eed1d0bb-bab6-46a8-9d16-6aade53c49ce',\n",
       "              'x': array([     0,      1,    289, ..., 286890, 287336, 287521]),\n",
       "              'y': array([  0.,   0.,   0., ..., 863., 819., 878.])},\n",
       "             {'mode': 'lines',\n",
       "              'name': ('<b style=\"color:sandybrown\">[R' ... 'style=\"color:#fc9944\">~288</i>'),\n",
       "              'showlegend': True,\n",
       "              'type': 'scattergl',\n",
       "              'uid': 'f9f69bde-946c-4fcf-9b85-4764433b1cfb',\n",
       "              'x': array([     0,      1,    289, ..., 286891, 287337, 287521]),\n",
       "              'y': array([  0.        ,   0.        ,   0.        , ..., 858.30859088,\n",
       "                          814.80603379, 877.84053108])}],\n",
       "    'layout': {'height': 200, 'margin': {'b': 10, 'l': 10, 'r': 10, 't': 10}, 'template': '...'}\n",
       "})"
      ]
     },
     "metadata": {},
     "output_type": "display_data"
    },
    {
     "name": "stdout",
     "output_type": "stream",
     "text": [
      "Identifying model p4_rpm, p4_power\n",
      "\n",
      "Transfer function from p4_rpm to p4_power:\n",
      "==================\n",
      "\n",
      " 0.003599\n",
      "----------\n",
      "z - 0.9233\n",
      "\n",
      "dt = 1\n",
      "\n"
     ]
    },
    {
     "data": {
      "application/vnd.jupyter.widget-view+json": {
       "model_id": "360b9ad9c5e34ea08e847eddd19b2620",
       "version_major": 2,
       "version_minor": 0
      },
      "text/plain": [
       "FigureWidgetResampler({\n",
       "    'data': [{'mode': 'lines',\n",
       "              'name': ('<b style=\"color:sandybrown\">[R' ... 'style=\"color:#fc9944\">~288</i>'),\n",
       "              'showlegend': True,\n",
       "              'type': 'scattergl',\n",
       "              'uid': 'cc52348e-4687-4aba-a6db-90f91e9e3741',\n",
       "              'x': array([     0,      1,    289, ..., 287104, 287130, 287521]),\n",
       "              'y': array([ 0.        ,  0.        ,  0.        , ..., 45.90000153, 41.40000153,\n",
       "                          41.        ])},\n",
       "             {'mode': 'lines',\n",
       "              'name': ('<b style=\"color:sandybrown\">[R' ... 'style=\"color:#fc9944\">~288</i>'),\n",
       "              'showlegend': True,\n",
       "              'type': 'scattergl',\n",
       "              'uid': '1515b1be-ee30-4e0e-882e-5a7ec0ce6c2c',\n",
       "              'x': array([     0,      1,    289, ..., 287105, 287131, 287521]),\n",
       "              'y': array([ 0.        ,  0.        ,  0.        , ..., 45.95569825, 41.75384364,\n",
       "                          42.16512822])}],\n",
       "    'layout': {'height': 200, 'margin': {'b': 10, 'l': 10, 'r': 10, 't': 10}, 'template': '...'}\n",
       "})"
      ]
     },
     "metadata": {},
     "output_type": "display_data"
    }
   ],
   "source": [
    "columns = [\n",
    "    (\"p1_rpm\", \"qout_p1\"),\n",
    "    (\"p1_rpm\", \"p1_power\"),\n",
    "\n",
    "    (\"p3_rpm\", \"qout_p3\"),\n",
    "    (\"p3_rpm\", \"p3_power\"),\n",
    "\n",
    "    (\"p4_rpm\", \"qout_p4\"),\n",
    "    (\"p4_rpm\", \"p4_power\"),\n",
    "]\n",
    "\n",
    "\n",
    "for u_col, y_col in columns:\n",
    "    print(f\"Identifying model {u_col}, {y_col}\")\n",
    "    id_ARX, G, t_test, Yval = identify_system(\n",
    "        df=sysid_df, \n",
    "        u_col=u_col,\n",
    "        y_col=y_col,\n",
    "        test_size=0.4, \n",
    "        na=1,\n",
    "        nb=1,\n",
    "        theta=0,\n",
    "        dt=1,\n",
    "        predict_test=True, \n",
    "        nsteps_ahead=1, \n",
    "        plot_results=True, \n",
    "        save_tf=True\n",
    "    )\n",
    "    # Process/save result as needed"
   ]
  },
  {
   "cell_type": "code",
   "execution_count": null,
   "id": "f7d6e9ed",
   "metadata": {},
   "outputs": [],
   "source": []
  }
 ],
 "metadata": {
  "kernelspec": {
   "display_name": "sysid",
   "language": "python",
   "name": "sysid"
  },
  "language_info": {
   "codemirror_mode": {
    "name": "ipython",
    "version": 3
   },
   "file_extension": ".py",
   "mimetype": "text/x-python",
   "name": "python",
   "nbconvert_exporter": "python",
   "pygments_lexer": "ipython3",
   "version": "3.9.21"
  }
 },
 "nbformat": 4,
 "nbformat_minor": 5
}
