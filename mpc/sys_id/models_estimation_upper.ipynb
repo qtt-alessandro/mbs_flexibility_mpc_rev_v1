{
 "cells": [
  {
   "cell_type": "code",
   "execution_count": 27,
   "id": "5a42aad1",
   "metadata": {},
   "outputs": [],
   "source": [
    "import polars as pl\n",
    "import sys, os\n",
    "from sippy import *\n",
    "import numpy as np\n",
    "from sippy import functionset as fset\n",
    "from sippy import functionsetSIM as fsetSIM\n",
    "import matplotlib.pyplot as plt\n",
    "import pandas as pd\n",
    "import control as cnt\n",
    "import json\n",
    "from datetime import datetime, timezone\n",
    "import plotly.graph_objects as go\n",
    "from plotly_resampler import FigureResampler, FigureWidgetResampler"
   ]
  },
  {
   "cell_type": "code",
   "execution_count": 28,
   "id": "56c4be61",
   "metadata": {},
   "outputs": [],
   "source": [
    "data_path = '/home/alqua/data/data_vdfs'"
   ]
  },
  {
   "cell_type": "code",
   "execution_count": 29,
   "id": "2c8d0031",
   "metadata": {},
   "outputs": [],
   "source": [
    "start_filter_date = datetime(2024, 1, 9, 00, 00, 0, tzinfo=timezone.utc)\n",
    "end_filter_date = datetime(2024, 2, 20, 00, 00, 0, tzinfo=timezone.utc)"
   ]
  },
  {
   "cell_type": "code",
   "execution_count": 30,
   "id": "4b17e6a6",
   "metadata": {},
   "outputs": [],
   "source": [
    "p1_energy = pl.read_parquet(data_path + '/' +'pump1_power_siso.par')\n",
    "p3_energy = pl.read_parquet(data_path + '/' +'pump3_power_siso.par')\n",
    "p4_energy = pl.read_parquet(data_path + '/' +'pump4_power_siso.par')\n",
    "outflow_df = pl.read_parquet(data_path + '/' +'outflow_miso.par')\n"
   ]
  },
  {
   "cell_type": "code",
   "execution_count": 31,
   "id": "69e1f08a",
   "metadata": {},
   "outputs": [],
   "source": [
    "sampling_time = '60m'\n",
    "\n",
    "p1_energy = p1_energy.filter(\n",
    "                                 (pl.col('time') >= start_filter_date) &\n",
    "                                   (pl.col('time')<= end_filter_date)\n",
    "                                 )\n",
    "\n",
    "p3_energy = p3_energy.filter(\n",
    "                                 (pl.col('time') >= start_filter_date) &\n",
    "                                   (pl.col('time')<= end_filter_date)\n",
    "                                 )\n",
    "\n",
    "p4_energy = p4_energy.filter(\n",
    "                                 (pl.col('time') >= start_filter_date) &\n",
    "                                   (pl.col('time')<= end_filter_date)\n",
    "                                 )\n"
   ]
  },
  {
   "cell_type": "code",
   "execution_count": 32,
   "id": "9c0d5f5d",
   "metadata": {},
   "outputs": [],
   "source": [
    "sysid_df = outflow_df.join(p1_energy, \n",
    "                left_on='time', \n",
    "                right_on='time').join(p3_energy, \n",
    "                left_on='time', \n",
    "                right_on='time').join(\n",
    "                p4_energy, \n",
    "                left_on='time', \n",
    "                right_on='time').group_by_dynamic(\n",
    "                        'time', \n",
    "                        every=sampling_time, \n",
    "                        ).agg(pl.all().mean())"
   ]
  },
  {
   "cell_type": "code",
   "execution_count": 33,
   "id": "8156bf12",
   "metadata": {},
   "outputs": [],
   "source": [
    "features_cols = {\n",
    "    'time': 'time_utc',  \n",
    "    'outflow': 'qout',\n",
    "    'pump1_power': 'p1_energy',\n",
    "    'pump3_power': 'p3_energy',\n",
    "    'pump4_power': 'p4_energy',\n",
    "}\n",
    "\n",
    "sysid_df = (\n",
    "    sysid_df\n",
    "    .select(features_cols.keys())\n",
    "    .rename(features_cols)\n",
    "    )\n"
   ]
  },
  {
   "cell_type": "code",
   "execution_count": 34,
   "id": "ab76a4ff",
   "metadata": {},
   "outputs": [],
   "source": [
    "from sippy import functionset as fset\n",
    "\n",
    "def identify_system(df, u_col, y_col, test_size=0.1, na=1, nb=2, theta=0, dt=None, predict_test =False, nsteps_ahead=1, plot_results=False, save_tf=False):\n",
    "\n",
    "    selected_data = df.select([u_col, y_col])\n",
    "    split_point = int(len(selected_data) * test_size)\n",
    "    train_df = selected_data.head(split_point)\n",
    "    test_df = selected_data.tail(len(selected_data) - split_point) \n",
    "    \n",
    "\n",
    "\n",
    "    u_train, u_test = train_df[u_col].to_numpy(), test_df[u_col].to_numpy()\n",
    "    y_train, y_test = train_df[y_col].to_numpy(), test_df[y_col].to_numpy()\n",
    "    \n",
    "    na_ords = [na]         \n",
    "    nb_ords = [[nb]]       \n",
    "    theta = [[theta]] \n",
    "\n",
    "    id_ARX = system_identification(y_train, u_train, 'ARX', \n",
    "                                   stab_cons=True, SS_A_stability=True,\n",
    "                                   #centering='MeanVal',\n",
    "                                   ARX_orders=[na_ords, nb_ords, theta],\n",
    "                                    tsample=dt) \n",
    "    \n",
    "    G = id_ARX.G  \n",
    "    print(f\"\\nTransfer function from {u_col} to {y_col}:\")\n",
    "    print(\"==================\")\n",
    "    print(id_ARX.G)\n",
    "    if save_tf: \n",
    "        tf_data = {\n",
    "                    \"u\": u_col,\n",
    "                    \"y\": y_col,\n",
    "                    \"na\": na, \n",
    "                    \"nb\":nb,\n",
    "                    \"num\": [round(x, 5) for x in id_ARX.NUMERATOR[0][0]],\n",
    "                    \"den\": [round(x, 5) for x in id_ARX.DENOMINATOR[0][0][1:]],\n",
    "                    \"dt\": dt\n",
    "                }\n",
    "        \n",
    "        filename = f\"tf_{u_col}_to_{y_col}.json\"\n",
    "        result_path = \"results/\"\n",
    "        with open(result_path + filename, 'w') as f:\n",
    "            json.dump(tf_data, f, indent=4)\n",
    "\n",
    "    if predict_test: \n",
    "        t_test = np.arange(0, len(y_test)) * dt\n",
    "        Yval = fset.validation(id_ARX, u_test, y_test, t_test, k=nsteps_ahead)\n",
    "        if plot_results: \n",
    "            fig = FigureWidgetResampler(go.Figure())\n",
    "            fig.update_layout(margin=dict(l=10, r=10, t=10, b=10))\n",
    "            fig.add_trace(\n",
    "                        go.Scattergl(\n",
    "                            x=t_test,\n",
    "                            y=y_test,\n",
    "                            name=f'{y_col} (Predicted from {u_col})',  # Shows column names\n",
    "                            showlegend=True,\n",
    "                            mode='lines'\n",
    "                        )\n",
    "                    )\n",
    "            fig.add_trace(\n",
    "                        go.Scattergl(\n",
    "                            x=t_test,\n",
    "                            y=Yval.flatten(),\n",
    "                            name=f'{y_col} (Predicted from {u_col})',  # Shows column names\n",
    "                            showlegend=True,\n",
    "                            mode='lines'\n",
    "                        )\n",
    "                    )\n",
    "            fig.update_layout(height=200, template=\"plotly_dark\")\n",
    "            display(fig)\n",
    "            \n",
    "        \n",
    "        return id_ARX, G, t_test, Yval\n",
    "\n",
    "    \n",
    "    else: \n",
    "        return id_ARX, G\n"
   ]
  },
  {
   "cell_type": "code",
   "execution_count": 35,
   "id": "eb424dad",
   "metadata": {},
   "outputs": [],
   "source": [
    "sysid_df = sysid_df.with_columns((pl.col(\"p1_energy\") + pl.col(\"p3_energy\") + pl.col(\"p4_energy\")).alias(\"cum_energy\"))"
   ]
  },
  {
   "cell_type": "code",
   "execution_count": 36,
   "id": "bc28b69b",
   "metadata": {},
   "outputs": [],
   "source": [
    "sysid_df = sysid_df.with_columns(pl.col(\"cum_energy\").shift(-3)).drop_nulls()"
   ]
  },
  {
   "cell_type": "code",
   "execution_count": 37,
   "id": "d0f97e9b",
   "metadata": {},
   "outputs": [
    {
     "name": "stdout",
     "output_type": "stream",
     "text": [
      "Identifying model cum_energy, qout\n",
      "\n",
      "Transfer function from cum_energy to qout:\n",
      "==================\n",
      "\n",
      "    4.647\n",
      "--------------\n",
      "z^2 - 0.5336 z\n",
      "\n",
      "dt = 1\n",
      "\n"
     ]
    },
    {
     "data": {
      "application/vnd.jupyter.widget-view+json": {
       "model_id": "07ec02984ce44020a8dad74e2f74215d",
       "version_major": 2,
       "version_minor": 0
      },
      "text/plain": [
       "FigureWidgetResampler({\n",
       "    'data': [{'mode': 'lines',\n",
       "              'name': 'qout (Predicted from cum_energy)',\n",
       "              'showlegend': True,\n",
       "              'type': 'scattergl',\n",
       "              'uid': 'cebf387f-1229-48fc-9406-960ea1229d11',\n",
       "              'x': array([  0,   1,   2, ..., 452, 453, 454]),\n",
       "              'y': array([584.05027778, 576.53027778, 582.23111111, ..., 712.25027778,\n",
       "                          717.42333333, 736.98314607])},\n",
       "             {'mode': 'lines',\n",
       "              'name': 'qout (Predicted from cum_energy)',\n",
       "              'showlegend': True,\n",
       "              'type': 'scattergl',\n",
       "              'uid': '6676f71f-da9f-4a9a-b592-9498bc77db79',\n",
       "              'x': array([  0,   1,   2, ..., 452, 453, 454]),\n",
       "              'y': array([  0.        , 311.67253683, 542.23702007, ..., 747.95055341,\n",
       "                          775.28666714, 779.29775018])}],\n",
       "    'layout': {'height': 200, 'margin': {'b': 10, 'l': 10, 'r': 10, 't': 10}, 'template': '...'}\n",
       "})"
      ]
     },
     "metadata": {},
     "output_type": "display_data"
    }
   ],
   "source": [
    "columns = [\n",
    "    (\"cum_energy\", \"qout\")\n",
    "]\n",
    "\n",
    "\n",
    "for u_col, y_col in columns:\n",
    "    print(f\"Identifying model {u_col}, {y_col}\")\n",
    "    id_ARX, G, t_test, Yval = identify_system(\n",
    "        df=sysid_df, \n",
    "        u_col=u_col,\n",
    "        y_col=y_col,\n",
    "        test_size=0.5, \n",
    "        na=1,\n",
    "        nb=1,\n",
    "        theta=1,\n",
    "        #dt=int(sampling_time[:2]),\n",
    "        dt=1,\n",
    "        predict_test=True, \n",
    "        nsteps_ahead=1, \n",
    "        plot_results=True, \n",
    "        save_tf=True)\n"
   ]
  },
  {
   "cell_type": "code",
   "execution_count": null,
   "id": "98013fe0",
   "metadata": {},
   "outputs": [],
   "source": []
  }
 ],
 "metadata": {
  "kernelspec": {
   "display_name": "sysid",
   "language": "python",
   "name": "sysid"
  },
  "language_info": {
   "codemirror_mode": {
    "name": "ipython",
    "version": 3
   },
   "file_extension": ".py",
   "mimetype": "text/x-python",
   "name": "python",
   "nbconvert_exporter": "python",
   "pygments_lexer": "ipython3",
   "version": "3.9.21"
  }
 },
 "nbformat": 4,
 "nbformat_minor": 5
}
