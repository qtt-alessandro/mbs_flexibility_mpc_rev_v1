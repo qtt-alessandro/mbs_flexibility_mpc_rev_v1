{
 "cells": [
  {
   "cell_type": "code",
   "execution_count": 1,
   "id": "a9b01cac",
   "metadata": {},
   "outputs": [],
   "source": [
    "import numpy as np\n",
    "import cvxpy as cp\n",
    "import json \n",
    "import json \n",
    "import pandas as pd \n",
    "from lower_mpc import LowerMPC, LMPCDataBuffer\n",
    "\n",
    "%load_ext autoreload\n",
    "%autoreload 2"
   ]
  },
  {
   "cell_type": "code",
   "execution_count": 2,
   "id": "ccd5cfba",
   "metadata": {},
   "outputs": [
    {
     "data": {
      "text/plain": [
       "lower_mpc.LowerMPC"
      ]
     },
     "execution_count": 2,
     "metadata": {},
     "output_type": "execute_result"
    }
   ],
   "source": [
    "LowerMPC"
   ]
  },
  {
   "cell_type": "code",
   "execution_count": 3,
   "id": "90215771",
   "metadata": {},
   "outputs": [],
   "source": [
    "root_folder = \"/Users/alessandroquattrociocchi/Git/mbs_aggregation_paper/mpc/\"\n",
    "params_path = \"sys_id/results/\""
   ]
  },
  {
   "cell_type": "code",
   "execution_count": 4,
   "id": "c58f4261",
   "metadata": {},
   "outputs": [
    {
     "ename": "FileNotFoundError",
     "evalue": "[Errno 2] No such file or directory: '/Users/alessandroquattrociocchi/Git/mbs_aggregation_paper/mpc/sys_id/results/tf_p1_rpm_to_p1_power.json'",
     "output_type": "error",
     "traceback": [
      "\u001b[0;31m---------------------------------------------------------------------------\u001b[0m",
      "\u001b[0;31mFileNotFoundError\u001b[0m                         Traceback (most recent call last)",
      "Cell \u001b[0;32mIn[4], line 1\u001b[0m\n\u001b[0;32m----> 1\u001b[0m p1_power_model \u001b[38;5;241m=\u001b[39m json\u001b[38;5;241m.\u001b[39mload(\u001b[38;5;28mopen\u001b[39m(root_folder \u001b[38;5;241m+\u001b[39m params_path \u001b[38;5;241m+\u001b[39m \u001b[38;5;124m'\u001b[39m\u001b[38;5;124mtf_p1_rpm_to_p1_power.json\u001b[39m\u001b[38;5;124m'\u001b[39m))\n\u001b[1;32m      2\u001b[0m p1_qout_model \u001b[38;5;241m=\u001b[39m json\u001b[38;5;241m.\u001b[39mload(\u001b[38;5;28mopen\u001b[39m(root_folder \u001b[38;5;241m+\u001b[39m params_path \u001b[38;5;241m+\u001b[39m \u001b[38;5;124m'\u001b[39m\u001b[38;5;124mtf_p1_rpm_to_qout_p1.json\u001b[39m\u001b[38;5;124m'\u001b[39m))\n\u001b[1;32m      4\u001b[0m p3_power_model \u001b[38;5;241m=\u001b[39m json\u001b[38;5;241m.\u001b[39mload(\u001b[38;5;28mopen\u001b[39m(root_folder \u001b[38;5;241m+\u001b[39m params_path \u001b[38;5;241m+\u001b[39m \u001b[38;5;124m'\u001b[39m\u001b[38;5;124mtf_p3_rpm_to_p3_power.json\u001b[39m\u001b[38;5;124m'\u001b[39m))\n",
      "File \u001b[0;32m~/anaconda3/envs/opt_env/lib/python3.12/site-packages/IPython/core/interactiveshell.py:324\u001b[0m, in \u001b[0;36m_modified_open\u001b[0;34m(file, *args, **kwargs)\u001b[0m\n\u001b[1;32m    317\u001b[0m \u001b[38;5;28;01mif\u001b[39;00m file \u001b[38;5;129;01min\u001b[39;00m {\u001b[38;5;241m0\u001b[39m, \u001b[38;5;241m1\u001b[39m, \u001b[38;5;241m2\u001b[39m}:\n\u001b[1;32m    318\u001b[0m     \u001b[38;5;28;01mraise\u001b[39;00m \u001b[38;5;167;01mValueError\u001b[39;00m(\n\u001b[1;32m    319\u001b[0m         \u001b[38;5;124mf\u001b[39m\u001b[38;5;124m\"\u001b[39m\u001b[38;5;124mIPython won\u001b[39m\u001b[38;5;124m'\u001b[39m\u001b[38;5;124mt let you open fd=\u001b[39m\u001b[38;5;132;01m{\u001b[39;00mfile\u001b[38;5;132;01m}\u001b[39;00m\u001b[38;5;124m by default \u001b[39m\u001b[38;5;124m\"\u001b[39m\n\u001b[1;32m    320\u001b[0m         \u001b[38;5;124m\"\u001b[39m\u001b[38;5;124mas it is likely to crash IPython. If you know what you are doing, \u001b[39m\u001b[38;5;124m\"\u001b[39m\n\u001b[1;32m    321\u001b[0m         \u001b[38;5;124m\"\u001b[39m\u001b[38;5;124myou can use builtins\u001b[39m\u001b[38;5;124m'\u001b[39m\u001b[38;5;124m open.\u001b[39m\u001b[38;5;124m\"\u001b[39m\n\u001b[1;32m    322\u001b[0m     )\n\u001b[0;32m--> 324\u001b[0m \u001b[38;5;28;01mreturn\u001b[39;00m io_open(file, \u001b[38;5;241m*\u001b[39margs, \u001b[38;5;241m*\u001b[39m\u001b[38;5;241m*\u001b[39mkwargs)\n",
      "\u001b[0;31mFileNotFoundError\u001b[0m: [Errno 2] No such file or directory: '/Users/alessandroquattrociocchi/Git/mbs_aggregation_paper/mpc/sys_id/results/tf_p1_rpm_to_p1_power.json'"
     ]
    }
   ],
   "source": [
    "p1_power_model = json.load(open(root_folder + params_path + 'tf_p1_rpm_to_p1_power.json'))\n",
    "p1_qout_model = json.load(open(root_folder + params_path + 'tf_p1_rpm_to_qout_p1.json'))\n",
    "\n",
    "p3_power_model = json.load(open(root_folder + params_path + 'tf_p3_rpm_to_p3_power.json'))\n",
    "p3_qout_model = json.load(open(root_folder + params_path + 'tf_p3_rpm_to_qout_p3.json'))\n",
    "\n",
    "p4_power_model = json.load(open(root_folder + params_path + 'tf_p4_rpm_to_p4_power.json'))\n",
    "p4_qout_model = json.load(open(root_folder + params_path + 'tf_p4_rpm_to_qout_p4.json'))\n"
   ]
  },
  {
   "cell_type": "code",
   "execution_count": null,
   "id": "f6bfa4aa",
   "metadata": {},
   "outputs": [],
   "source": [
    "sysid_params = {\"a_p1_power\": -p1_power_model[\"den\"][0], \n",
    "                \"b_p1_power\": p1_power_model[\"num\"][0], \n",
    "\n",
    "                \"a_p1_qout\": -p1_qout_model[\"den\"][0], \n",
    "                \"b_p1_qout\": p1_qout_model[\"num\"][0],\n",
    "\n",
    "                \"a_p3_power\": -p3_power_model[\"den\"][0], \n",
    "                \"b_p3_power\": p3_power_model[\"num\"][0], \n",
    "\n",
    "                \"a_p3_qout\": -p3_qout_model[\"den\"][0], \n",
    "                \"b_p3_qout\": p3_qout_model[\"num\"][0], \n",
    "\n",
    "                \"a_p4_power\":  -p4_power_model[\"den\"][0], \n",
    "                \"b_p4_power\": p4_power_model[\"num\"][0],\n",
    "\n",
    "                \"a_p4_qout\": p4_power_model[\"den\"][0],\n",
    "                \"b_p4_qout\": p4_power_model[\"num\"][0]}"
   ]
  },
  {
   "cell_type": "code",
   "execution_count": null,
   "id": "30885da3",
   "metadata": {},
   "outputs": [],
   "source": [
    "ini_dict = {\n",
    "    'p1_power_ini': 10,\n",
    "    'p1_qout_ini': 400,\n",
    "    'u1_ini': 1000,\n",
    "\n",
    "    'p3_qout_ini': 0,\n",
    "    'p3_power_ini': 0,\n",
    "    'u3_ini':0, \n",
    "\n",
    "    'p4_power_ini': 0,\n",
    "    'p4_qout_ini':0, \n",
    "    'u4_ini':0, \n",
    "    'h_ini':180\n",
    "}"
   ]
  },
  {
   "cell_type": "code",
   "execution_count": null,
   "id": "a7cae5b7",
   "metadata": {},
   "outputs": [
    {
     "name": "stdout",
     "output_type": "stream",
     "text": [
      "prob status: optimal\n"
     ]
    },
    {
     "data": {
      "text/plain": [
       "{'u1': np.float64(836.3),\n",
       " 'u3': np.float64(0.0),\n",
       " 'u4': np.float64(0.0),\n",
       " 'p1': np.float64(12.3),\n",
       " 'p3': np.float64(0.0),\n",
       " 'p4': np.float64(0.0),\n",
       " 'qout1': np.float64(401.0),\n",
       " 'qout3': np.float64(0.0),\n",
       " 'qout4': np.float64(0.0),\n",
       " 'h': np.float64(177.9)}"
      ]
     },
     "execution_count": 6,
     "metadata": {},
     "output_type": "execute_result"
    }
   ],
   "source": [
    "\n",
    "lower_mpc = LowerMPC(sysid_params, \n",
    "                     N=60, \n",
    "                     Q=1.0, \n",
    "                     R=0.01)\n",
    "\n",
    "inflow = np.linspace(200, 300, 60)\n",
    "\n",
    "result = lower_mpc.step(ini_dict, reference=180, inflow=inflow)\n",
    "result"
   ]
  }
 ],
 "metadata": {
  "kernelspec": {
   "display_name": "opt_env",
   "language": "python",
   "name": "python3"
  },
  "language_info": {
   "codemirror_mode": {
    "name": "ipython",
    "version": 3
   },
   "file_extension": ".py",
   "mimetype": "text/x-python",
   "name": "python",
   "nbconvert_exporter": "python",
   "pygments_lexer": "ipython3",
   "version": "3.12.9"
  }
 },
 "nbformat": 4,
 "nbformat_minor": 5
}
