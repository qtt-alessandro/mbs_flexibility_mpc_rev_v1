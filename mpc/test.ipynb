{
 "cells": [
  {
   "cell_type": "code",
   "execution_count": 21,
   "metadata": {},
   "outputs": [
    {
     "name": "stdout",
     "output_type": "stream",
     "text": [
      "The autoreload extension is already loaded. To reload it, use:\n",
      "  %reload_ext autoreload\n"
     ]
    }
   ],
   "source": [
    "import os \n",
    "import numpy as np \n",
    "import json \n",
    "import pandas as pd \n",
    "from src.funcs import UpperMPCVariablesManager, LowerMPCVariablesManager \n",
    "from src.upper_mpc import step_upper_level\n",
    "from src.pumps_selector import circular_right_shift\n",
    "import matplotlib.pyplot as plt \n",
    "import logging\n",
    "from tqdm import tqdm \n",
    "import time \n",
    "\n",
    "%load_ext autoreload\n",
    "%autoreload 2"
   ]
  },
  {
   "cell_type": "code",
   "execution_count": 22,
   "metadata": {},
   "outputs": [],
   "source": [
    "data_path = '/Users/alessandroquattrociocchi/Documents/Data/pump_station_data/'\n",
    "data_path_wsl = \"/home/alqua/data/pump_station_data/\""
   ]
  },
  {
   "cell_type": "code",
   "execution_count": 23,
   "metadata": {},
   "outputs": [],
   "source": [
    "upper_mpc_data = pd.read_parquet(os.path.join(data_path_wsl, \"sim_data/sim_data_1h_full.par\"))\n",
    "#old_strategy_eff_power_df = pd.read_parquet(os.path.join(data_path, \"sim_data/sim_data_1s_with_eff_power.parquet\"))\n",
    "lower_mpc_data = pd.read_csv(\"./data/lmpc_initialization_df.csv\").set_index(\"time\")"
   ]
  },
  {
   "cell_type": "code",
   "execution_count": 24,
   "metadata": {},
   "outputs": [],
   "source": [
    "start_date = pd.to_datetime('2023-05-01 00:00:00+00:00')\n",
    "date_range_higher = pd.date_range(start=start_date, periods=len(upper_mpc_data), freq='h')\n",
    "date_range_lower = pd.date_range(start=start_date, periods=len(lower_mpc_data), freq='min')\n",
    "upper_mpc_data.index = date_range_higher\n",
    "lower_mpc_data.index = date_range_lower\n",
    "upper_mpc_data[\"price\"] = upper_mpc_data[\"price\"]/1000 \n",
    "upper_mpc_data[\"CO2Emission\"] = upper_mpc_data[\"CO2Emission\"]/1000\n",
    "Qin_kf_est = upper_mpc_data[[\"inflow_kf\"]].resample(\"1min\").interpolate(method='linear').values \n",
    "start_date = upper_mpc_data.index[0]\n",
    "date_range_lower = pd.date_range(start=start_date, periods=len(Qin_kf_est), freq='min')\n",
    "#lower_mpc_data = lower_mpc_data.reindex(lower_mpc_data.index.union(date_range_lower), fill_value=np.nan)\n",
    "\n",
    "with open('./data/lower_mpc_coefficients.json', 'r') as json_file:\n",
    "    models_coefficients = json.load(json_file)\n",
    "    \n",
    "upper_mpc_data = upper_mpc_data.reset_index()\n",
    "\n",
    "logging.basicConfig(\n",
    "    filename='mpc_sim.log',\n",
    "    filemode='w',  # Overwrite the log file each time the simulation restarts\n",
    "    level=logging.INFO,  # Change to INFO or WARNING to reduce verbosity\n",
    "    format='%(asctime)s - %(levelname)s - %(message)s',\n",
    "    datefmt='%Y-%m-%d %H:%M:%S',\n",
    "    force=True)\n"
   ]
  },
  {
   "cell_type": "code",
   "execution_count": 25,
   "metadata": {},
   "outputs": [],
   "source": [
    "umpc_data_buffer = UpperMPCVariablesManager()\n",
    "zs = 3"
   ]
  },
  {
   "cell_type": "code",
   "execution_count": 26,
   "metadata": {},
   "outputs": [],
   "source": [
    "upper_mpc_data[\"price\"] = upper_mpc_data[\"price\"]/1000 \n",
    "upper_mpc_data[\"CO2Emission\"] = upper_mpc_data[\"CO2Emission\"]/1000"
   ]
  },
  {
   "cell_type": "code",
   "execution_count": 27,
   "metadata": {},
   "outputs": [],
   "source": [
    "class LMPCDataBuffer:\n",
    "\n",
    "    def __init__(self):\n",
    "        self.data = {\n",
    "            'p1_power': [],\n",
    "            'p1_qout': [],\n",
    "            'u1': [],\n",
    "            'p3_qout': [], \n",
    "            'p3_power': [],\n",
    "            'u3': [], \n",
    "            'p4_power': [],\n",
    "            'p4_qout': [], \n",
    "            'u4': [], \n",
    "            'h': []\n",
    "        }\n",
    "\n",
    "    def initialize(self, entry_dict):\n",
    "        for key in self.data:\n",
    "            self.data[key].append(entry_dict.get(key, None))\n",
    "\n",
    "    def update(self, entry_dict):\n",
    "        for key in self.data:\n",
    "            val = entry_dict.get(key, None)\n",
    "            if isinstance(val, np.generic):\n",
    "                val = val.item()\n",
    "            self.data[key].append(val)\n",
    "\n",
    "    def to_dataframe(self):\n",
    "        return pd.DataFrame(self.data)"
   ]
  },
  {
   "cell_type": "code",
   "execution_count": null,
   "metadata": {},
   "outputs": [],
   "source": [
    "/home/alqua/papers/mbs_aggregation_paper_code/mpc/sys_id/results"
   ]
  },
  {
   "cell_type": "code",
   "execution_count": 31,
   "metadata": {},
   "outputs": [
    {
     "ename": "NameError",
     "evalue": "name 'p1_power_model' is not defined",
     "output_type": "error",
     "traceback": [
      "\u001b[0;31m---------------------------------------------------------------------------\u001b[0m",
      "\u001b[0;31mNameError\u001b[0m                                 Traceback (most recent call last)",
      "Cell \u001b[0;32mIn[31], line 1\u001b[0m\n\u001b[0;32m----> 1\u001b[0m sysid_params \u001b[38;5;241m=\u001b[39m {\u001b[38;5;124m\"\u001b[39m\u001b[38;5;124ma_p1_power\u001b[39m\u001b[38;5;124m\"\u001b[39m: \u001b[38;5;241m-\u001b[39mp1_power_model[\u001b[38;5;124m\"\u001b[39m\u001b[38;5;124mden\u001b[39m\u001b[38;5;124m\"\u001b[39m][\u001b[38;5;241m0\u001b[39m], \n\u001b[1;32m      2\u001b[0m                 \u001b[38;5;124m\"\u001b[39m\u001b[38;5;124mb_p1_power\u001b[39m\u001b[38;5;124m\"\u001b[39m: p1_power_model[\u001b[38;5;124m\"\u001b[39m\u001b[38;5;124mnum\u001b[39m\u001b[38;5;124m\"\u001b[39m][\u001b[38;5;241m0\u001b[39m], \n\u001b[1;32m      3\u001b[0m \n\u001b[1;32m      4\u001b[0m                 \u001b[38;5;124m\"\u001b[39m\u001b[38;5;124ma_p1_qout\u001b[39m\u001b[38;5;124m\"\u001b[39m: \u001b[38;5;241m-\u001b[39mp1_qout_model[\u001b[38;5;124m\"\u001b[39m\u001b[38;5;124mden\u001b[39m\u001b[38;5;124m\"\u001b[39m][\u001b[38;5;241m0\u001b[39m], \n\u001b[1;32m      5\u001b[0m                 \u001b[38;5;124m\"\u001b[39m\u001b[38;5;124mb_p1_qout\u001b[39m\u001b[38;5;124m\"\u001b[39m: p1_qout_model[\u001b[38;5;124m\"\u001b[39m\u001b[38;5;124mnum\u001b[39m\u001b[38;5;124m\"\u001b[39m][\u001b[38;5;241m0\u001b[39m],\n\u001b[1;32m      6\u001b[0m \n\u001b[1;32m      7\u001b[0m                 \u001b[38;5;124m\"\u001b[39m\u001b[38;5;124ma_p3_power\u001b[39m\u001b[38;5;124m\"\u001b[39m: \u001b[38;5;241m-\u001b[39mp3_power_model[\u001b[38;5;124m\"\u001b[39m\u001b[38;5;124mden\u001b[39m\u001b[38;5;124m\"\u001b[39m][\u001b[38;5;241m0\u001b[39m], \n\u001b[1;32m      8\u001b[0m                 \u001b[38;5;124m\"\u001b[39m\u001b[38;5;124mb_p3_power\u001b[39m\u001b[38;5;124m\"\u001b[39m: p3_power_model[\u001b[38;5;124m\"\u001b[39m\u001b[38;5;124mnum\u001b[39m\u001b[38;5;124m\"\u001b[39m][\u001b[38;5;241m0\u001b[39m], \n\u001b[1;32m      9\u001b[0m \n\u001b[1;32m     10\u001b[0m                 \u001b[38;5;124m\"\u001b[39m\u001b[38;5;124ma_p3_qout\u001b[39m\u001b[38;5;124m\"\u001b[39m: \u001b[38;5;241m-\u001b[39mp3_qout_model[\u001b[38;5;124m\"\u001b[39m\u001b[38;5;124mden\u001b[39m\u001b[38;5;124m\"\u001b[39m][\u001b[38;5;241m0\u001b[39m], \n\u001b[1;32m     11\u001b[0m                 \u001b[38;5;124m\"\u001b[39m\u001b[38;5;124mb_p3_qout\u001b[39m\u001b[38;5;124m\"\u001b[39m: p3_qout_model[\u001b[38;5;124m\"\u001b[39m\u001b[38;5;124mnum\u001b[39m\u001b[38;5;124m\"\u001b[39m][\u001b[38;5;241m0\u001b[39m], \n\u001b[1;32m     12\u001b[0m \n\u001b[1;32m     13\u001b[0m                 \u001b[38;5;124m\"\u001b[39m\u001b[38;5;124ma_p4_power\u001b[39m\u001b[38;5;124m\"\u001b[39m:  \u001b[38;5;241m-\u001b[39mp4_power_model[\u001b[38;5;124m\"\u001b[39m\u001b[38;5;124mden\u001b[39m\u001b[38;5;124m\"\u001b[39m][\u001b[38;5;241m0\u001b[39m], \n\u001b[1;32m     14\u001b[0m                 \u001b[38;5;124m\"\u001b[39m\u001b[38;5;124mb_p4_power\u001b[39m\u001b[38;5;124m\"\u001b[39m: p4_power_model[\u001b[38;5;124m\"\u001b[39m\u001b[38;5;124mnum\u001b[39m\u001b[38;5;124m\"\u001b[39m][\u001b[38;5;241m0\u001b[39m],\n\u001b[1;32m     15\u001b[0m \n\u001b[1;32m     16\u001b[0m                 \u001b[38;5;124m\"\u001b[39m\u001b[38;5;124ma_p4_qout\u001b[39m\u001b[38;5;124m\"\u001b[39m: p4_power_model[\u001b[38;5;124m\"\u001b[39m\u001b[38;5;124mden\u001b[39m\u001b[38;5;124m\"\u001b[39m][\u001b[38;5;241m0\u001b[39m],\n\u001b[1;32m     17\u001b[0m                 \u001b[38;5;124m\"\u001b[39m\u001b[38;5;124mb_p4_qout\u001b[39m\u001b[38;5;124m\"\u001b[39m: p4_power_model[\u001b[38;5;124m\"\u001b[39m\u001b[38;5;124mnum\u001b[39m\u001b[38;5;124m\"\u001b[39m][\u001b[38;5;241m0\u001b[39m]}\n",
      "\u001b[0;31mNameError\u001b[0m: name 'p1_power_model' is not defined"
     ]
    }
   ],
   "source": [
    "sysid_params = {\"a_p1_power\": -p1_power_model[\"den\"][0], \n",
    "                \"b_p1_power\": p1_power_model[\"num\"][0], \n",
    "\n",
    "                \"a_p1_qout\": -p1_qout_model[\"den\"][0], \n",
    "                \"b_p1_qout\": p1_qout_model[\"num\"][0],\n",
    "\n",
    "                \"a_p3_power\": -p3_power_model[\"den\"][0], \n",
    "                \"b_p3_power\": p3_power_model[\"num\"][0], \n",
    "\n",
    "                \"a_p3_qout\": -p3_qout_model[\"den\"][0], \n",
    "                \"b_p3_qout\": p3_qout_model[\"num\"][0], \n",
    "\n",
    "                \"a_p4_power\":  -p4_power_model[\"den\"][0], \n",
    "                \"b_p4_power\": p4_power_model[\"num\"][0],\n",
    "\n",
    "                \"a_p4_qout\": p4_power_model[\"den\"][0],\n",
    "                \"b_p4_qout\": p4_power_model[\"num\"][0]}"
   ]
  },
  {
   "cell_type": "code",
   "execution_count": 28,
   "metadata": {},
   "outputs": [],
   "source": [
    "ini_dict = {\n",
    "        'p1_power': 10,\n",
    "        'p1_qout': 100,\n",
    "        'u1': 100,\n",
    "        'p3_qout': 0,\n",
    "        'p3_power': 0,\n",
    "        'u3':0, \n",
    "        'p4_power': 0,\n",
    "        'p4_qout':0, \n",
    "        'u4':0, \n",
    "        'h': 150\n",
    "    }\n",
    "\n",
    "lmpc_data = LMPCDataBuffer()\n",
    "lmpc_data.initialize(ini_dict)\n",
    "\n"
   ]
  },
  {
   "cell_type": "code",
   "execution_count": 29,
   "metadata": {},
   "outputs": [],
   "source": [
    "from lower_mpc import LowerMPC"
   ]
  },
  {
   "cell_type": "code",
   "execution_count": 30,
   "metadata": {},
   "outputs": [
    {
     "ename": "NameError",
     "evalue": "name 'sysid_params' is not defined",
     "output_type": "error",
     "traceback": [
      "\u001b[0;31m---------------------------------------------------------------------------\u001b[0m",
      "\u001b[0;31mNameError\u001b[0m                                 Traceback (most recent call last)",
      "Cell \u001b[0;32mIn[30], line 1\u001b[0m\n\u001b[0;32m----> 1\u001b[0m lower_mpc \u001b[38;5;241m=\u001b[39m LowerMPC(sysid_params, \n\u001b[1;32m      2\u001b[0m                 N\u001b[38;5;241m=\u001b[39m\u001b[38;5;241m60\u001b[39m, \n\u001b[1;32m      3\u001b[0m                 Q\u001b[38;5;241m=\u001b[39m\u001b[38;5;241m1.0\u001b[39m, \n\u001b[1;32m      4\u001b[0m                 R\u001b[38;5;241m=\u001b[39m\u001b[38;5;241m0.01\u001b[39m)\n",
      "\u001b[0;31mNameError\u001b[0m: name 'sysid_params' is not defined"
     ]
    }
   ],
   "source": [
    "lower_mpc = LowerMPC(sysid_params, \n",
    "                N=60, \n",
    "                Q=1.0, \n",
    "                R=0.01)"
   ]
  },
  {
   "cell_type": "code",
   "execution_count": null,
   "metadata": {},
   "outputs": [
    {
     "ename": "NameError",
     "evalue": "name 'weights_exploration' is not defined",
     "output_type": "error",
     "traceback": [
      "\u001b[0;31m---------------------------------------------------------------------------\u001b[0m",
      "\u001b[0;31mNameError\u001b[0m                                 Traceback (most recent call last)",
      "Cell \u001b[0;32mIn[19], line 9\u001b[0m\n\u001b[1;32m      5\u001b[0m w2 \u001b[38;5;241m=\u001b[39m \u001b[38;5;241m4\u001b[39m\n\u001b[1;32m      6\u001b[0m costs_per_weights \u001b[38;5;241m=\u001b[39m []\n\u001b[0;32m----> 9\u001b[0m \u001b[38;5;28;01mfor\u001b[39;00m w1, w2 \u001b[38;5;129;01min\u001b[39;00m weights_exploration:\n\u001b[1;32m     10\u001b[0m     price_cumulative_cost \u001b[38;5;241m=\u001b[39m \u001b[38;5;241m0\u001b[39m \n\u001b[1;32m     11\u001b[0m     carbon_cumulative_cost \u001b[38;5;241m=\u001b[39m \u001b[38;5;241m0\u001b[39m \n",
      "\u001b[0;31mNameError\u001b[0m: name 'weights_exploration' is not defined"
     ]
    }
   ],
   "source": [
    "N = 60 \n",
    "Ts = 1 \n",
    "trigger = [0, 0, 1]\n",
    "w1 = 30\n",
    "w2 = 4\n",
    "costs_per_weights = []\n",
    "\n",
    "\n",
    "\n",
    "price_cumulative_cost = 0 \n",
    "carbon_cumulative_cost = 0 \n",
    "cumulative_total_cost = 0 \n",
    "i = 0 \n",
    "current_time = pd.to_datetime('2023-05-01 00:00:00+00:00')\n",
    "logging.info(\"Starting MPC simulation\")\n",
    "print(f\"Testing w1={w1}, w2={w2}\")\n",
    "\n",
    "for k in tqdm(range(0, 60*24*1)):\n",
    "\n",
    "    if k % 60 == 0: \n",
    "    \n",
    "        start_time_upper_mpc = time.perf_counter()  \n",
    "        Qout, height_ref, energy, energy_cost, co2_cost, total_cost = step_upper_level(horizon=24,\n",
    "                                                        prices_values=np.abs(upper_mpc_data.loc[i:i+23,\"price\"]),\n",
    "                                                        co2_values = upper_mpc_data.loc[i:i+23,\"CO2Emission\"], \n",
    "                                                        inflow_values=upper_mpc_data.loc[i:i+23,\"inflow_kf\"],\n",
    "                                                        h_init=lmpc_data_buffer.h_hist[-1], \n",
    "                                                        energy_init=lmpc_data_buffer.E_hist[:,-1:].reshape(1,3),\n",
    "                                                        Qout_init=lmpc_data_buffer.Qout_hist[-1],\n",
    "                                                        trigger_values=trigger, \n",
    "                                                        w1 = w1, \n",
    "                                                        w2 = w2\n",
    "                                                        )\n",
    "        price_cumulative_cost += energy_cost\n",
    "        carbon_cumulative_cost += co2_cost\n",
    "        cumulative_total_cost += total_cost\n",
    "\n",
    "        end_time_upper_mpc = time.perf_counter()\n",
    "\n",
    "        umpc_data_buffer.update(time=current_time,\n",
    "                                Qout_hopt=Qout[0], \n",
    "                                energy_htop=energy,\n",
    "                                href_hopt=height_ref[0],\n",
    "                                price = np.abs(upper_mpc_data.loc[i,\"price\"]),\n",
    "                                inflow = upper_mpc_data.loc[i,\"inflow_kf\"], \n",
    "                                co2_emission=upper_mpc_data.loc[i,\"CO2Emission\"]\n",
    "                                )\n",
    "        \n",
    "        i += 1\n",
    "        logging.info(f\"Iteration {i}: Height Reference = {np.round(height_ref[0])}\")\n",
    "        \n",
    "        \n",
    "        \n",
    "    print(height_ref[0])\n",
    "    result = lower_mpc.step(lmpc_data.data, reference=height_ref[0], inflow=Qin_kf_est[k+zs:k+zs+N+zs]) \n",
    "    lmpc_data.update(result)\n",
    "    print(result[\"h\"])\n",
    "    \n",
    "\n",
    "start_time_lower_mpc = time.perf_counter()  \n",
    "if i == 24:\n",
    "    break "
   ]
  },
  {
   "cell_type": "code",
   "execution_count": null,
   "metadata": {},
   "outputs": [],
   "source": []
  },
  {
   "cell_type": "code",
   "execution_count": null,
   "metadata": {},
   "outputs": [],
   "source": []
  },
  {
   "cell_type": "code",
   "execution_count": null,
   "metadata": {},
   "outputs": [],
   "source": []
  },
  {
   "cell_type": "code",
   "execution_count": null,
   "metadata": {},
   "outputs": [],
   "source": [
    "from lower_mpc import LowerMPC"
   ]
  },
  {
   "cell_type": "code",
   "execution_count": null,
   "metadata": {},
   "outputs": [],
   "source": [
    "root_folder = \"/Users/alessandroquattrociocchi/Git/mbs_aggregation_paper/mpc/\"\n",
    "params_path = \"sys_id/results/\""
   ]
  },
  {
   "cell_type": "code",
   "execution_count": null,
   "metadata": {},
   "outputs": [],
   "source": [
    "p1_power_model = json.load(open(root_folder + params_path + 'tf_p1_rpm_to_p1_power.json'))\n",
    "p1_qout_model = json.load(open(root_folder + params_path + 'tf_p1_rpm_to_qout_p1.json'))\n",
    "\n",
    "p3_power_model = json.load(open(root_folder + params_path + 'tf_p3_rpm_to_p3_power.json'))\n",
    "p3_qout_model = json.load(open(root_folder + params_path + 'tf_p3_rpm_to_qout_p3.json'))\n",
    "\n",
    "p4_power_model = json.load(open(root_folder + params_path + 'tf_p4_rpm_to_p4_power.json'))\n",
    "p4_qout_model = json.load(open(root_folder + params_path + 'tf_p4_rpm_to_qout_p4.json'))\n"
   ]
  },
  {
   "cell_type": "code",
   "execution_count": null,
   "metadata": {},
   "outputs": [],
   "source": []
  },
  {
   "cell_type": "code",
   "execution_count": null,
   "metadata": {},
   "outputs": [],
   "source": []
  },
  {
   "cell_type": "code",
   "execution_count": null,
   "metadata": {},
   "outputs": [],
   "source": []
  },
  {
   "cell_type": "code",
   "execution_count": null,
   "metadata": {},
   "outputs": [],
   "source": [
    "lmpc_data = LMPCDataBuffer()\n",
    "lmpc_data.initialize(ini_dict)"
   ]
  },
  {
   "cell_type": "code",
   "execution_count": null,
   "metadata": {},
   "outputs": [],
   "source": [
    "lmpc_data.initialize(ini_dict)"
   ]
  },
  {
   "cell_type": "code",
   "execution_count": null,
   "metadata": {},
   "outputs": [
    {
     "name": "stderr",
     "output_type": "stream",
     "text": [
      "100%|██████████| 60/60 [00:45<00:00,  1.31it/s]\n"
     ]
    }
   ],
   "source": [
    "for k in tqdm(range(0, 60*1)):\n",
    "    \n",
    "    lower_mpc = LowerMPC(sysid_params, \n",
    "                        N=60, \n",
    "                        Q=1.0, \n",
    "                        R=0.01)\n",
    "\n",
    "    inflow = Qin_kf_est[k+zs:k+zs+N+zs]\n",
    "\n",
    "    result = lower_mpc.step(lmpc_data.data, reference=139, inflow=inflow) \n",
    "    lmpc_data.update(result)"
   ]
  }
 ],
 "metadata": {
  "kernelspec": {
   "display_name": "opt_env",
   "language": "python",
   "name": "python3"
  },
  "language_info": {
   "codemirror_mode": {
    "name": "ipython",
    "version": 3
   },
   "file_extension": ".py",
   "mimetype": "text/x-python",
   "name": "python",
   "nbconvert_exporter": "python",
   "pygments_lexer": "ipython3",
   "version": "3.12.9"
  }
 },
 "nbformat": 4,
 "nbformat_minor": 2
}
