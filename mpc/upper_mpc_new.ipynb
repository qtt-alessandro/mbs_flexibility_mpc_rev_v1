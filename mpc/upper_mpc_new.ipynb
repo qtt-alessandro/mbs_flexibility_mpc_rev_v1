{
 "cells": [
  {
   "cell_type": "code",
   "execution_count": 18,
   "id": "2b3d0b44",
   "metadata": {},
   "outputs": [
    {
     "name": "stdout",
     "output_type": "stream",
     "text": [
      "The autoreload extension is already loaded. To reload it, use:\n",
      "  %reload_ext autoreload\n"
     ]
    }
   ],
   "source": [
    "import os \n",
    "import numpy as np \n",
    "import polars as pl \n",
    "from src.funcs import UpperMPCVariablesManager, LowerMPCVariablesManager \n",
    "from src.upper_mpc import step_upper_level\n",
    "from src.pumps_selector import circular_right_shift\n",
    "from upper_mpc import step_upper_level, UMPCDataBuffer\n",
    "import matplotlib.pyplot as plt \n",
    "import time \n",
    "import pandas as pd \n",
    "%load_ext autoreload\n",
    "%autoreload 2"
   ]
  },
  {
   "cell_type": "code",
   "execution_count": 8,
   "id": "cd61a6d5",
   "metadata": {},
   "outputs": [],
   "source": [
    "data_path_wsl = \"/home/alqua/data/pump_station_data/\"\n",
    "upper_mpc_data = pl.read_parquet(os.path.join(data_path_wsl, \"sim_data/sim_data_1h_full.par\"))\n",
    "upper_mpc_data_pan = pl.read_parquet(os.path.join(data_path_wsl, \"sim_data/sim_data_1h_full.par\"))"
   ]
  },
  {
   "cell_type": "code",
   "execution_count": null,
   "id": "36bb1009",
   "metadata": {},
   "outputs": [],
   "source": [
    "start_date = pd.to_datetime(\"2024-02-15 00:00:00+00:00\")\n",
    "end_date = pd.to_datetime(\"2024-02-25 08:00:00+00:00\")\n",
    "\n",
    "upper_mpc_data = upper_mpc_data.filter((pl.col(\"time\") >= start_date) & \n",
    "                                       (pl.col(\"time\") <= end_date)\n",
    "                                       ).with_columns(pl.col(\"CO2Emission\")/1000, pl.col(\"price\")/1000)\n",
    "\n",
    "upper_mpc_data = upper_mpc_data.with_columns(pl.col(\"time\").dt.day().alias(\"day_index\"))\n",
    "day_sliced_df = upper_mpc_data.filter(pl.col(\"day_index\") == 15)\n"
   ]
  },
  {
   "cell_type": "code",
   "execution_count": null,
   "id": "b285fcb7",
   "metadata": {},
   "outputs": [],
   "source": []
  },
  {
   "cell_type": "code",
   "execution_count": null,
   "id": "a1d82558",
   "metadata": {},
   "outputs": [],
   "source": []
  },
  {
   "cell_type": "code",
   "execution_count": 55,
   "id": "a8009b8e",
   "metadata": {},
   "outputs": [],
   "source": [
    "umpc_opt_results = step_upper_level(horizon= 24, \n",
    "                                    prices_values = day_sliced_df[\"price\"], \n",
    "                                    co2_progn_values = day_sliced_df[\"CO2Emission\"], \n",
    "                                    inflow_values = day_sliced_df[\"inflow_kf\"], \n",
    "                                    h_init = day_sliced_df[\"level\"][0], \n",
    "                                    energy_init = 20, \n",
    "                                    Qout_init = 200)\n"
   ]
  },
  {
   "cell_type": "code",
   "execution_count": 56,
   "id": "d4d9da13",
   "metadata": {},
   "outputs": [
    {
     "data": {
      "text/plain": [
       "{'Qout': 592.2418794184464,\n",
       " 'height': 199.9999983656802,\n",
       " 'cum_energy': 31.67348681131324,\n",
       " 'co2_progn': 1.0130000000000001,\n",
       " 'da_price': 0.061130000000000004,\n",
       " 'objective': 1569.836878527145}"
      ]
     },
     "execution_count": 56,
     "metadata": {},
     "output_type": "execute_result"
    }
   ],
   "source": [
    "umpc_opt_results"
   ]
  },
  {
   "cell_type": "code",
   "execution_count": 57,
   "id": "224ca0c7",
   "metadata": {},
   "outputs": [],
   "source": [
    "umpc_data = UMPCDataBuffer()"
   ]
  },
  {
   "cell_type": "code",
   "execution_count": 58,
   "id": "7fed7f29",
   "metadata": {},
   "outputs": [],
   "source": [
    "umpc_data.initialize(umpc_opt_results)"
   ]
  },
  {
   "cell_type": "code",
   "execution_count": 59,
   "id": "baee8cd7",
   "metadata": {},
   "outputs": [
    {
     "data": {
      "text/plain": [
       "{'Qout': [592.2418794184464],\n",
       " 'height': [199.9999983656802],\n",
       " 'co2_progn': [1.0130000000000001],\n",
       " 'cum_energy': [31.67348681131324],\n",
       " 'da_price': [0.061130000000000004],\n",
       " 'objective': [1569.836878527145]}"
      ]
     },
     "execution_count": 59,
     "metadata": {},
     "output_type": "execute_result"
    }
   ],
   "source": [
    "umpc_data.data"
   ]
  },
  {
   "cell_type": "code",
   "execution_count": null,
   "id": "629600d1",
   "metadata": {},
   "outputs": [],
   "source": []
  }
 ],
 "metadata": {
  "kernelspec": {
   "display_name": "opt_env",
   "language": "python",
   "name": "python3"
  },
  "language_info": {
   "codemirror_mode": {
    "name": "ipython",
    "version": 3
   },
   "file_extension": ".py",
   "mimetype": "text/x-python",
   "name": "python",
   "nbconvert_exporter": "python",
   "pygments_lexer": "ipython3",
   "version": "3.12.9"
  }
 },
 "nbformat": 4,
 "nbformat_minor": 5
}
