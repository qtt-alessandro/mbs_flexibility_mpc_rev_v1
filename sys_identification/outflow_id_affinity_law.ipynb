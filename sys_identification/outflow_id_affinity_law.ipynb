{
 "cells": [
  {
   "cell_type": "code",
   "execution_count": 11,
   "metadata": {},
   "outputs": [],
   "source": [
    "import pandas as pd\n",
    "import pwlf\n",
    "import numpy as np \n",
    "import matplotlib.pyplot as plt"
   ]
  },
  {
   "cell_type": "code",
   "execution_count": 12,
   "metadata": {},
   "outputs": [],
   "source": [
    "outflow_df  = pd.read_parquet(\"../data/static_models/outflow_miso.par\")\n",
    "\n",
    "pump1_power_df = pd.read_parquet(\"../data/static_models/pump1_power_siso.par\")\n",
    "#pump4_power_df = pd.read_parquet(\"./data/static_models/pump4_power_siso.par\")\n",
    "#pump3_power_df = pd.read_parquet(\"./data/static_models/pump3_power_siso.par\")"
   ]
  },
  {
   "cell_type": "code",
   "execution_count": 13,
   "metadata": {},
   "outputs": [],
   "source": [
    "outflow_df = outflow_df.set_index(\"time\")\n",
    "pump1_power_df = pump1_power_df.set_index(\"time\")"
   ]
  },
  {
   "cell_type": "code",
   "execution_count": 14,
   "metadata": {},
   "outputs": [],
   "source": [
    "pump1_df = outflow_df.join(pump1_power_df[\"pump1_power\"])"
   ]
  },
  {
   "cell_type": "code",
   "execution_count": 15,
   "metadata": {},
   "outputs": [],
   "source": [
    "pump1_df['outflow_p1'] = pump1_df.apply(lambda row: row['outflow'] if row['pump1_speed'] > 0 else 0, axis=1)\n",
    "#outflow_df['outflow_p3'] = outflow_df.apply(lambda row: row['outflow'] if row['pump3_speed'] > 0 else 0, axis=1)\n",
    "#outflow_df['outflow_p1'] = outflow_df.apply(lambda row: row['outflow'] if row['pump1_speed'] > 0 else 0, axis=1)"
   ]
  },
  {
   "cell_type": "code",
   "execution_count": 16,
   "metadata": {},
   "outputs": [],
   "source": [
    "pump1_df = pump1_df[pump1_df['outflow_p1'] > 0 ]"
   ]
  },
  {
   "cell_type": "code",
   "execution_count": 19,
   "metadata": {},
   "outputs": [],
   "source": [
    "pump1_df = pump1_df[pump1_df['outflow_p1'] > 0 ].reset_index(drop=True)"
   ]
  },
  {
   "cell_type": "code",
   "execution_count": 23,
   "metadata": {},
   "outputs": [],
   "source": [
    "from tqdm import tqdm"
   ]
  },
  {
   "cell_type": "code",
   "execution_count": 24,
   "metadata": {},
   "outputs": [
    {
     "name": "stderr",
     "output_type": "stream",
     "text": [
      " 45%|████▌     | 6832226/15109617 [10:04<12:12, 11297.38it/s]\n"
     ]
    },
    {
     "ename": "KeyError",
     "evalue": "6832227",
     "output_type": "error",
     "traceback": [
      "\u001b[0;31m---------------------------------------------------------------------------\u001b[0m",
      "\u001b[0;31mValueError\u001b[0m                                Traceback (most recent call last)",
      "File \u001b[0;32m~/anaconda3/envs/mpc_env/lib/python3.11/site-packages/pandas/core/indexes/range.py:413\u001b[0m, in \u001b[0;36mRangeIndex.get_loc\u001b[0;34m(self, key)\u001b[0m\n\u001b[1;32m    412\u001b[0m \u001b[38;5;28;01mtry\u001b[39;00m:\n\u001b[0;32m--> 413\u001b[0m     \u001b[38;5;28;01mreturn\u001b[39;00m \u001b[38;5;28mself\u001b[39m\u001b[38;5;241m.\u001b[39m_range\u001b[38;5;241m.\u001b[39mindex(new_key)\n\u001b[1;32m    414\u001b[0m \u001b[38;5;28;01mexcept\u001b[39;00m \u001b[38;5;167;01mValueError\u001b[39;00m \u001b[38;5;28;01mas\u001b[39;00m err:\n",
      "\u001b[0;31mValueError\u001b[0m: 6832227 is not in range",
      "\nThe above exception was the direct cause of the following exception:\n",
      "\u001b[0;31mKeyError\u001b[0m                                  Traceback (most recent call last)",
      "Cell \u001b[0;32mIn[24], line 10\u001b[0m\n\u001b[1;32m      7\u001b[0m prev_flow \u001b[38;5;241m=\u001b[39m pump1_df\u001b[38;5;241m.\u001b[39mloc[i \u001b[38;5;241m-\u001b[39m \u001b[38;5;241m1\u001b[39m, \u001b[38;5;124m'\u001b[39m\u001b[38;5;124moutflow_p1\u001b[39m\u001b[38;5;124m'\u001b[39m]\n\u001b[1;32m      9\u001b[0m \u001b[38;5;66;03m# Current speed to compute future flow rate\u001b[39;00m\n\u001b[0;32m---> 10\u001b[0m current_speed \u001b[38;5;241m=\u001b[39m \u001b[43mpump1_df\u001b[49m\u001b[38;5;241;43m.\u001b[39;49m\u001b[43mloc\u001b[49m\u001b[43m[\u001b[49m\u001b[43mi\u001b[49m\u001b[43m,\u001b[49m\u001b[43m \u001b[49m\u001b[38;5;124;43m'\u001b[39;49m\u001b[38;5;124;43mpump1_speed\u001b[39;49m\u001b[38;5;124;43m'\u001b[39;49m\u001b[43m]\u001b[49m\n\u001b[1;32m     12\u001b[0m \u001b[38;5;66;03m# Calculate future flow rate using affinity law\u001b[39;00m\n\u001b[1;32m     13\u001b[0m future_flow \u001b[38;5;241m=\u001b[39m (current_speed \u001b[38;5;241m/\u001b[39m prev_speed) \u001b[38;5;241m*\u001b[39m prev_flow\n",
      "File \u001b[0;32m~/anaconda3/envs/mpc_env/lib/python3.11/site-packages/pandas/core/indexing.py:1184\u001b[0m, in \u001b[0;36m_LocationIndexer.__getitem__\u001b[0;34m(self, key)\u001b[0m\n\u001b[1;32m   1182\u001b[0m     key \u001b[38;5;241m=\u001b[39m \u001b[38;5;28mtuple\u001b[39m(com\u001b[38;5;241m.\u001b[39mapply_if_callable(x, \u001b[38;5;28mself\u001b[39m\u001b[38;5;241m.\u001b[39mobj) \u001b[38;5;28;01mfor\u001b[39;00m x \u001b[38;5;129;01min\u001b[39;00m key)\n\u001b[1;32m   1183\u001b[0m     \u001b[38;5;28;01mif\u001b[39;00m \u001b[38;5;28mself\u001b[39m\u001b[38;5;241m.\u001b[39m_is_scalar_access(key):\n\u001b[0;32m-> 1184\u001b[0m         \u001b[38;5;28;01mreturn\u001b[39;00m \u001b[38;5;28;43mself\u001b[39;49m\u001b[38;5;241;43m.\u001b[39;49m\u001b[43mobj\u001b[49m\u001b[38;5;241;43m.\u001b[39;49m\u001b[43m_get_value\u001b[49m\u001b[43m(\u001b[49m\u001b[38;5;241;43m*\u001b[39;49m\u001b[43mkey\u001b[49m\u001b[43m,\u001b[49m\u001b[43m \u001b[49m\u001b[43mtakeable\u001b[49m\u001b[38;5;241;43m=\u001b[39;49m\u001b[38;5;28;43mself\u001b[39;49m\u001b[38;5;241;43m.\u001b[39;49m\u001b[43m_takeable\u001b[49m\u001b[43m)\u001b[49m\n\u001b[1;32m   1185\u001b[0m     \u001b[38;5;28;01mreturn\u001b[39;00m \u001b[38;5;28mself\u001b[39m\u001b[38;5;241m.\u001b[39m_getitem_tuple(key)\n\u001b[1;32m   1186\u001b[0m \u001b[38;5;28;01melse\u001b[39;00m:\n\u001b[1;32m   1187\u001b[0m     \u001b[38;5;66;03m# we by definition only have the 0th axis\u001b[39;00m\n",
      "File \u001b[0;32m~/anaconda3/envs/mpc_env/lib/python3.11/site-packages/pandas/core/frame.py:4209\u001b[0m, in \u001b[0;36mDataFrame._get_value\u001b[0;34m(self, index, col, takeable)\u001b[0m\n\u001b[1;32m   4203\u001b[0m engine \u001b[38;5;241m=\u001b[39m \u001b[38;5;28mself\u001b[39m\u001b[38;5;241m.\u001b[39mindex\u001b[38;5;241m.\u001b[39m_engine\n\u001b[1;32m   4205\u001b[0m \u001b[38;5;28;01mif\u001b[39;00m \u001b[38;5;129;01mnot\u001b[39;00m \u001b[38;5;28misinstance\u001b[39m(\u001b[38;5;28mself\u001b[39m\u001b[38;5;241m.\u001b[39mindex, MultiIndex):\n\u001b[1;32m   4206\u001b[0m     \u001b[38;5;66;03m# CategoricalIndex: Trying to use the engine fastpath may give incorrect\u001b[39;00m\n\u001b[1;32m   4207\u001b[0m     \u001b[38;5;66;03m#  results if our categories are integers that dont match our codes\u001b[39;00m\n\u001b[1;32m   4208\u001b[0m     \u001b[38;5;66;03m# IntervalIndex: IntervalTree has no get_loc\u001b[39;00m\n\u001b[0;32m-> 4209\u001b[0m     row \u001b[38;5;241m=\u001b[39m \u001b[38;5;28;43mself\u001b[39;49m\u001b[38;5;241;43m.\u001b[39;49m\u001b[43mindex\u001b[49m\u001b[38;5;241;43m.\u001b[39;49m\u001b[43mget_loc\u001b[49m\u001b[43m(\u001b[49m\u001b[43mindex\u001b[49m\u001b[43m)\u001b[49m\n\u001b[1;32m   4210\u001b[0m     \u001b[38;5;28;01mreturn\u001b[39;00m series\u001b[38;5;241m.\u001b[39m_values[row]\n\u001b[1;32m   4212\u001b[0m \u001b[38;5;66;03m# For MultiIndex going through engine effectively restricts us to\u001b[39;00m\n\u001b[1;32m   4213\u001b[0m \u001b[38;5;66;03m#  same-length tuples; see test_get_set_value_no_partial_indexing\u001b[39;00m\n",
      "File \u001b[0;32m~/anaconda3/envs/mpc_env/lib/python3.11/site-packages/pandas/core/indexes/range.py:415\u001b[0m, in \u001b[0;36mRangeIndex.get_loc\u001b[0;34m(self, key)\u001b[0m\n\u001b[1;32m    413\u001b[0m         \u001b[38;5;28;01mreturn\u001b[39;00m \u001b[38;5;28mself\u001b[39m\u001b[38;5;241m.\u001b[39m_range\u001b[38;5;241m.\u001b[39mindex(new_key)\n\u001b[1;32m    414\u001b[0m     \u001b[38;5;28;01mexcept\u001b[39;00m \u001b[38;5;167;01mValueError\u001b[39;00m \u001b[38;5;28;01mas\u001b[39;00m err:\n\u001b[0;32m--> 415\u001b[0m         \u001b[38;5;28;01mraise\u001b[39;00m \u001b[38;5;167;01mKeyError\u001b[39;00m(key) \u001b[38;5;28;01mfrom\u001b[39;00m \u001b[38;5;21;01merr\u001b[39;00m\n\u001b[1;32m    416\u001b[0m \u001b[38;5;28;01mif\u001b[39;00m \u001b[38;5;28misinstance\u001b[39m(key, Hashable):\n\u001b[1;32m    417\u001b[0m     \u001b[38;5;28;01mraise\u001b[39;00m \u001b[38;5;167;01mKeyError\u001b[39;00m(key)\n",
      "\u001b[0;31mKeyError\u001b[0m: 6832227"
     ]
    }
   ],
   "source": [
    "pump1_df['outflow_p4_hat'] = pd.NA\n",
    "\n",
    "# Loop to iteratively compute future flow rates\n",
    "for i in tqdm(range(1, len(outflow_df))):\n",
    "    # Previous speed and flow values\n",
    "    prev_speed = pump1_df.loc[i - 1, 'pump1_speed']\n",
    "    prev_flow = pump1_df.loc[i - 1, 'outflow_p1']\n",
    "\n",
    "    # Current speed to compute future flow rate\n",
    "    current_speed = pump1_df.loc[i, 'pump1_speed']\n",
    "\n",
    "    # Calculate future flow rate using affinity law\n",
    "    future_flow = (current_speed / prev_speed) * prev_flow\n",
    "\n",
    "    # Store the calculated future flow in the DataFrame\n",
    "    pump1_df.loc[i, 'outflow_p1_hat'] = future_flow"
   ]
  },
  {
   "cell_type": "code",
   "execution_count": 41,
   "metadata": {},
   "outputs": [
    {
     "data": {
      "text/html": [
       "<div>\n",
       "<style scoped>\n",
       "    .dataframe tbody tr th:only-of-type {\n",
       "        vertical-align: middle;\n",
       "    }\n",
       "\n",
       "    .dataframe tbody tr th {\n",
       "        vertical-align: top;\n",
       "    }\n",
       "\n",
       "    .dataframe thead th {\n",
       "        text-align: right;\n",
       "    }\n",
       "</style>\n",
       "<table border=\"1\" class=\"dataframe\">\n",
       "  <thead>\n",
       "    <tr style=\"text-align: right;\">\n",
       "      <th></th>\n",
       "      <th>level</th>\n",
       "      <th>outflow</th>\n",
       "      <th>pump1_speed</th>\n",
       "      <th>pump4_speed</th>\n",
       "      <th>pump3_speed</th>\n",
       "      <th>pump1_power</th>\n",
       "      <th>outflow_p1</th>\n",
       "      <th>outflow_p4_hat</th>\n",
       "      <th>outflow_p1_hat</th>\n",
       "    </tr>\n",
       "  </thead>\n",
       "  <tbody>\n",
       "    <tr>\n",
       "      <th>0</th>\n",
       "      <td>153.0</td>\n",
       "      <td>2.0</td>\n",
       "      <td>40.0</td>\n",
       "      <td>268.0</td>\n",
       "      <td>0.0</td>\n",
       "      <td>27.900000</td>\n",
       "      <td>2.0</td>\n",
       "      <td>&lt;NA&gt;</td>\n",
       "      <td>NaN</td>\n",
       "    </tr>\n",
       "    <tr>\n",
       "      <th>1</th>\n",
       "      <td>153.0</td>\n",
       "      <td>3.0</td>\n",
       "      <td>85.0</td>\n",
       "      <td>235.0</td>\n",
       "      <td>0.0</td>\n",
       "      <td>27.799999</td>\n",
       "      <td>3.0</td>\n",
       "      <td>&lt;NA&gt;</td>\n",
       "      <td>4.250000</td>\n",
       "    </tr>\n",
       "    <tr>\n",
       "      <th>2</th>\n",
       "      <td>153.0</td>\n",
       "      <td>6.0</td>\n",
       "      <td>130.0</td>\n",
       "      <td>213.0</td>\n",
       "      <td>0.0</td>\n",
       "      <td>26.600000</td>\n",
       "      <td>6.0</td>\n",
       "      <td>&lt;NA&gt;</td>\n",
       "      <td>4.588235</td>\n",
       "    </tr>\n",
       "    <tr>\n",
       "      <th>3</th>\n",
       "      <td>153.0</td>\n",
       "      <td>5.0</td>\n",
       "      <td>174.0</td>\n",
       "      <td>190.0</td>\n",
       "      <td>0.0</td>\n",
       "      <td>25.400000</td>\n",
       "      <td>5.0</td>\n",
       "      <td>&lt;NA&gt;</td>\n",
       "      <td>8.030769</td>\n",
       "    </tr>\n",
       "    <tr>\n",
       "      <th>4</th>\n",
       "      <td>153.0</td>\n",
       "      <td>4.0</td>\n",
       "      <td>242.0</td>\n",
       "      <td>168.0</td>\n",
       "      <td>0.0</td>\n",
       "      <td>26.299999</td>\n",
       "      <td>4.0</td>\n",
       "      <td>&lt;NA&gt;</td>\n",
       "      <td>6.954023</td>\n",
       "    </tr>\n",
       "    <tr>\n",
       "      <th>...</th>\n",
       "      <td>...</td>\n",
       "      <td>...</td>\n",
       "      <td>...</td>\n",
       "      <td>...</td>\n",
       "      <td>...</td>\n",
       "      <td>...</td>\n",
       "      <td>...</td>\n",
       "      <td>...</td>\n",
       "      <td>...</td>\n",
       "    </tr>\n",
       "    <tr>\n",
       "      <th>6832222</th>\n",
       "      <td>176.0</td>\n",
       "      <td>751.0</td>\n",
       "      <td>1020.0</td>\n",
       "      <td>0.0</td>\n",
       "      <td>1020.0</td>\n",
       "      <td>47.529999</td>\n",
       "      <td>751.0</td>\n",
       "      <td>&lt;NA&gt;</td>\n",
       "      <td>751.000000</td>\n",
       "    </tr>\n",
       "    <tr>\n",
       "      <th>6832223</th>\n",
       "      <td>176.0</td>\n",
       "      <td>730.0</td>\n",
       "      <td>1020.0</td>\n",
       "      <td>0.0</td>\n",
       "      <td>1020.0</td>\n",
       "      <td>46.919998</td>\n",
       "      <td>730.0</td>\n",
       "      <td>&lt;NA&gt;</td>\n",
       "      <td>751.000000</td>\n",
       "    </tr>\n",
       "    <tr>\n",
       "      <th>6832224</th>\n",
       "      <td>176.0</td>\n",
       "      <td>720.0</td>\n",
       "      <td>1020.0</td>\n",
       "      <td>0.0</td>\n",
       "      <td>1020.0</td>\n",
       "      <td>49.200001</td>\n",
       "      <td>720.0</td>\n",
       "      <td>&lt;NA&gt;</td>\n",
       "      <td>730.000000</td>\n",
       "    </tr>\n",
       "    <tr>\n",
       "      <th>6832225</th>\n",
       "      <td>176.0</td>\n",
       "      <td>717.0</td>\n",
       "      <td>1020.0</td>\n",
       "      <td>0.0</td>\n",
       "      <td>1020.0</td>\n",
       "      <td>47.230000</td>\n",
       "      <td>717.0</td>\n",
       "      <td>&lt;NA&gt;</td>\n",
       "      <td>720.000000</td>\n",
       "    </tr>\n",
       "    <tr>\n",
       "      <th>6832226</th>\n",
       "      <td>176.0</td>\n",
       "      <td>721.0</td>\n",
       "      <td>1020.0</td>\n",
       "      <td>0.0</td>\n",
       "      <td>1020.0</td>\n",
       "      <td>47.320000</td>\n",
       "      <td>721.0</td>\n",
       "      <td>&lt;NA&gt;</td>\n",
       "      <td>717.000000</td>\n",
       "    </tr>\n",
       "  </tbody>\n",
       "</table>\n",
       "<p>6832227 rows × 9 columns</p>\n",
       "</div>"
      ],
      "text/plain": [
       "         level  outflow  pump1_speed  pump4_speed  pump3_speed  pump1_power  \\\n",
       "0        153.0      2.0         40.0        268.0          0.0    27.900000   \n",
       "1        153.0      3.0         85.0        235.0          0.0    27.799999   \n",
       "2        153.0      6.0        130.0        213.0          0.0    26.600000   \n",
       "3        153.0      5.0        174.0        190.0          0.0    25.400000   \n",
       "4        153.0      4.0        242.0        168.0          0.0    26.299999   \n",
       "...        ...      ...          ...          ...          ...          ...   \n",
       "6832222  176.0    751.0       1020.0          0.0       1020.0    47.529999   \n",
       "6832223  176.0    730.0       1020.0          0.0       1020.0    46.919998   \n",
       "6832224  176.0    720.0       1020.0          0.0       1020.0    49.200001   \n",
       "6832225  176.0    717.0       1020.0          0.0       1020.0    47.230000   \n",
       "6832226  176.0    721.0       1020.0          0.0       1020.0    47.320000   \n",
       "\n",
       "         outflow_p1 outflow_p4_hat  outflow_p1_hat  \n",
       "0               2.0           <NA>             NaN  \n",
       "1               3.0           <NA>        4.250000  \n",
       "2               6.0           <NA>        4.588235  \n",
       "3               5.0           <NA>        8.030769  \n",
       "4               4.0           <NA>        6.954023  \n",
       "...             ...            ...             ...  \n",
       "6832222       751.0           <NA>      751.000000  \n",
       "6832223       730.0           <NA>      751.000000  \n",
       "6832224       720.0           <NA>      730.000000  \n",
       "6832225       717.0           <NA>      720.000000  \n",
       "6832226       721.0           <NA>      717.000000  \n",
       "\n",
       "[6832227 rows x 9 columns]"
      ]
     },
     "execution_count": 41,
     "metadata": {},
     "output_type": "execute_result"
    }
   ],
   "source": [
    "pump1_df"
   ]
  },
  {
   "cell_type": "code",
   "execution_count": 40,
   "metadata": {},
   "outputs": [
    {
     "data": {
      "text/plain": [
       "[<matplotlib.lines.Line2D at 0x7faa5d16ad90>]"
      ]
     },
     "execution_count": 40,
     "metadata": {},
     "output_type": "execute_result"
    },
    {
     "data": {
      "image/png": "[encoded data removed]",
      "text/plain": [
       "<Figure size 640x480 with 1 Axes>"
      ]
     },
     "metadata": {},
     "output_type": "display_data"
    }
   ],
   "source": [
    "plt.plot(pump1_df[\"outflow_p1\"][:8000].dropna())\n",
    "plt.plot(pump1_df[\"outflow_p1_hat\"][:8000].dropna())\n",
    "\n",
    "#plt.plot(pump1_df[\"pump1_speed\"][:8000].dropna())"
   ]
  },
  {
   "cell_type": "code",
   "execution_count": 42,
   "metadata": {},
   "outputs": [
    {
     "ename": "ValueError",
     "evalue": "matmul: Input operand 1 has a mismatch in its core dimension 0, with gufunc signature (n?,k),(k,m?)->(n?,m?) (size 2 is different from 3)",
     "output_type": "error",
     "traceback": [
      "\u001b[0;31m---------------------------------------------------------------------------\u001b[0m",
      "\u001b[0;31mValueError\u001b[0m                                Traceback (most recent call last)",
      "Cell \u001b[0;32mIn[42], line 67\u001b[0m\n\u001b[1;32m     56\u001b[0m B_power \u001b[38;5;241m=\u001b[39m [\n\u001b[1;32m     57\u001b[0m     [\u001b[38;5;241m0.035117\u001b[39m, \u001b[38;5;241m0.0\u001b[39m, \u001b[38;5;241m0.0\u001b[39m],\n\u001b[1;32m     58\u001b[0m     [\u001b[38;5;241m0.0\u001b[39m, \u001b[38;5;241m0.041216\u001b[39m, \u001b[38;5;241m0.0\u001b[39m],\n\u001b[1;32m     59\u001b[0m     [\u001b[38;5;241m0.0\u001b[39m, \u001b[38;5;241m0.0\u001b[39m, \u001b[38;5;241m0.027095\u001b[39m]\n\u001b[1;32m     60\u001b[0m ]\n\u001b[1;32m     61\u001b[0m C_power \u001b[38;5;241m=\u001b[39m [\n\u001b[1;32m     62\u001b[0m     [\u001b[38;5;241m0.0\u001b[39m],\n\u001b[1;32m     63\u001b[0m     [\u001b[38;5;241m0.0\u001b[39m],\n\u001b[1;32m     64\u001b[0m     [\u001b[38;5;241m0.0015144\u001b[39m]\n\u001b[1;32m     65\u001b[0m ]\n\u001b[0;32m---> 67\u001b[0m E_simulated \u001b[38;5;241m=\u001b[39m \u001b[43msimulate_arx\u001b[49m\u001b[43m(\u001b[49m\u001b[43mA_power\u001b[49m\u001b[43m,\u001b[49m\u001b[43m \u001b[49m\u001b[43mB_power\u001b[49m\u001b[43m,\u001b[49m\u001b[43m \u001b[49m\u001b[43mC_power\u001b[49m\u001b[43m,\u001b[49m\u001b[43m \u001b[49m\u001b[43mspeed\u001b[49m\u001b[43m,\u001b[49m\u001b[43m \u001b[49m\u001b[43moutflow\u001b[49m\u001b[43m)\u001b[49m\n\u001b[1;32m     69\u001b[0m \u001b[38;5;66;03m# Print the result\u001b[39;00m\n\u001b[1;32m     70\u001b[0m \u001b[38;5;28mprint\u001b[39m(E_simulated)\n",
      "Cell \u001b[0;32mIn[42], line 39\u001b[0m, in \u001b[0;36msimulate_arx\u001b[0;34m(A_power, B_power, C_power, speed, outflow)\u001b[0m\n\u001b[1;32m     34\u001b[0m \u001b[38;5;66;03m# Iterate over each time step\u001b[39;00m\n\u001b[1;32m     35\u001b[0m \u001b[38;5;28;01mfor\u001b[39;00m t \u001b[38;5;129;01min\u001b[39;00m \u001b[38;5;28mrange\u001b[39m(\u001b[38;5;241m2\u001b[39m, n_data):\n\u001b[1;32m     36\u001b[0m     \u001b[38;5;66;03m# Compute E at time t\u001b[39;00m\n\u001b[1;32m     37\u001b[0m     E[:, t] \u001b[38;5;241m=\u001b[39m (\n\u001b[1;32m     38\u001b[0m         A_power \u001b[38;5;241m@\u001b[39m np\u001b[38;5;241m.\u001b[39mconcatenate([E[:, t\u001b[38;5;241m-\u001b[39m\u001b[38;5;241m1\u001b[39m], E[:, t\u001b[38;5;241m-\u001b[39m\u001b[38;5;241m2\u001b[39m]]) \u001b[38;5;241m+\u001b[39m\n\u001b[0;32m---> 39\u001b[0m         \u001b[43mB_power\u001b[49m\u001b[43m \u001b[49m\u001b[38;5;241;43m@\u001b[39;49m\u001b[43m \u001b[49m\u001b[43mw\u001b[49m\u001b[43m[\u001b[49m\u001b[43m:\u001b[49m\u001b[43m,\u001b[49m\u001b[43m \u001b[49m\u001b[43mt\u001b[49m\u001b[38;5;241;43m-\u001b[39;49m\u001b[38;5;241;43m1\u001b[39;49m\u001b[43m]\u001b[49m \u001b[38;5;241m+\u001b[39m\n\u001b[1;32m     40\u001b[0m         C_power\u001b[38;5;241m.\u001b[39mflatten()\n\u001b[1;32m     41\u001b[0m     )\n\u001b[1;32m     43\u001b[0m \u001b[38;5;28;01mreturn\u001b[39;00m E\n",
      "\u001b[0;31mValueError\u001b[0m: matmul: Input operand 1 has a mismatch in its core dimension 0, with gufunc signature (n?,k),(k,m?)->(n?,m?) (size 2 is different from 3)"
     ]
    }
   ],
   "source": [
    "import numpy as np\n",
    "\n",
    "def simulate_arx(A_power, B_power, C_power, speed, outflow):\n",
    "    \"\"\"\n",
    "    Simulate the ARX model for given speed and outflow data.\n",
    "\n",
    "    Parameters:\n",
    "    A_power (list of lists): The A coefficient matrix for ARX.\n",
    "    B_power (list of lists): The B coefficient matrix for ARX.\n",
    "    C_power (list of lists): The C coefficient matrix for ARX.\n",
    "    speed (numpy.ndarray): Column vector of speed data.\n",
    "    outflow (numpy.ndarray): Column vector of outflow data.\n",
    "\n",
    "    Returns:\n",
    "    numpy.ndarray: Simulated energy output values.\n",
    "    \"\"\"\n",
    "    # Ensure inputs are numpy arrays\n",
    "    A_power = np.array(A_power)\n",
    "    B_power = np.array(B_power)\n",
    "    C_power = np.array(C_power)\n",
    "    speed = np.array(speed).flatten()\n",
    "    outflow = np.array(outflow).flatten()\n",
    "\n",
    "    # Length of data\n",
    "    n_data = len(speed)\n",
    "\n",
    "    # Initial energy output (assume zeros initially)\n",
    "    n_states = A_power.shape[0]\n",
    "    E = np.zeros((n_states, n_data))\n",
    "\n",
    "    # Concatenate inputs (assuming inputs are speed and outflow)\n",
    "    w = np.vstack((speed, outflow))\n",
    "\n",
    "    # Iterate over each time step\n",
    "    for t in range(2, n_data):\n",
    "        # Compute E at time t\n",
    "        E[:, t] = (\n",
    "            A_power @ np.concatenate([E[:, t-1], E[:, t-2]]) +\n",
    "            B_power @ w[:, t-1] +\n",
    "            C_power.flatten()\n",
    "        )\n",
    "\n",
    "    return E\n",
    "\n",
    "# Example usage\n",
    "# Define input data\n",
    "speed = np.array([0.1, 0.2, 0.3, 0.4, 0.5, 0.6])   # Example column vector of speed\n",
    "outflow = np.array([0.5, 0.4, 0.3, 0.2, 0.1, 0.0])  # Example column vector of outflow\n",
    "\n",
    "# Call the function\n",
    "A_power = [\n",
    "    [0.16108, 0.0, 0.0, 0.09503, 0.0, 0.0],\n",
    "    [0.0, 0.0036872, 0.0, 0.0, 0.0031648, 0.0],\n",
    "    [0.0, 0.0, 0.2359, 0.0, 0.0, 0.19355]\n",
    "]\n",
    "B_power = [\n",
    "    [0.035117, 0.0, 0.0],\n",
    "    [0.0, 0.041216, 0.0],\n",
    "    [0.0, 0.0, 0.027095]\n",
    "]\n",
    "C_power = [\n",
    "    [0.0],\n",
    "    [0.0],\n",
    "    [0.0015144]\n",
    "]\n",
    "\n",
    "E_simulated = simulate_arx(A_power, B_power, C_power, speed, outflow)\n",
    "\n",
    "# Print the result\n",
    "print(E_simulated)\n"
   ]
  },
  {
   "cell_type": "code",
   "execution_count": null,
   "metadata": {},
   "outputs": [],
   "source": []
  }
 ],
 "metadata": {
  "kernelspec": {
   "display_name": "mpc_env",
   "language": "python",
   "name": "python3"
  },
  "language_info": {
   "codemirror_mode": {
    "name": "ipython",
    "version": 3
   },
   "file_extension": ".py",
   "mimetype": "text/x-python",
   "name": "python",
   "nbconvert_exporter": "python",
   "pygments_lexer": "ipython3",
   "version": "3.11.9"
  }
 },
 "nbformat": 4,
 "nbformat_minor": 2
}
