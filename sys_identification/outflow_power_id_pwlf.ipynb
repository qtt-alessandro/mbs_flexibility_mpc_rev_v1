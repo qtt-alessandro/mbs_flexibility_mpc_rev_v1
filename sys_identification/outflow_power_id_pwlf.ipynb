{
 "cells": [
  {
   "cell_type": "code",
   "execution_count": 1,
   "metadata": {},
   "outputs": [],
   "source": [
    "import numpy as np \n",
    "import pandas as pd \n",
    "import matplotlib.pyplot as plt \n",
    "import pwlf\n",
    "%load_ext autoreload\n",
    "%autoreload 2"
   ]
  },
  {
   "cell_type": "code",
   "execution_count": 2,
   "metadata": {},
   "outputs": [],
   "source": [
    "pump1_power_data =  pd.read_parquet(\"/home/alqua/Git/PumpStationMPC/data/static_models/raw_data_pump1_power.par\").set_index(\"time\").resample(\"1min\").mean()\n",
    "pump4_power_data =  pd.read_parquet(\"/home/alqua/Git/PumpStationMPC/data/static_models/raw_data_pump4_power.par\").set_index(\"time\").resample(\"1min\").mean()\n",
    "pump3_power_data =  pd.read_parquet(\"/home/alqua/Git/PumpStationMPC/data/static_models/raw_data_pump3_power.par\").set_index(\"time\").resample(\"1min\").mean()\n",
    "df = pd.read_parquet(\"../data/sym_data/sym_df_5m_res_with_co2.parquet\")\n",
    "df = df.join(pump1_power_data, on='time').join(pump4_power_data, on='time').join(pump3_power_data, on='time')\n",
    "df = df.set_index(\"time\")"
   ]
  },
  {
   "cell_type": "code",
   "execution_count": 3,
   "metadata": {},
   "outputs": [],
   "source": [
    "import numpy as np\n",
    "import pandas as pd\n",
    "\n",
    "def filter_pump_to_fit(df, pump, bin_size):\n",
    "    if pump == \"pump1\":\n",
    "        xdf = df[(df[\"pump1_power\"] > 0) & (df[\"pump3_power\"] == 0) & (df[\"pump4_power\"] == 0)]\n",
    "    elif pump == \"pump3\":\n",
    "        xdf = df[(df[\"pump3_power\"] > 0) & (df[\"pump1_power\"] == 0) & (df[\"pump4_power\"] == 0)]\n",
    "    elif pump == \"pump4\":\n",
    "        xdf = df[(df[\"pump4_power\"] > 0) & (df[\"pump1_power\"] == 0) & (df[\"pump3_power\"] == 0)]\n",
    "        \n",
    "    max_value = xdf['pump1_power'].max()\n",
    "    bins = np.arange(0, max_value + bin_size, bin_size)\n",
    "    labels = [f'{round(bins[i], 2)}-{round(bins[i + 1], 2)}' for i in range(len(bins) - 1)]\n",
    "    \n",
    "    xdf['pump1_power_bin'] = pd.cut(xdf['pump1_power'], bins=bins, labels=labels, include_lowest=True)\n",
    "    mean_outflow_by_bin = xdf.groupby('pump1_power_bin')['outflow'].median().reset_index()\n",
    "    \n",
    "    mean_outflow_by_bin['bin_center'] = mean_outflow_by_bin['pump1_power_bin'].apply(\n",
    "        lambda x: (bins[labels.index(x)] + bins[labels.index(x) + 1]) / 2 if pd.notnull(x) else np.nan\n",
    "    )\n",
    "    \n",
    "    mean_outflow_by_bin = mean_outflow_by_bin.dropna()\n",
    "    return xdf, mean_outflow_by_bin\n"
   ]
  },
  {
   "cell_type": "code",
   "execution_count": 4,
   "metadata": {},
   "outputs": [
    {
     "name": "stderr",
     "output_type": "stream",
     "text": [
      "/tmp/ipykernel_926/3771444139.py:16: SettingWithCopyWarning: \n",
      "A value is trying to be set on a copy of a slice from a DataFrame.\n",
      "Try using .loc[row_indexer,col_indexer] = value instead\n",
      "\n",
      "See the caveats in the documentation: https://pandas.pydata.org/pandas-docs/stable/user_guide/indexing.html#returning-a-view-versus-a-copy\n",
      "  xdf['pump1_power_bin'] = pd.cut(xdf['pump1_power'], bins=bins, labels=labels, include_lowest=True)\n",
      "/tmp/ipykernel_926/3771444139.py:17: FutureWarning: The default of observed=False is deprecated and will be changed to True in a future version of pandas. Pass observed=False to retain current behavior or observed=True to adopt the future default and silence this warning.\n",
      "  mean_outflow_by_bin = xdf.groupby('pump1_power_bin')['outflow'].median().reset_index()\n"
     ]
    }
   ],
   "source": [
    "pump1_dynamic_df, pump1_power_binned = filter_pump_to_fit(df, \"pump1\", 0.1)"
   ]
  },
  {
   "cell_type": "code",
   "execution_count": 5,
   "metadata": {},
   "outputs": [],
   "source": [
    "def filter_pump_to_fit(xdf, pump, bin_size ):\n",
    "    if pump == \"pump1\":\n",
    "        xdf = df[(df[\"pump1_power\"]>0) & (df[\"pump3_power\"]==0) & (df[\"pump4_power\"]==0)]\n",
    "    elif pump == \"pump3\":\n",
    "        xdf = df[(df[\"pump3_power\"]>0) & (df[\"pump1_power\"]==0) & (df[\"pump4_power\"]==0)]\n",
    "    elif pump == \"pump4\":\n",
    "        xdf = df[(df[\"pump4_power\"]>0) & (df[\"pump1_power\"]==0) & (df[\"pump3_power\"]==0)]\n",
    "        \n",
    "    max_value = xdf['pump1_power'].max()\n",
    "    bins = np.arange(0, max_value + bin_size, bin_size)\n",
    "    labels = [f'{int(bins[i])}-{int(bins[i+1])}' for i in range(len(bins)-1)]    \n",
    "    xdf['pump1_power_bin'] = pd.cut(xdf['pump1_power'], bins=bins, labels=labels, include_lowest=True)\n",
    "    mean_outflow_by_bin = xdf.groupby('pump1_power_bin')['outflow'].median().reset_index()\n",
    "    mean_outflow_by_bin['bin_center'] = mean_outflow_by_bin['pump1_power_bin'].apply(lambda x: (bins[labels.index(x)] + bins[labels.index(x) + 1]) / 2)\n",
    "    mean_outflow_by_bin = mean_outflow_by_bin.dropna()\n",
    "    return xdf, mean_outflow_by_bin\n",
    "    "
   ]
  },
  {
   "cell_type": "code",
   "execution_count": 6,
   "metadata": {},
   "outputs": [
    {
     "name": "stderr",
     "output_type": "stream",
     "text": [
      "/tmp/ipykernel_926/598825120.py:12: SettingWithCopyWarning: \n",
      "A value is trying to be set on a copy of a slice from a DataFrame.\n",
      "Try using .loc[row_indexer,col_indexer] = value instead\n",
      "\n",
      "See the caveats in the documentation: https://pandas.pydata.org/pandas-docs/stable/user_guide/indexing.html#returning-a-view-versus-a-copy\n",
      "  xdf['pump1_power_bin'] = pd.cut(xdf['pump1_power'], bins=bins, labels=labels, include_lowest=True)\n",
      "/tmp/ipykernel_926/598825120.py:13: FutureWarning: The default of observed=False is deprecated and will be changed to True in a future version of pandas. Pass observed=False to retain current behavior or observed=True to adopt the future default and silence this warning.\n",
      "  mean_outflow_by_bin = xdf.groupby('pump1_power_bin')['outflow'].median().reset_index()\n"
     ]
    }
   ],
   "source": [
    "pump1_dynamic_df, pump1_power_binned = filter_pump_to_fit(df, \"pump1\", 1)"
   ]
  },
  {
   "cell_type": "code",
   "execution_count": 7,
   "metadata": {},
   "outputs": [],
   "source": [
    "def fit_piecewise(df, breaks):\n",
    "    pwlf = pwlf.PiecewiseLinFit(df[\"bin_center\"], df[\"outflow\"])\n",
    "    pwlf.fit_with_breaks(breaks)\n",
    "    "
   ]
  },
  {
   "cell_type": "code",
   "execution_count": 8,
   "metadata": {},
   "outputs": [],
   "source": [
    "def fit_piecewise(df, breaks):\n",
    "    pwlf_model = pwlf.PiecewiseLinFit(df[\"bin_center\"], df[\"outflow\"])\n",
    "    pwlf_model.fit_with_breaks(breaks)\n",
    "    slopes = pwlf_model.slopes\n",
    "    intercepts = pwlf_model.intercepts\n",
    "    breakpoints = pwlf_model.fit_breaks\n",
    "\n",
    "    return pwlf_model, {\n",
    "        \"slopes\": slopes,\n",
    "        \"intercepts\": intercepts,\n",
    "        \"breakpoints\": breakpoints\n",
    "    }"
   ]
  },
  {
   "cell_type": "code",
   "execution_count": 9,
   "metadata": {},
   "outputs": [],
   "source": [
    "missing_data = pd.DataFrame({\n",
    "    'pump1_power_bin': ['0.0-0.1', '0.1-0.2', '0.2-0.3', '0.3-0.4'],\n",
    "    'outflow': [0.0, 0.0, 0.0, 0.0],  # Assuming outflow is 0 for these bins\n",
    "    'bin_center': [0.05, 0.15, 0.25, 0.35]\n",
    "})\n",
    "\n",
    "# Concatenate the missing data with the existing dataframe\n",
    "pump1_power_binned = pd.concat([missing_data, pump1_power_binned]).reset_index(drop=True)"
   ]
  },
  {
   "cell_type": "code",
   "execution_count": 10,
   "metadata": {},
   "outputs": [],
   "source": [
    "#pump1_power_binned['outflow'] = pd.to_numeric(pump1_power_binned['outflow'], errors='coerce')\n",
    "#pump1_power_binned['outflow'].iloc[:3] = 0"
   ]
  },
  {
   "cell_type": "code",
   "execution_count": 11,
   "metadata": {},
   "outputs": [],
   "source": [
    "pump1_power_model, fit_params = fit_piecewise(pump1_power_binned, [0,30,80])"
   ]
  },
  {
   "cell_type": "code",
   "execution_count": 12,
   "metadata": {},
   "outputs": [
    {
     "data": {
      "text/plain": [
       "{'slopes': array([ 4.82246804, 14.86423641]),\n",
       " 'intercepts': array([ -18.62012472, -319.87317564]),\n",
       " 'breakpoints': array([ 0, 30, 80])}"
      ]
     },
     "execution_count": 12,
     "metadata": {},
     "output_type": "execute_result"
    }
   ],
   "source": [
    "fit_params"
   ]
  },
  {
   "cell_type": "code",
   "execution_count": 13,
   "metadata": {},
   "outputs": [
    {
     "data": {
      "text/plain": [
       "[<matplotlib.lines.Line2D at 0x7f58d7f60410>]"
      ]
     },
     "execution_count": 13,
     "metadata": {},
     "output_type": "execute_result"
    },
    {
     "data": {
      "image/png": "[encoded data removed]",
      "text/plain": [
       "<Figure size 640x480 with 1 Axes>"
      ]
     },
     "metadata": {},
     "output_type": "display_data"
    }
   ],
   "source": [
    "plt.plot(pump1_power_binned['bin_center'], pump1_power_binned['outflow'], 'o')\n",
    "plt.plot(pump1_power_binned['bin_center'], pump1_power_model.predict(pump1_power_binned['bin_center']), '-')"
   ]
  },
  {
   "cell_type": "code",
   "execution_count": 14,
   "metadata": {},
   "outputs": [
    {
     "name": "stderr",
     "output_type": "stream",
     "text": [
      "/tmp/ipykernel_926/452312434.py:1: SettingWithCopyWarning: \n",
      "A value is trying to be set on a copy of a slice from a DataFrame.\n",
      "Try using .loc[row_indexer,col_indexer] = value instead\n",
      "\n",
      "See the caveats in the documentation: https://pandas.pydata.org/pandas-docs/stable/user_guide/indexing.html#returning-a-view-versus-a-copy\n",
      "  pump1_dynamic_df[\"ypred\"] = pump1_power_model.predict(pump1_dynamic_df[\"pump1_power\"])\n"
     ]
    }
   ],
   "source": [
    "pump1_dynamic_df[\"ypred\"] = pump1_power_model.predict(pump1_dynamic_df[\"pump1_power\"])\n",
    "#pump1_dynamic_df = pump1_dynamic_df.reset_index()"
   ]
  },
  {
   "cell_type": "code",
   "execution_count": 15,
   "metadata": {},
   "outputs": [
    {
     "name": "stderr",
     "output_type": "stream",
     "text": [
      "/home/alqua/anaconda3/envs/mpc_env/lib/python3.11/site-packages/plotly_resampler/figure_resampler/utils.py:177: FutureWarning:\n",
      "\n",
      "'H' is deprecated and will be removed in a future version. Please use 'h' instead of 'H'.\n",
      "\n",
      "/home/alqua/anaconda3/envs/mpc_env/lib/python3.11/site-packages/plotly_resampler/figure_resampler/utils.py:178: FutureWarning:\n",
      "\n",
      "'H' is deprecated and will be removed in a future version, please use 'h' instead.\n",
      "\n"
     ]
    },
    {
     "data": {
      "application/vnd.jupyter.widget-view+json": {
       "model_id": "86cfbf416de443fb960abac9ef7281d2",
       "version_major": 2,
       "version_minor": 0
      },
      "text/plain": [
       "FigureWidgetResampler({\n",
       "    'data': [{'name': '<b style=\"color:sandybrown\">[R]</b> yhat <i style=\"color:#fc9944\">~2h</i>',\n",
       "              'showlegend': True,\n",
       "              'type': 'scattergl',\n",
       "              'uid': '2f2ae42f-7892-432d-98b2-36b166814415',\n",
       "              'x': array([datetime.datetime(2023, 5, 23, 0, 0, tzinfo=<UTC>),\n",
       "                          datetime.datetime(2023, 5, 23, 0, 38, tzinfo=<UTC>),\n",
       "                          datetime.datetime(2023, 5, 23, 1, 11, tzinfo=<UTC>), ...,\n",
       "                          datetime.datetime(2023, 8, 3, 16, 19, tzinfo=<UTC>),\n",
       "                          datetime.datetime(2023, 8, 3, 17, 5, tzinfo=<UTC>),\n",
       "                          datetime.datetime(2023, 8, 3, 17, 59, tzinfo=<UTC>)], dtype=object),\n",
       "              'y': array([155.18782099, 230.07879809, 118.03254511, ..., 396.85553456,\n",
       "                          260.99640963, 257.75104889])},\n",
       "             {'name': '<b style=\"color:sandybrown\">[R]</b> Outflow <i style=\"color:#fc9944\">~2h</i>',\n",
       "              'showlegend': True,\n",
       "              'type': 'scattergl',\n",
       "              'uid': '572c10ca-75fc-42bc-9476-d931b8cb8a57',\n",
       "              'x': array([datetime.datetime(2023, 5, 23, 0, 0, tzinfo=<UTC>),\n",
       "                          datetime.datetime(2023, 5, 23, 0, 21, tzinfo=<UTC>),\n",
       "                          datetime.datetime(2023, 5, 23, 0, 37, tzinfo=<UTC>), ...,\n",
       "                          datetime.datetime(2023, 8, 3, 17, 5, tzinfo=<UTC>),\n",
       "                          datetime.datetime(2023, 8, 3, 17, 16, tzinfo=<UTC>),\n",
       "                          datetime.datetime(2023, 8, 3, 17, 59, tzinfo=<UTC>)], dtype=object),\n",
       "              'y': array([169.5       , 122.13333333, 272.93333333, ..., 305.78333333,\n",
       "                          383.05      , 293.08333333])}],\n",
       "    'layout': {'height': 400, 'margin': {'b': 10, 'l': 10, 'r': 10, 't': 10}, 'template': '...'}\n",
       "})"
      ]
     },
     "metadata": {},
     "output_type": "display_data"
    }
   ],
   "source": [
    "import plotly.graph_objects as go\n",
    "from plotly_resampler import FigureResampler, FigureWidgetResampler\n",
    " \n",
    " \n",
    "fig = FigureWidgetResampler(go.Figure())\n",
    "fig.update_layout(margin=dict(l=10, r=10, t=10, b=10))\n",
    "fig.add_trace(go.Scattergl(name=r'yhat', showlegend=True), hf_x=pump1_dynamic_df.index, hf_y=pump1_dynamic_df['ypred'])\n",
    "fig.add_trace(go.Scattergl(name=r'Outflow', showlegend=True), hf_x=pump1_dynamic_df.index, hf_y=pump1_dynamic_df['outflow'])\n",
    "fig.update_layout(height=400, template=\"plotly_dark\")\n",
    "display(fig)"
   ]
  },
  {
   "cell_type": "code",
   "execution_count": 16,
   "metadata": {},
   "outputs": [
    {
     "name": "stderr",
     "output_type": "stream",
     "text": [
      "/tmp/ipykernel_926/1430061287.py:1: SettingWithCopyWarning:\n",
      "\n",
      "\n",
      "A value is trying to be set on a copy of a slice from a DataFrame.\n",
      "Try using .loc[row_indexer,col_indexer] = value instead\n",
      "\n",
      "See the caveats in the documentation: https://pandas.pydata.org/pandas-docs/stable/user_guide/indexing.html#returning-a-view-versus-a-copy\n",
      "\n"
     ]
    }
   ],
   "source": [
    "pump1_dynamic_df[\"residual\"] = pump1_dynamic_df[\"outflow\"] - pump1_dynamic_df[\"ypred\"]"
   ]
  },
  {
   "cell_type": "code",
   "execution_count": 17,
   "metadata": {},
   "outputs": [
    {
     "data": {
      "image/png": "[encoded data removed]",
      "text/plain": [
       "<Figure size 640x480 with 1 Axes>"
      ]
     },
     "metadata": {},
     "output_type": "display_data"
    }
   ],
   "source": [
    "_ = plt.hist(pump1_dynamic_df[\"residual\"], bins=100)\n",
    "plt.grid()"
   ]
  },
  {
   "cell_type": "code",
   "execution_count": 18,
   "metadata": {},
   "outputs": [
    {
     "data": {
      "text/plain": [
       "-3.3192000201076333"
      ]
     },
     "execution_count": 18,
     "metadata": {},
     "output_type": "execute_result"
    }
   ],
   "source": [
    "np.mean(pump1_dynamic_df[\"residual\"])"
   ]
  },
  {
   "cell_type": "code",
   "execution_count": null,
   "metadata": {},
   "outputs": [],
   "source": []
  }
 ],
 "metadata": {
  "kernelspec": {
   "display_name": "mpc_env",
   "language": "python",
   "name": "python3"
  },
  "language_info": {
   "codemirror_mode": {
    "name": "ipython",
    "version": 3
   },
   "file_extension": ".py",
   "mimetype": "text/x-python",
   "name": "python",
   "nbconvert_exporter": "python",
   "pygments_lexer": "ipython3",
   "version": "3.11.9"
  }
 },
 "nbformat": 4,
 "nbformat_minor": 2
}
