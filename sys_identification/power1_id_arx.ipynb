{
 "cells": [
  {
   "cell_type": "code",
   "execution_count": 10,
   "metadata": {},
   "outputs": [],
   "source": [
    "import pandas as pd\n",
    "from filterpy.kalman import KalmanFilter\n",
    "from filterpy.common import Q_discrete_white_noise\n",
    "import numpy as np\n",
    "import os \n",
    "import matplotlib.pyplot as plt \n",
    "from statsmodels.tsa.api import ExponentialSmoothing, SimpleExpSmoothing, Holt\n",
    "import plotly.graph_objects as go\n",
    "from plotly_resampler import FigureResampler, FigureWidgetResampler"
   ]
  },
  {
   "cell_type": "code",
   "execution_count": 11,
   "metadata": {},
   "outputs": [],
   "source": [
    "data_path = '/Users/alessandroquattrociocchi/Documents/Data/pump_station_data/raw_models/'\n",
    "\n",
    "df = pd.read_parquet(os.path.join(data_path, \"pump1_power_siso.par\"))\n",
    "df = df.set_index(\"time\")\n",
    "df = df.rolling(window=40, center=True).median().dropna()\n",
    "df = df.resample(\"1min\").mean().dropna()"
   ]
  },
  {
   "cell_type": "code",
   "execution_count": 12,
   "metadata": {},
   "outputs": [],
   "source": [
    "df['pump1_speed'] = df['pump1_speed'].apply(lambda x: max(0, x))\n"
   ]
  },
  {
   "cell_type": "code",
   "execution_count": 13,
   "metadata": {},
   "outputs": [],
   "source": [
    "train_df = df[\"2024-01-10 06:00:00\":\"2024-01-10 11:00:00\"]\n",
    "test_df = df[\"2024-01-11\":\"2024-02-16 12:00:00\"]"
   ]
  },
  {
   "cell_type": "code",
   "execution_count": 17,
   "metadata": {},
   "outputs": [],
   "source": [
    "from src.sysidentpy import *"
   ]
  },
  {
   "cell_type": "code",
   "execution_count": 2,
   "metadata": {},
   "outputs": [
    {
     "name": "stdout",
     "output_type": "stream",
     "text": [
      "\u001b[01;34m.\u001b[0m\n",
      "├── \u001b[00m__init__.py\u001b[0m\n",
      "├── \u001b[00moutflow_id_affinity_law.ipynb\u001b[0m\n",
      "├── \u001b[00moutflow_id_pwlf.ipynb\u001b[0m\n",
      "├── \u001b[00moutflow_id_pwlf2.ipynb\u001b[0m\n",
      "├── \u001b[00moutflow_power_id_pwlf.ipynb\u001b[0m\n",
      "├── \u001b[00mpower1_id_arx copy.ipynb\u001b[0m\n",
      "├── \u001b[00mpower1_id_arx.ipynb\u001b[0m\n",
      "├── \u001b[00mpower3_id_arx.ipynb\u001b[0m\n",
      "├── \u001b[00mpower4_id_arx.ipynb\u001b[0m\n",
      "├── \u001b[00mpressure_id_arx.ipynb\u001b[0m\n",
      "└── \u001b[01;34msrc\u001b[0m\n",
      "    ├── \u001b[01;34m__pycache__\u001b[0m\n",
      "    │   └── \u001b[00msystem_identification.cpython-312.pyc\u001b[0m\n",
      "    ├── \u001b[00mdownload_data.py\u001b[0m\n",
      "    ├── \u001b[00mpreprocessing.py\u001b[0m\n",
      "    ├── \u001b[00mstatic_pumps_models.py\u001b[0m\n",
      "    ├── \u001b[01;34msysidentpy\u001b[0m\n",
      "    │   ├── \u001b[00m__init__.py\u001b[0m\n",
      "    │   ├── \u001b[01;34m__pycache__\u001b[0m\n",
      "    │   │   └── \u001b[00m__init__.cpython-312.pyc\u001b[0m\n",
      "    │   ├── \u001b[01;34mbasis_function\u001b[0m\n",
      "    │   │   ├── \u001b[00m__init__.py\u001b[0m\n",
      "    │   │   ├── \u001b[00m_bersntein.py\u001b[0m\n",
      "    │   │   ├── \u001b[00m_bilinear.py\u001b[0m\n",
      "    │   │   ├── \u001b[00m_fourier.py\u001b[0m\n",
      "    │   │   ├── \u001b[00m_hermite.py\u001b[0m\n",
      "    │   │   ├── \u001b[00m_hermite_normalized.py\u001b[0m\n",
      "    │   │   ├── \u001b[00m_laguerre.py\u001b[0m\n",
      "    │   │   ├── \u001b[00m_legendre.py\u001b[0m\n",
      "    │   │   ├── \u001b[00m_polynomial.py\u001b[0m\n",
      "    │   │   ├── \u001b[00mbasis_function_base.py\u001b[0m\n",
      "    │   │   └── \u001b[01;34mtests\u001b[0m\n",
      "    │   │       ├── \u001b[00m__init__.py\u001b[0m\n",
      "    │   │       └── \u001b[00mtest_basis_functions.py\u001b[0m\n",
      "    │   ├── \u001b[01;34mgeneral_estimators\u001b[0m\n",
      "    │   │   ├── \u001b[00m__init__.py\u001b[0m\n",
      "    │   │   ├── \u001b[00mnarx.py\u001b[0m\n",
      "    │   │   └── \u001b[01;34mtests\u001b[0m\n",
      "    │   │       ├── \u001b[00m__init__.py\u001b[0m\n",
      "    │   │       └── \u001b[00mtest_general_narx.py\u001b[0m\n",
      "    │   ├── \u001b[01;34mmetaheuristics\u001b[0m\n",
      "    │   │   ├── \u001b[00m__init__.py\u001b[0m\n",
      "    │   │   ├── \u001b[00mbpsogsa.py\u001b[0m\n",
      "    │   │   └── \u001b[01;34mtests\u001b[0m\n",
      "    │   │       ├── \u001b[00m__init__.py\u001b[0m\n",
      "    │   │       └── \u001b[00mtest_bpsogsa.py\u001b[0m\n",
      "    │   ├── \u001b[01;34mmetrics\u001b[0m\n",
      "    │   │   ├── \u001b[00m__init__.py\u001b[0m\n",
      "    │   │   ├── \u001b[01;34m__pycache__\u001b[0m\n",
      "    │   │   │   ├── \u001b[00m__init__.cpython-312.pyc\u001b[0m\n",
      "    │   │   │   └── \u001b[00m_regression.cpython-312.pyc\u001b[0m\n",
      "    │   │   ├── \u001b[00m_regression.py\u001b[0m\n",
      "    │   │   └── \u001b[01;34mtests\u001b[0m\n",
      "    │   │       ├── \u001b[00m__init__.py\u001b[0m\n",
      "    │   │       └── \u001b[00mtest_regression.py\u001b[0m\n",
      "    │   ├── \u001b[01;34mmodel_structure_selection\u001b[0m\n",
      "    │   │   ├── \u001b[00m__init__.py\u001b[0m\n",
      "    │   │   ├── \u001b[01;34m__pycache__\u001b[0m\n",
      "    │   │   │   ├── \u001b[00m__init__.cpython-312.pyc\u001b[0m\n",
      "    │   │   │   └── \u001b[00mforward_regression_orthogonal_least_squares.cpython-312.pyc\u001b[0m\n",
      "    │   │   ├── \u001b[00maccelerated_orthogonal_least_squares.py\u001b[0m\n",
      "    │   │   ├── \u001b[00mentropic_regression.py\u001b[0m\n",
      "    │   │   ├── \u001b[00mforward_regression_orthogonal_least_squares.py\u001b[0m\n",
      "    │   │   ├── \u001b[00mmeta_model_structure_selection.py\u001b[0m\n",
      "    │   │   └── \u001b[01;34mtests\u001b[0m\n",
      "    │   │       ├── \u001b[00m__init__.py\u001b[0m\n",
      "    │   │       ├── \u001b[00mtest_aols.py\u001b[0m\n",
      "    │   │       ├── \u001b[00mtest_er.py\u001b[0m\n",
      "    │   │       ├── \u001b[00mtest_frols.py\u001b[0m\n",
      "    │   │       └── \u001b[00mtest_metamss.py\u001b[0m\n",
      "    │   ├── \u001b[01;34mmultiobjective_parameter_estimation\u001b[0m\n",
      "    │   │   ├── \u001b[00m__init__.py\u001b[0m\n",
      "    │   │   ├── \u001b[00mestimators.py\u001b[0m\n",
      "    │   │   └── \u001b[01;34mtests\u001b[0m\n",
      "    │   │       ├── \u001b[00m__init__.py\u001b[0m\n",
      "    │   │       └── \u001b[00mtest_mo_estimators.py\u001b[0m\n",
      "    │   ├── \u001b[00mnarmax_base.py\u001b[0m\n",
      "    │   ├── \u001b[01;34mneural_network\u001b[0m\n",
      "    │   │   ├── \u001b[00m__init__.py\u001b[0m\n",
      "    │   │   ├── \u001b[00mnarx_nn.py\u001b[0m\n",
      "    │   │   └── \u001b[01;34mtests\u001b[0m\n",
      "    │   │       ├── \u001b[00m__init__.py\u001b[0m\n",
      "    │   │       └── \u001b[00mtest_narxnn.py\u001b[0m\n",
      "    │   ├── \u001b[01;34mparameter_estimation\u001b[0m\n",
      "    │   │   ├── \u001b[00m__init__.py\u001b[0m\n",
      "    │   │   ├── \u001b[00mestimators.py\u001b[0m\n",
      "    │   │   ├── \u001b[00mestimators_base.py\u001b[0m\n",
      "    │   │   └── \u001b[01;34mtests\u001b[0m\n",
      "    │   │       ├── \u001b[00m__init__.py\u001b[0m\n",
      "    │   │       └── \u001b[00mtest_estimators.py\u001b[0m\n",
      "    │   ├── \u001b[01;34mresidues\u001b[0m\n",
      "    │   │   ├── \u001b[00m__init__.py\u001b[0m\n",
      "    │   │   ├── \u001b[00mresidues_correlation.py\u001b[0m\n",
      "    │   │   └── \u001b[01;34mtests\u001b[0m\n",
      "    │   │       ├── \u001b[00m__init__.py\u001b[0m\n",
      "    │   │       └── \u001b[00mtest_residues.py\u001b[0m\n",
      "    │   ├── \u001b[01;34msimulation\u001b[0m\n",
      "    │   │   ├── \u001b[00m__init__.py\u001b[0m\n",
      "    │   │   ├── \u001b[00m_simulation.py\u001b[0m\n",
      "    │   │   └── \u001b[01;34mtests\u001b[0m\n",
      "    │   │       ├── \u001b[00m__init__.py\u001b[0m\n",
      "    │   │       └── \u001b[00mtest_simulation.py\u001b[0m\n",
      "    │   ├── \u001b[01;34mtests\u001b[0m\n",
      "    │   │   ├── \u001b[00m__init__.py\u001b[0m\n",
      "    │   │   └── \u001b[00mtest_narmax_base.py\u001b[0m\n",
      "    │   └── \u001b[01;34mutils\u001b[0m\n",
      "    │       ├── \u001b[00m__init__.py\u001b[0m\n",
      "    │       ├── \u001b[00m_check_arrays.py\u001b[0m\n",
      "    │       ├── \u001b[00mdeprecation.py\u001b[0m\n",
      "    │       ├── \u001b[00mdisplay_results.py\u001b[0m\n",
      "    │       ├── \u001b[00mgenerate_data.py\u001b[0m\n",
      "    │       ├── \u001b[00mnarmax_tools.py\u001b[0m\n",
      "    │       ├── \u001b[00mplotting.py\u001b[0m\n",
      "    │       ├── \u001b[00msave_load.py\u001b[0m\n",
      "    │       └── \u001b[01;34mtests\u001b[0m\n",
      "    │           ├── \u001b[00m__init__.py\u001b[0m\n",
      "    │           └── \u001b[00mtest_utils.py\u001b[0m\n",
      "    └── \u001b[00msystem_identification.py\u001b[0m\n",
      "\n",
      "30 directories, 89 files\n"
     ]
    }
   ],
   "source": [
    "!tree"
   ]
  },
  {
   "cell_type": "code",
   "execution_count": 3,
   "metadata": {},
   "outputs": [
    {
     "name": "stdout",
     "output_type": "stream",
     "text": [
      "Obtaining file:///Users/alessandroquattrociocchi/Git/mbs_aggregation_paper/sys_identification\n",
      "\u001b[31mERROR: file:///Users/alessandroquattrociocchi/Git/mbs_aggregation_paper/sys_identification does not appear to be a Python project: neither 'setup.py' nor 'pyproject.toml' found.\u001b[0m\u001b[31m\n",
      "\u001b[0m"
     ]
    }
   ],
   "source": [
    "!pip install -e ."
   ]
  },
  {
   "cell_type": "code",
   "execution_count": 1,
   "metadata": {},
   "outputs": [
    {
     "ename": "ModuleNotFoundError",
     "evalue": "No module named 'src.src'",
     "output_type": "error",
     "traceback": [
      "\u001b[0;31m---------------------------------------------------------------------------\u001b[0m",
      "\u001b[0;31mModuleNotFoundError\u001b[0m                       Traceback (most recent call last)",
      "Cell \u001b[0;32mIn[1], line 1\u001b[0m\n\u001b[0;32m----> 1\u001b[0m \u001b[38;5;28;01mfrom\u001b[39;00m \u001b[38;5;21;01msrc\u001b[39;00m\u001b[38;5;21;01m.\u001b[39;00m\u001b[38;5;21;01msystem_identification\u001b[39;00m \u001b[38;5;28;01mimport\u001b[39;00m ARXParametersIdentification\n",
      "File \u001b[0;32m~/Git/mbs_aggregation_paper/sys_identification/src/system_identification.py:5\u001b[0m\n\u001b[1;32m      3\u001b[0m \u001b[38;5;28;01mimport\u001b[39;00m \u001b[38;5;21;01mnumpy\u001b[39;00m \u001b[38;5;28;01mas\u001b[39;00m \u001b[38;5;21;01mnp\u001b[39;00m \n\u001b[1;32m      4\u001b[0m \u001b[38;5;28;01mimport\u001b[39;00m \u001b[38;5;21;01mwarnings\u001b[39;00m\n\u001b[0;32m----> 5\u001b[0m \u001b[38;5;28;01mfrom\u001b[39;00m \u001b[38;5;21;01m.\u001b[39;00m\u001b[38;5;21;01msrc\u001b[39;00m\u001b[38;5;21;01m.\u001b[39;00m\u001b[38;5;21;01msysidentpy\u001b[39;00m\u001b[38;5;21;01m.\u001b[39;00m\u001b[38;5;21;01mmetrics\u001b[39;00m \u001b[38;5;28;01mimport\u001b[39;00m mean_squared_error\n\u001b[1;32m      6\u001b[0m \u001b[38;5;28;01mfrom\u001b[39;00m \u001b[38;5;21;01m.\u001b[39;00m\u001b[38;5;21;01msrc\u001b[39;00m\u001b[38;5;21;01m.\u001b[39;00m\u001b[38;5;21;01msysidentpy\u001b[39;00m\u001b[38;5;21;01m.\u001b[39;00m\u001b[38;5;21;01mmodel_structure_selection\u001b[39;00m \u001b[38;5;28;01mimport\u001b[39;00m FROLS\n\u001b[1;32m      7\u001b[0m \u001b[38;5;28;01mfrom\u001b[39;00m \u001b[38;5;21;01m.\u001b[39;00m\u001b[38;5;21;01msrc\u001b[39;00m\u001b[38;5;21;01m.\u001b[39;00m\u001b[38;5;21;01msysidentpy\u001b[39;00m\u001b[38;5;21;01m.\u001b[39;00m\u001b[38;5;21;01mbasis_function\u001b[39;00m\u001b[38;5;21;01m.\u001b[39;00m\u001b[38;5;21;01m_basis_function\u001b[39;00m \u001b[38;5;28;01mimport\u001b[39;00m Polynomial, Fourier\n",
      "\u001b[0;31mModuleNotFoundError\u001b[0m: No module named 'src.src'"
     ]
    }
   ],
   "source": [
    "from src.system_identification import ARXParametersIdentification"
   ]
  },
  {
   "cell_type": "code",
   "execution_count": 2,
   "metadata": {},
   "outputs": [
    {
     "ename": "ModuleNotFoundError",
     "evalue": "No module named 'src.src'",
     "output_type": "error",
     "traceback": [
      "\u001b[0;31m---------------------------------------------------------------------------\u001b[0m",
      "\u001b[0;31mModuleNotFoundError\u001b[0m                       Traceback (most recent call last)",
      "Cell \u001b[0;32mIn[2], line 1\u001b[0m\n\u001b[0;32m----> 1\u001b[0m \u001b[38;5;28;01mfrom\u001b[39;00m \u001b[38;5;21;01msrc\u001b[39;00m\u001b[38;5;21;01m.\u001b[39;00m\u001b[38;5;21;01msystem_identification\u001b[39;00m \u001b[38;5;28;01mimport\u001b[39;00m ARXParametersIdentification\n\u001b[1;32m      2\u001b[0m \u001b[38;5;28;01mfrom\u001b[39;00m \u001b[38;5;21;01msrc\u001b[39;00m\u001b[38;5;21;01m.\u001b[39;00m\u001b[38;5;21;01mpreprocessing\u001b[39;00m \u001b[38;5;28;01mimport\u001b[39;00m Preprocessor\n\u001b[1;32m      3\u001b[0m \u001b[38;5;28;01mimport\u001b[39;00m \u001b[38;5;21;01mpandas\u001b[39;00m \u001b[38;5;28;01mas\u001b[39;00m \u001b[38;5;21;01mpd\u001b[39;00m\n",
      "File \u001b[0;32m~/Git/mbs_aggregation_paper/sys_identification/src/system_identification.py:5\u001b[0m\n\u001b[1;32m      3\u001b[0m \u001b[38;5;28;01mimport\u001b[39;00m \u001b[38;5;21;01mnumpy\u001b[39;00m \u001b[38;5;28;01mas\u001b[39;00m \u001b[38;5;21;01mnp\u001b[39;00m \n\u001b[1;32m      4\u001b[0m \u001b[38;5;28;01mimport\u001b[39;00m \u001b[38;5;21;01mwarnings\u001b[39;00m\n\u001b[0;32m----> 5\u001b[0m \u001b[38;5;28;01mfrom\u001b[39;00m \u001b[38;5;21;01m.\u001b[39;00m\u001b[38;5;21;01msrc\u001b[39;00m\u001b[38;5;21;01m.\u001b[39;00m\u001b[38;5;21;01msysidentpy\u001b[39;00m\u001b[38;5;21;01m.\u001b[39;00m\u001b[38;5;21;01mmetrics\u001b[39;00m \u001b[38;5;28;01mimport\u001b[39;00m mean_squared_error\n\u001b[1;32m      6\u001b[0m \u001b[38;5;28;01mfrom\u001b[39;00m \u001b[38;5;21;01m.\u001b[39;00m\u001b[38;5;21;01msrc\u001b[39;00m\u001b[38;5;21;01m.\u001b[39;00m\u001b[38;5;21;01msysidentpy\u001b[39;00m\u001b[38;5;21;01m.\u001b[39;00m\u001b[38;5;21;01mmodel_structure_selection\u001b[39;00m \u001b[38;5;28;01mimport\u001b[39;00m FROLS\n\u001b[1;32m      7\u001b[0m \u001b[38;5;28;01mfrom\u001b[39;00m \u001b[38;5;21;01m.\u001b[39;00m\u001b[38;5;21;01msrc\u001b[39;00m\u001b[38;5;21;01m.\u001b[39;00m\u001b[38;5;21;01msysidentpy\u001b[39;00m\u001b[38;5;21;01m.\u001b[39;00m\u001b[38;5;21;01mbasis_function\u001b[39;00m\u001b[38;5;21;01m.\u001b[39;00m\u001b[38;5;21;01m_basis_function\u001b[39;00m \u001b[38;5;28;01mimport\u001b[39;00m Polynomial, Fourier\n",
      "\u001b[0;31mModuleNotFoundError\u001b[0m: No module named 'src.src'"
     ]
    }
   ],
   "source": [
    "from src.system_identification import ARXParametersIdentification\n",
    "from src.preprocessing import Preprocessor\n",
    "import pandas as pd\n",
    "from src.sysidentpy.basis_function._basis_function import Polynomial"
   ]
  },
  {
   "cell_type": "code",
   "execution_count": null,
   "metadata": {},
   "outputs": [],
   "source": [
    "FEATURES = \"pump1_speed\"\n",
    "TARGET = 'pump1_power'\n",
    "\n",
    "sys_id = ARXParametersIdentification(FEATURES, \n",
    "                            TARGET, \n",
    "                            dataframe= train_df, \n",
    "                            model_type= 'siso')"
   ]
  },
  {
   "cell_type": "code",
   "execution_count": null,
   "metadata": {},
   "outputs": [
    {
     "name": "stderr",
     "output_type": "stream",
     "text": [
      "/home/alqua/Git/PumpStationMPC/sys_identification/src/sysidentpy/narmax_base.py:1034: RuntimeWarning: divide by zero encountered in divide\n",
      "  x = x[1:] / aux_b\n",
      "/home/alqua/Git/PumpStationMPC/sys_identification/src/sysidentpy/narmax_base.py:1034: RuntimeWarning: invalid value encountered in divide\n",
      "  x = x[1:] / aux_b\n"
     ]
    },
    {
     "data": {
      "text/html": [
       "<div>\n",
       "<style scoped>\n",
       "    .dataframe tbody tr th:only-of-type {\n",
       "        vertical-align: middle;\n",
       "    }\n",
       "\n",
       "    .dataframe tbody tr th {\n",
       "        vertical-align: top;\n",
       "    }\n",
       "\n",
       "    .dataframe thead th {\n",
       "        text-align: right;\n",
       "    }\n",
       "</style>\n",
       "<table border=\"1\" class=\"dataframe\">\n",
       "  <thead>\n",
       "    <tr style=\"text-align: right;\">\n",
       "      <th></th>\n",
       "      <th>Regressors</th>\n",
       "      <th>Parameters</th>\n",
       "      <th>ERR</th>\n",
       "    </tr>\n",
       "  </thead>\n",
       "  <tbody>\n",
       "    <tr>\n",
       "      <th>0</th>\n",
       "      <td>x1(k-1)</td>\n",
       "      <td>4.6290E-02</td>\n",
       "      <td>9.7826E-01</td>\n",
       "    </tr>\n",
       "    <tr>\n",
       "      <th>1</th>\n",
       "      <td>y(k-1)</td>\n",
       "      <td>2.5085E-03</td>\n",
       "      <td>NAN</td>\n",
       "    </tr>\n",
       "    <tr>\n",
       "      <th>2</th>\n",
       "      <td>y(k-2)</td>\n",
       "      <td>1.6864E-03</td>\n",
       "      <td>NAN</td>\n",
       "    </tr>\n",
       "  </tbody>\n",
       "</table>\n",
       "</div>"
      ],
      "text/plain": [
       "  Regressors  Parameters         ERR\n",
       "0    x1(k-1)  4.6290E-02  9.7826E-01\n",
       "1     y(k-1)  2.5085E-03         NAN\n",
       "2     y(k-2)  1.6864E-03         NAN"
      ]
     },
     "execution_count": 7,
     "metadata": {},
     "output_type": "execute_result"
    }
   ],
   "source": [
    "parameters = {\n",
    "    'estimator': 'ridge_regression',\n",
    "    'ridge_param': 2e6,\n",
    "    'order_selection': False,\n",
    "    'n_terms': 3,\n",
    "    'extended_least_squares': False,\n",
    "    'ylag': 2,  \n",
    "    'xlag': 1, \n",
    "    'basis_function': Polynomial(degree=1)\n",
    "}\n",
    "    \n",
    "fitted_model, model_parameters = sys_id.identify_arx_parameters(x_train=train_df[FEATURES], \n",
    "                                                                y_train= train_df[TARGET],\n",
    "                                                                **parameters)\n",
    "    \n",
    "model_parameters"
   ]
  },
  {
   "cell_type": "code",
   "execution_count": null,
   "metadata": {},
   "outputs": [
    {
     "name": "stdout",
     "output_type": "stream",
     "text": [
      "RRSE: 0.1636116971378765\n",
      "MSE: 17.744120902478016\n",
      "  Regressors  Parameters         ERR\n",
      "0    x1(k-1)  4.6290E-02  9.7826E-01\n",
      "1     y(k-1)  2.5085E-03         NAN\n",
      "2     y(k-2)  1.6864E-03         NAN\n"
     ]
    }
   ],
   "source": [
    "yhat  = sys_id.predict(x_test= test_df[FEATURES], y_test= test_df[TARGET], n_steps_ahead= 200)\n",
    "\n",
    "val_plots = sys_id.residuals_analysis(yhat, test_df[TARGET].values)\n",
    "val_plots\n",
    "print(model_parameters)"
   ]
  },
  {
   "cell_type": "code",
   "execution_count": null,
   "metadata": {},
   "outputs": [
    {
     "data": {
      "application/vnd.jupyter.widget-view+json": {
       "model_id": "bb46d0e257a64eb0b482a8d817f59b9d",
       "version_major": 2,
       "version_minor": 0
      },
      "text/plain": [
       "FigureWidgetResampler({\n",
       "    'data': [{'name': '<b style=\"color:sandybrown\">[R]</b> yhat <i style=\"color:#fc9944\">~53m</i>',\n",
       "              'showlegend': True,\n",
       "              'type': 'scattergl',\n",
       "              'uid': '58140459-9293-401f-8adf-da1dfee5648c',\n",
       "              'x': array([datetime.datetime(2024, 1, 11, 0, 0, tzinfo=<UTC>),\n",
       "                          datetime.datetime(2024, 1, 11, 0, 11, tzinfo=<UTC>),\n",
       "                          datetime.datetime(2024, 1, 11, 1, 20, tzinfo=<UTC>), ...,\n",
       "                          datetime.datetime(2024, 2, 16, 9, 43, tzinfo=<UTC>),\n",
       "                          datetime.datetime(2024, 2, 16, 11, 18, tzinfo=<UTC>),\n",
       "                          datetime.datetime(2024, 2, 16, 11, 26, tzinfo=<UTC>)], dtype=object),\n",
       "              'y': array([49.84250018, 47.41934649, 50.19975448, ..., 46.71772651, 48.21408577,\n",
       "                          47.415006  ])},\n",
       "             {'name': ('<b style=\"color:sandybrown\">[R' ... 'style=\"color:#fc9944\">~53m</i>'),\n",
       "              'showlegend': True,\n",
       "              'type': 'scattergl',\n",
       "              'uid': '9ec1bf49-8df4-4e18-8f8b-0a4414f1dac7',\n",
       "              'x': array([datetime.datetime(2024, 1, 11, 0, 0, tzinfo=<UTC>),\n",
       "                          datetime.datetime(2024, 1, 11, 0, 28, tzinfo=<UTC>),\n",
       "                          datetime.datetime(2024, 1, 11, 1, 20, tzinfo=<UTC>), ...,\n",
       "                          datetime.datetime(2024, 2, 16, 9, 40, tzinfo=<UTC>),\n",
       "                          datetime.datetime(2024, 2, 16, 10, 33, tzinfo=<UTC>),\n",
       "                          datetime.datetime(2024, 2, 16, 11, 26, tzinfo=<UTC>)], dtype=object),\n",
       "              'y': array([49.84250018, 45.12500051, 48.16250025, ..., 45.30466728, 45.96866678,\n",
       "                          47.78458361])}],\n",
       "    'layout': {'height': 400, 'margin': {'b': 10, 'l': 10, 'r': 10, 't': 10}, 'template': '...'}\n",
       "})"
      ]
     },
     "execution_count": 9,
     "metadata": {},
     "output_type": "execute_result"
    }
   ],
   "source": [
    "test_df[\"yhat\"] = yhat\n",
    "\n",
    "sys_id.plot_features_and_target(test_df, ['yhat', 'pump1_power'])"
   ]
  },
  {
   "cell_type": "code",
   "execution_count": null,
   "metadata": {},
   "outputs": [
    {
     "name": "stdout",
     "output_type": "stream",
     "text": [
      "RRSE: 0.1636116971378765\n",
      "MSE: 17.744120902478016\n"
     ]
    }
   ],
   "source": [
    "yhat  = sys_id.predict(x_test= test_df[FEATURES], y_test= test_df[TARGET], n_steps_ahead= 200)\n"
   ]
  },
  {
   "cell_type": "code",
   "execution_count": null,
   "metadata": {},
   "outputs": [],
   "source": [
    "r = pd.read_parquet(\"/home/alqua/Git/Teaching/Industrial-IoT-For-Digitization-Of-Electronic-Assets-Course/Module 4/code/mpc/eval_result_df.par\")"
   ]
  },
  {
   "cell_type": "code",
   "execution_count": null,
   "metadata": {},
   "outputs": [
    {
     "name": "stdout",
     "output_type": "stream",
     "text": [
      "RRSE: nan\n",
      "MSE: nan\n"
     ]
    }
   ],
   "source": [
    "p1_hat = sys_id.predict(x_test= r[\"pump1_rpm\"], y_test= r[TARGET], n_steps_ahead= 200)\n"
   ]
  },
  {
   "cell_type": "code",
   "execution_count": null,
   "metadata": {},
   "outputs": [
    {
     "data": {
      "text/plain": [
       "'pump1_power'"
      ]
     },
     "execution_count": 25,
     "metadata": {},
     "output_type": "execute_result"
    }
   ],
   "source": [
    "TARGET"
   ]
  },
  {
   "cell_type": "code",
   "execution_count": null,
   "metadata": {},
   "outputs": [],
   "source": [
    "r[\"pump1_power_hat\"] = p1_hat"
   ]
  },
  {
   "cell_type": "code",
   "execution_count": null,
   "metadata": {},
   "outputs": [],
   "source": [
    "r.to_parquet(\"results_temp_p1.par\")"
   ]
  },
  {
   "cell_type": "code",
   "execution_count": null,
   "metadata": {},
   "outputs": [],
   "source": []
  }
 ],
 "metadata": {
  "kernelspec": {
   "display_name": "mpc_env",
   "language": "python",
   "name": "python3"
  },
  "language_info": {
   "codemirror_mode": {
    "name": "ipython",
    "version": 3
   },
   "file_extension": ".py",
   "mimetype": "text/x-python",
   "name": "python",
   "nbconvert_exporter": "python",
   "pygments_lexer": "ipython3",
   "version": "3.12.2"
  }
 },
 "nbformat": 4,
 "nbformat_minor": 2
}
