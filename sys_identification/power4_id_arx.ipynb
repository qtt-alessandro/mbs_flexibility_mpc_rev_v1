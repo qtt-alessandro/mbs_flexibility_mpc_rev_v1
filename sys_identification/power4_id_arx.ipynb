{
 "cells": [
  {
   "cell_type": "code",
   "execution_count": 1,
   "metadata": {},
   "outputs": [],
   "source": [
    "import pandas as pd\n",
    "from filterpy.kalman import KalmanFilter\n",
    "from filterpy.common import Q_discrete_white_noise\n",
    "import numpy as np\n",
    "import matplotlib.pyplot as plt \n",
    "import plotly.graph_objects as go\n",
    "from plotly_resampler import FigureResampler, FigureWidgetResampler"
   ]
  },
  {
   "cell_type": "code",
   "execution_count": 2,
   "metadata": {},
   "outputs": [],
   "source": [
    "df = pd.read_parquet(\"../data/static_models/pump4_power_siso.par\")\n",
    "df = df.set_index(\"time\")\n",
    "df = df.rolling(window=40, center=True).median().dropna()\n",
    "df = df.resample(\"1min\").mean().dropna()"
   ]
  },
  {
   "cell_type": "code",
   "execution_count": 3,
   "metadata": {},
   "outputs": [],
   "source": [
    "df['pump4_speed'] = df['pump4_speed'].apply(lambda x: max(0, x))\n"
   ]
  },
  {
   "cell_type": "code",
   "execution_count": 4,
   "metadata": {},
   "outputs": [],
   "source": [
    "train_df = df[\"2024-01-09 13:00:00\":\"2024-01-09 17:00:00\"]\n",
    "test_df = df[\"2024-01-10\":\"2024-02-16 12:00:00\"]"
   ]
  },
  {
   "cell_type": "code",
   "execution_count": 5,
   "metadata": {},
   "outputs": [],
   "source": [
    "from src.system_identification import ARXParametersIdentification\n",
    "from src.preprocessing import Preprocessor\n",
    "import pandas as pd\n",
    "from sysidentpy.basis_function._basis_function import Polynomial"
   ]
  },
  {
   "cell_type": "code",
   "execution_count": 6,
   "metadata": {},
   "outputs": [],
   "source": [
    "FEATURES = \"pump4_speed\"\n",
    "TARGET = 'pump4_power'\n",
    "\n",
    "sys_id = ARXParametersIdentification(FEATURES, \n",
    "                            TARGET, \n",
    "                            dataframe= train_df, \n",
    "                            model_type= 'siso')"
   ]
  },
  {
   "cell_type": "code",
   "execution_count": 7,
   "metadata": {},
   "outputs": [
    {
     "name": "stderr",
     "output_type": "stream",
     "text": [
      "/home/alqua/Git/PumpStationMPC/sys_identification/src/sysidentpy/narmax_base.py:1034: RuntimeWarning: divide by zero encountered in divide\n",
      "  x = x[1:] / aux_b\n",
      "/home/alqua/Git/PumpStationMPC/sys_identification/src/sysidentpy/narmax_base.py:1034: RuntimeWarning: invalid value encountered in divide\n",
      "  x = x[1:] / aux_b\n"
     ]
    },
    {
     "data": {
      "text/html": [
       "<div>\n",
       "<style scoped>\n",
       "    .dataframe tbody tr th:only-of-type {\n",
       "        vertical-align: middle;\n",
       "    }\n",
       "\n",
       "    .dataframe tbody tr th {\n",
       "        vertical-align: top;\n",
       "    }\n",
       "\n",
       "    .dataframe thead th {\n",
       "        text-align: right;\n",
       "    }\n",
       "</style>\n",
       "<table border=\"1\" class=\"dataframe\">\n",
       "  <thead>\n",
       "    <tr style=\"text-align: right;\">\n",
       "      <th></th>\n",
       "      <th>Regressors</th>\n",
       "      <th>Parameters</th>\n",
       "      <th>ERR</th>\n",
       "    </tr>\n",
       "  </thead>\n",
       "  <tbody>\n",
       "    <tr>\n",
       "      <th>0</th>\n",
       "      <td>x1(k-1)</td>\n",
       "      <td>4.6049E-02</td>\n",
       "      <td>9.9085E-01</td>\n",
       "    </tr>\n",
       "    <tr>\n",
       "      <th>1</th>\n",
       "      <td>y(k-1)</td>\n",
       "      <td>3.7969E-02</td>\n",
       "      <td>NAN</td>\n",
       "    </tr>\n",
       "    <tr>\n",
       "      <th>2</th>\n",
       "      <td>y(k-2)</td>\n",
       "      <td>-1.1342E-02</td>\n",
       "      <td>NAN</td>\n",
       "    </tr>\n",
       "    <tr>\n",
       "      <th>3</th>\n",
       "      <td>1</td>\n",
       "      <td>1.6483E-03</td>\n",
       "      <td>NAN</td>\n",
       "    </tr>\n",
       "  </tbody>\n",
       "</table>\n",
       "</div>"
      ],
      "text/plain": [
       "  Regressors   Parameters         ERR\n",
       "0    x1(k-1)   4.6049E-02  9.9085E-01\n",
       "1     y(k-1)   3.7969E-02         NAN\n",
       "2     y(k-2)  -1.1342E-02         NAN\n",
       "3          1   1.6483E-03         NAN"
      ]
     },
     "execution_count": 7,
     "metadata": {},
     "output_type": "execute_result"
    }
   ],
   "source": [
    "parameters = {\n",
    "    'estimator': 'ridge_regression',\n",
    "    'ridge_param': 2e4,\n",
    "    'order_selection': False,\n",
    "    'n_terms': 4,\n",
    "    'extended_least_squares': False,\n",
    "    'ylag': 2,  \n",
    "    'xlag': 1, \n",
    "    'basis_function': Polynomial(degree=1)\n",
    "}\n",
    "    \n",
    "fitted_model, model_parameters = sys_id.identify_arx_parameters(x_train=train_df[FEATURES], \n",
    "                                                                y_train= train_df[TARGET],\n",
    "                                                                **parameters)\n",
    "    \n",
    "model_parameters"
   ]
  },
  {
   "cell_type": "code",
   "execution_count": 8,
   "metadata": {},
   "outputs": [
    {
     "name": "stdout",
     "output_type": "stream",
     "text": [
      "RRSE: 0.17318099946120735\n",
      "MSE: 16.91446174056045\n"
     ]
    }
   ],
   "source": [
    "yhat  = sys_id.predict(x_test= test_df[FEATURES], y_test= test_df[TARGET], n_steps_ahead= 200)\n",
    "\n",
    "#val_plots = sys_id.residuals_analysis(yhat, df[TARGET].values)\n",
    "#print(model_parameters)"
   ]
  },
  {
   "cell_type": "code",
   "execution_count": 9,
   "metadata": {},
   "outputs": [
    {
     "data": {
      "application/vnd.jupyter.widget-view+json": {
       "model_id": "b86f5b0140f644a6af211720329f47d9",
       "version_major": 2,
       "version_minor": 0
      },
      "text/plain": [
       "FigureWidgetResampler({\n",
       "    'data': [{'name': '<b style=\"color:sandybrown\">[R]</b> yhat <i style=\"color:#fc9944\">~54m</i>',\n",
       "              'showlegend': True,\n",
       "              'type': 'scattergl',\n",
       "              'uid': '76b53c8e-75bf-4db9-9338-430096df483d',\n",
       "              'x': array([datetime.datetime(2024, 1, 10, 0, 0, tzinfo=<UTC>),\n",
       "                          datetime.datetime(2024, 1, 10, 0, 28, tzinfo=<UTC>),\n",
       "                          datetime.datetime(2024, 1, 10, 0, 30, tzinfo=<UTC>), ...,\n",
       "                          datetime.datetime(2024, 2, 16, 9, 38, tzinfo=<UTC>),\n",
       "                          datetime.datetime(2024, 2, 16, 10, 32, tzinfo=<UTC>),\n",
       "                          datetime.datetime(2024, 2, 16, 11, 26, tzinfo=<UTC>)], dtype=object),\n",
       "              'y': array([ 4.58600005e+01, -3.53767246e-01,  4.06562761e-03, ...,  1.68101504e-03,\n",
       "                           1.69336219e-03,  1.69336219e-03])},\n",
       "             {'name': ('<b style=\"color:sandybrown\">[R' ... 'style=\"color:#fc9944\">~54m</i>'),\n",
       "              'showlegend': True,\n",
       "              'type': 'scattergl',\n",
       "              'uid': '8d1b138c-bbff-4c6c-8e1d-a46ca06865e3',\n",
       "              'x': array([datetime.datetime(2024, 1, 10, 0, 0, tzinfo=<UTC>),\n",
       "                          datetime.datetime(2024, 1, 10, 0, 34, tzinfo=<UTC>),\n",
       "                          datetime.datetime(2024, 1, 10, 0, 52, tzinfo=<UTC>), ...,\n",
       "                          datetime.datetime(2024, 2, 16, 9, 38, tzinfo=<UTC>),\n",
       "                          datetime.datetime(2024, 2, 16, 10, 32, tzinfo=<UTC>),\n",
       "                          datetime.datetime(2024, 2, 16, 11, 26, tzinfo=<UTC>)], dtype=object),\n",
       "              'y': array([45.86000045,  0.        ,  0.        , ...,  0.        ,  0.        ,\n",
       "                           0.        ])}],\n",
       "    'layout': {'height': 400, 'margin': {'b': 10, 'l': 10, 'r': 10, 't': 10}, 'template': '...'}\n",
       "})"
      ]
     },
     "execution_count": 9,
     "metadata": {},
     "output_type": "execute_result"
    }
   ],
   "source": [
    "test_df[\"yhat\"] = yhat\n",
    "\n",
    "sys_id.plot_features_and_target(test_df, ['yhat', 'pump4_power'])"
   ]
  },
  {
   "cell_type": "code",
   "execution_count": 10,
   "metadata": {},
   "outputs": [],
   "source": [
    "lower_mpc_data = pd.read_parquet(\"../data/sym_data/sim_data_1s_with_eff_power2.parquet\")\n"
   ]
  },
  {
   "cell_type": "code",
   "execution_count": 11,
   "metadata": {},
   "outputs": [
    {
     "name": "stdout",
     "output_type": "stream",
     "text": [
      "RRSE: nan\n",
      "MSE: nan\n"
     ]
    }
   ],
   "source": [
    "lower_mpc_data_p4_power = sys_id.predict(lower_mpc_data[FEATURES], lower_mpc_data[TARGET], n_steps_ahead= 1)"
   ]
  },
  {
   "cell_type": "code",
   "execution_count": 12,
   "metadata": {},
   "outputs": [],
   "source": [
    "lower_mpc_data[\"pump4_power_eff\"] = lower_mpc_data_p4_power"
   ]
  },
  {
   "cell_type": "code",
   "execution_count": 13,
   "metadata": {},
   "outputs": [],
   "source": [
    "#lower_mpc_data.to_parquet((\"../data/sym_data/sim_data_1s_with_eff_power.parquet\"))"
   ]
  },
  {
   "cell_type": "code",
   "execution_count": 14,
   "metadata": {},
   "outputs": [],
   "source": [
    "r = pd.read_parquet(\"/home/alqua/Git/PumpStationMPC/sys_identification/results_temp_p1.par\")"
   ]
  },
  {
   "cell_type": "code",
   "execution_count": 17,
   "metadata": {},
   "outputs": [
    {
     "data": {
      "text/html": [
       "<div>\n",
       "<style scoped>\n",
       "    .dataframe tbody tr th:only-of-type {\n",
       "        vertical-align: middle;\n",
       "    }\n",
       "\n",
       "    .dataframe tbody tr th {\n",
       "        vertical-align: top;\n",
       "    }\n",
       "\n",
       "    .dataframe thead th {\n",
       "        text-align: right;\n",
       "    }\n",
       "</style>\n",
       "<table border=\"1\" class=\"dataframe\">\n",
       "  <thead>\n",
       "    <tr style=\"text-align: right;\">\n",
       "      <th></th>\n",
       "      <th>pump1_rpm</th>\n",
       "      <th>pump4_rpm</th>\n",
       "      <th>pump1_power</th>\n",
       "      <th>pump4_power</th>\n",
       "      <th>outflow</th>\n",
       "      <th>pump1_power_hat</th>\n",
       "    </tr>\n",
       "    <tr>\n",
       "      <th>time</th>\n",
       "      <th></th>\n",
       "      <th></th>\n",
       "      <th></th>\n",
       "      <th></th>\n",
       "      <th></th>\n",
       "      <th></th>\n",
       "    </tr>\n",
       "  </thead>\n",
       "  <tbody>\n",
       "    <tr>\n",
       "      <th>2022-11-29 11:00:00+00:00</th>\n",
       "      <td>0.000000</td>\n",
       "      <td>863.036058</td>\n",
       "      <td>0.000000</td>\n",
       "      <td>34.554111</td>\n",
       "      <td>270.834135</td>\n",
       "      <td>0.000000</td>\n",
       "    </tr>\n",
       "    <tr>\n",
       "      <th>2022-11-29 12:00:00+00:00</th>\n",
       "      <td>0.000000</td>\n",
       "      <td>858.861426</td>\n",
       "      <td>0.000000</td>\n",
       "      <td>34.251811</td>\n",
       "      <td>265.665316</td>\n",
       "      <td>0.000000</td>\n",
       "    </tr>\n",
       "    <tr>\n",
       "      <th>2022-11-29 13:00:00+00:00</th>\n",
       "      <td>804.826121</td>\n",
       "      <td>203.407701</td>\n",
       "      <td>30.865947</td>\n",
       "      <td>8.344101</td>\n",
       "      <td>276.260818</td>\n",
       "      <td>0.000000</td>\n",
       "    </tr>\n",
       "    <tr>\n",
       "      <th>2022-11-29 14:00:00+00:00</th>\n",
       "      <td>1040.080754</td>\n",
       "      <td>0.000000</td>\n",
       "      <td>38.845155</td>\n",
       "      <td>0.000000</td>\n",
       "      <td>262.544646</td>\n",
       "      <td>37.255642</td>\n",
       "    </tr>\n",
       "    <tr>\n",
       "      <th>2022-11-29 15:00:00+00:00</th>\n",
       "      <td>793.004365</td>\n",
       "      <td>185.068502</td>\n",
       "      <td>28.515796</td>\n",
       "      <td>7.675296</td>\n",
       "      <td>246.440228</td>\n",
       "      <td>48.239104</td>\n",
       "    </tr>\n",
       "    <tr>\n",
       "      <th>...</th>\n",
       "      <td>...</td>\n",
       "      <td>...</td>\n",
       "      <td>...</td>\n",
       "      <td>...</td>\n",
       "      <td>...</td>\n",
       "      <td>...</td>\n",
       "    </tr>\n",
       "    <tr>\n",
       "      <th>2023-03-09 12:00:00+00:00</th>\n",
       "      <td>1086.508333</td>\n",
       "      <td>0.000000</td>\n",
       "      <td>43.532661</td>\n",
       "      <td>0.000000</td>\n",
       "      <td>349.255278</td>\n",
       "      <td>7.857715</td>\n",
       "    </tr>\n",
       "    <tr>\n",
       "      <th>2023-03-09 13:00:00+00:00</th>\n",
       "      <td>1089.282500</td>\n",
       "      <td>0.000000</td>\n",
       "      <td>43.639767</td>\n",
       "      <td>0.000000</td>\n",
       "      <td>349.847222</td>\n",
       "      <td>50.416191</td>\n",
       "    </tr>\n",
       "    <tr>\n",
       "      <th>2023-03-09 14:00:00+00:00</th>\n",
       "      <td>372.660556</td>\n",
       "      <td>607.251667</td>\n",
       "      <td>14.865019</td>\n",
       "      <td>26.212881</td>\n",
       "      <td>358.872778</td>\n",
       "      <td>50.623095</td>\n",
       "    </tr>\n",
       "    <tr>\n",
       "      <th>2023-03-09 15:00:00+00:00</th>\n",
       "      <td>0.000000</td>\n",
       "      <td>920.218333</td>\n",
       "      <td>0.000000</td>\n",
       "      <td>38.537181</td>\n",
       "      <td>343.064722</td>\n",
       "      <td>17.462578</td>\n",
       "    </tr>\n",
       "    <tr>\n",
       "      <th>2023-03-09 16:00:00+00:00</th>\n",
       "      <td>0.000000</td>\n",
       "      <td>909.427850</td>\n",
       "      <td>0.000000</td>\n",
       "      <td>37.580185</td>\n",
       "      <td>328.613139</td>\n",
       "      <td>0.129176</td>\n",
       "    </tr>\n",
       "  </tbody>\n",
       "</table>\n",
       "<p>2406 rows × 6 columns</p>\n",
       "</div>"
      ],
      "text/plain": [
       "                             pump1_rpm   pump4_rpm  pump1_power  pump4_power  \\\n",
       "time                                                                           \n",
       "2022-11-29 11:00:00+00:00     0.000000  863.036058     0.000000    34.554111   \n",
       "2022-11-29 12:00:00+00:00     0.000000  858.861426     0.000000    34.251811   \n",
       "2022-11-29 13:00:00+00:00   804.826121  203.407701    30.865947     8.344101   \n",
       "2022-11-29 14:00:00+00:00  1040.080754    0.000000    38.845155     0.000000   \n",
       "2022-11-29 15:00:00+00:00   793.004365  185.068502    28.515796     7.675296   \n",
       "...                                ...         ...          ...          ...   \n",
       "2023-03-09 12:00:00+00:00  1086.508333    0.000000    43.532661     0.000000   \n",
       "2023-03-09 13:00:00+00:00  1089.282500    0.000000    43.639767     0.000000   \n",
       "2023-03-09 14:00:00+00:00   372.660556  607.251667    14.865019    26.212881   \n",
       "2023-03-09 15:00:00+00:00     0.000000  920.218333     0.000000    38.537181   \n",
       "2023-03-09 16:00:00+00:00     0.000000  909.427850     0.000000    37.580185   \n",
       "\n",
       "                              outflow  pump1_power_hat  \n",
       "time                                                    \n",
       "2022-11-29 11:00:00+00:00  270.834135         0.000000  \n",
       "2022-11-29 12:00:00+00:00  265.665316         0.000000  \n",
       "2022-11-29 13:00:00+00:00  276.260818         0.000000  \n",
       "2022-11-29 14:00:00+00:00  262.544646        37.255642  \n",
       "2022-11-29 15:00:00+00:00  246.440228        48.239104  \n",
       "...                               ...              ...  \n",
       "2023-03-09 12:00:00+00:00  349.255278         7.857715  \n",
       "2023-03-09 13:00:00+00:00  349.847222        50.416191  \n",
       "2023-03-09 14:00:00+00:00  358.872778        50.623095  \n",
       "2023-03-09 15:00:00+00:00  343.064722        17.462578  \n",
       "2023-03-09 16:00:00+00:00  328.613139         0.129176  \n",
       "\n",
       "[2406 rows x 6 columns]"
      ]
     },
     "execution_count": 17,
     "metadata": {},
     "output_type": "execute_result"
    }
   ],
   "source": [
    "r"
   ]
  },
  {
   "cell_type": "code",
   "execution_count": 16,
   "metadata": {},
   "outputs": [
    {
     "data": {
      "text/plain": [
       "'pump4_speed'"
      ]
     },
     "execution_count": 16,
     "metadata": {},
     "output_type": "execute_result"
    }
   ],
   "source": [
    "FEATURES"
   ]
  },
  {
   "cell_type": "code",
   "execution_count": 20,
   "metadata": {},
   "outputs": [
    {
     "name": "stdout",
     "output_type": "stream",
     "text": [
      "RRSE: nan\n",
      "MSE: nan\n"
     ]
    }
   ],
   "source": [
    "p4_hat = sys_id.predict(r[\"pump4_rpm\"], r[TARGET], n_steps_ahead= 1)"
   ]
  },
  {
   "cell_type": "code",
   "execution_count": 24,
   "metadata": {},
   "outputs": [],
   "source": [
    "r[\"pump4_power_hat\"] = p4_hat"
   ]
  },
  {
   "cell_type": "code",
   "execution_count": 25,
   "metadata": {},
   "outputs": [],
   "source": [
    "r.to_parquet(\"evaluation_results.par\")"
   ]
  },
  {
   "cell_type": "code",
   "execution_count": null,
   "metadata": {},
   "outputs": [],
   "source": []
  }
 ],
 "metadata": {
  "kernelspec": {
   "display_name": "mpc_env",
   "language": "python",
   "name": "python3"
  },
  "language_info": {
   "codemirror_mode": {
    "name": "ipython",
    "version": 3
   },
   "file_extension": ".py",
   "mimetype": "text/x-python",
   "name": "python",
   "nbconvert_exporter": "python",
   "pygments_lexer": "ipython3",
   "version": "3.11.9"
  }
 },
 "nbformat": 4,
 "nbformat_minor": 2
}
