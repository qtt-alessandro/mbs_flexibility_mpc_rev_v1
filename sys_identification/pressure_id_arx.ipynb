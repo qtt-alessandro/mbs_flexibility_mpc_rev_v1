{
 "cells": [
  {
   "cell_type": "code",
   "execution_count": 1,
   "metadata": {},
   "outputs": [],
   "source": [
    "import pandas as pd\n",
    "from filterpy.kalman import KalmanFilter\n",
    "from filterpy.common import Q_discrete_white_noise\n",
    "import numpy as np\n",
    "import matplotlib.pyplot as plt \n",
    "import plotly.graph_objects as go\n",
    "from plotly_resampler import FigureResampler, FigureWidgetResampler"
   ]
  },
  {
   "cell_type": "code",
   "execution_count": 2,
   "metadata": {},
   "outputs": [],
   "source": [
    "df = pd.read_parquet(\"../data/static_models/pressure_miso.par\")\n",
    "df = df.set_index(\"time\")\n",
    "df = df.rolling(window=60, center=True).mean().dropna()\n",
    "df = df.resample(\"1min\").mean().dropna()"
   ]
  },
  {
   "cell_type": "code",
   "execution_count": 3,
   "metadata": {},
   "outputs": [],
   "source": [
    "train_df = df[\"2024-01-09 17:00:00\":\"2024-01-10 00:30:00\"]\n",
    "test_df = df[\"2024-01-11\":\"2024-02-16 12:00:00\"]"
   ]
  },
  {
   "cell_type": "code",
   "execution_count": 4,
   "metadata": {},
   "outputs": [],
   "source": [
    "from src.system_identification import ARXParametersIdentification\n",
    "from src.preprocessing import Preprocessor\n",
    "import pandas as pd\n",
    "from sysidentpy.basis_function._basis_function import Polynomial"
   ]
  },
  {
   "cell_type": "code",
   "execution_count": 5,
   "metadata": {},
   "outputs": [],
   "source": [
    "FEATURES = \"outflow\"\n",
    "TARGET = 'pressure'\n",
    "\n",
    "sys_id = ARXParametersIdentification(FEATURES, \n",
    "                            TARGET, \n",
    "                            dataframe= train_df, \n",
    "                            model_type= 'siso')"
   ]
  },
  {
   "cell_type": "code",
   "execution_count": 6,
   "metadata": {},
   "outputs": [
    {
     "data": {
      "text/html": [
       "<div>\n",
       "<style scoped>\n",
       "    .dataframe tbody tr th:only-of-type {\n",
       "        vertical-align: middle;\n",
       "    }\n",
       "\n",
       "    .dataframe tbody tr th {\n",
       "        vertical-align: top;\n",
       "    }\n",
       "\n",
       "    .dataframe thead th {\n",
       "        text-align: right;\n",
       "    }\n",
       "</style>\n",
       "<table border=\"1\" class=\"dataframe\">\n",
       "  <thead>\n",
       "    <tr style=\"text-align: right;\">\n",
       "      <th></th>\n",
       "      <th>Regressors</th>\n",
       "      <th>Parameters</th>\n",
       "      <th>ERR</th>\n",
       "    </tr>\n",
       "  </thead>\n",
       "  <tbody>\n",
       "    <tr>\n",
       "      <th>0</th>\n",
       "      <td>1</td>\n",
       "      <td>3.9617E-01</td>\n",
       "      <td>9.9852E-01</td>\n",
       "    </tr>\n",
       "    <tr>\n",
       "      <th>1</th>\n",
       "      <td>x1(k-1)</td>\n",
       "      <td>1.9830E-04</td>\n",
       "      <td>8.2200E-05</td>\n",
       "    </tr>\n",
       "    <tr>\n",
       "      <th>2</th>\n",
       "      <td>y(k-2)</td>\n",
       "      <td>1.6274E-01</td>\n",
       "      <td>2.6041E-06</td>\n",
       "    </tr>\n",
       "  </tbody>\n",
       "</table>\n",
       "</div>"
      ],
      "text/plain": [
       "  Regressors  Parameters         ERR\n",
       "0          1  3.9617E-01  9.9852E-01\n",
       "1    x1(k-1)  1.9830E-04  8.2200E-05\n",
       "2     y(k-2)  1.6274E-01  2.6041E-06"
      ]
     },
     "execution_count": 6,
     "metadata": {},
     "output_type": "execute_result"
    }
   ],
   "source": [
    "parameters = {\n",
    "    'estimator': 'ridge_regression',\n",
    "    'ridge_param': 0.5,\n",
    "    'order_selection': False,\n",
    "    'n_terms': 3,\n",
    "    'extended_least_squares': False,\n",
    "    'ylag': 2,  \n",
    "    'xlag': 1, \n",
    "    'basis_function': Polynomial(degree=1)\n",
    "}\n",
    "    \n",
    "fitted_model, model_parameters = sys_id.identify_arx_parameters(x_train=train_df[FEATURES], \n",
    "                                                                y_train= train_df[TARGET],\n",
    "                                                                **parameters)\n",
    "    \n",
    "model_parameters"
   ]
  },
  {
   "cell_type": "code",
   "execution_count": 7,
   "metadata": {},
   "outputs": [
    {
     "name": "stdout",
     "output_type": "stream",
     "text": [
      "RRSE: 0.6233215319258801\n",
      "MSE: 0.0005967271988107548\n"
     ]
    }
   ],
   "source": [
    "yhat  = sys_id.predict(x_test= test_df[FEATURES], y_test= test_df[TARGET], n_steps_ahead= 200)\n",
    "\n",
    "#val_plots = sys_id.residuals_analysis(yhat, df[TARGET].values)\n",
    "#print(model_parameters)"
   ]
  },
  {
   "cell_type": "code",
   "execution_count": 8,
   "metadata": {},
   "outputs": [
    {
     "data": {
      "application/vnd.jupyter.widget-view+json": {
       "model_id": "270380a39722448cbc8402abe25828a3",
       "version_major": 2,
       "version_minor": 0
      },
      "text/plain": [
       "FigureWidgetResampler({\n",
       "    'data': [{'name': '<b style=\"color:sandybrown\">[R]</b> pressure <i style=\"color:#fc9944\">~53m</i>',\n",
       "              'showlegend': True,\n",
       "              'type': 'scattergl',\n",
       "              'uid': '1d0dd355-2bf2-4993-adda-670f06d60984',\n",
       "              'x': array([datetime.datetime(2024, 1, 11, 0, 0, tzinfo=<UTC>),\n",
       "                          datetime.datetime(2024, 1, 11, 0, 28, tzinfo=<UTC>),\n",
       "                          datetime.datetime(2024, 1, 11, 0, 58, tzinfo=<UTC>), ...,\n",
       "                          datetime.datetime(2024, 2, 16, 10, 8, tzinfo=<UTC>),\n",
       "                          datetime.datetime(2024, 2, 16, 11, 2, tzinfo=<UTC>),\n",
       "                          datetime.datetime(2024, 2, 16, 11, 26, tzinfo=<UTC>)], dtype=object),\n",
       "              'y': array([0.60422277, 0.58209249, 0.60835444, ..., 0.6283195 , 0.63881493,\n",
       "                          0.63650554])},\n",
       "             {'name': '<b style=\"color:sandybrown\">[R]</b> yhat <i style=\"color:#fc9944\">~53m</i>',\n",
       "              'showlegend': True,\n",
       "              'type': 'scattergl',\n",
       "              'uid': 'c1347ea9-2036-457f-b3bc-36fc16132bfc',\n",
       "              'x': array([datetime.datetime(2024, 1, 11, 0, 0, tzinfo=<UTC>),\n",
       "                          datetime.datetime(2024, 1, 11, 0, 1, tzinfo=<UTC>),\n",
       "                          datetime.datetime(2024, 1, 11, 1, 27, tzinfo=<UTC>), ...,\n",
       "                          datetime.datetime(2024, 2, 16, 10, 1, tzinfo=<UTC>),\n",
       "                          datetime.datetime(2024, 2, 16, 10, 55, tzinfo=<UTC>),\n",
       "                          datetime.datetime(2024, 2, 16, 11, 26, tzinfo=<UTC>)], dtype=object),\n",
       "              'y': array([0.60422277, 0.5783311 , 0.55427813, ..., 0.66205223, 0.64025767,\n",
       "                          0.65055329])}],\n",
       "    'layout': {'height': 400, 'margin': {'b': 10, 'l': 10, 'r': 10, 't': 10}, 'template': '...'}\n",
       "})"
      ]
     },
     "execution_count": 8,
     "metadata": {},
     "output_type": "execute_result"
    }
   ],
   "source": [
    "test_df[\"yhat\"] = yhat\n",
    "\n",
    "sys_id.plot_features_and_target(test_df, ['pressure', 'yhat'])"
   ]
  },
  {
   "cell_type": "code",
   "execution_count": null,
   "metadata": {},
   "outputs": [],
   "source": []
  }
 ],
 "metadata": {
  "kernelspec": {
   "display_name": "mpc_env",
   "language": "python",
   "name": "python3"
  },
  "language_info": {
   "codemirror_mode": {
    "name": "ipython",
    "version": 3
   },
   "file_extension": ".py",
   "mimetype": "text/x-python",
   "name": "python",
   "nbconvert_exporter": "python",
   "pygments_lexer": "ipython3",
   "version": "3.11.9"
  }
 },
 "nbformat": 4,
 "nbformat_minor": 2
}
